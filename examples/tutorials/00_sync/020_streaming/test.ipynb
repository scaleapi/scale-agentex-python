{
 "cells": [
  {
   "cell_type": "code",
   "execution_count": 15,
   "id": "d1c309d6",
   "metadata": {},
   "outputs": [],
   "source": [
    "AGENT_NAME = \"s020-streaming\""
   ]
  },
  {
   "cell_type": "code",
   "execution_count": 16,
   "id": "36834357",
   "metadata": {},
   "outputs": [],
   "source": [
    "from agentex import Agentex\n",
    "\n",
    "client = Agentex(api_key=\"random\", base_url=\"http://localhost:5003\")"
   ]
  },
  {
   "cell_type": "code",
   "execution_count": 17,
   "id": "9f6e6ef0",
   "metadata": {},
   "outputs": [],
   "source": [
    "# # (Optional) Create a new task. If you don't create a new task, each message will be sent to a new task. The server will create the task for you.\n",
    "\n",
    "# import uuid\n",
    "\n",
    "# TASK_ID = str(uuid.uuid4())[:8]\n",
    "\n",
    "# rpc_response = client.agents.rpc_by_name(\n",
    "#     agent_name=AGENT_NAME,\n",
    "#     method=\"task/create\",\n",
    "#     params={\n",
    "#         \"name\": f\"{TASK_ID}-task\",\n",
    "#         \"params\": {}\n",
    "#     }\n",
    "# )\n",
    "\n",
    "# task = rpc_response.result\n",
    "# print(task)"
   ]
  },
  {
   "cell_type": "code",
   "execution_count": 18,
   "id": "b03b0d37",
   "metadata": {},
   "outputs": [
    {
     "name": "stdout",
     "output_type": "stream",
     "text": [
      "Hello! I can assist you with a variety of tasks, including:\n",
      "\n",
      "1. **Answering Questions**: I can provide information on a wide range of topics, including science, history, technology, and more.\n",
      "2. **Explaining Concepts**: If you need help understanding a concept or topic, I can provide explanations and clarifications.\n",
      "3. **Writing Assistance**: I can help with writing tasks, such as drafting emails, essays, or creative pieces.\n",
      "4. **Language Support**: I can assist with grammar, vocabulary, and writing in different languages.\n",
      "5. **Providing Recommendations**: Whether it's books, movies, or recipes, I can suggest options based on your preferences.\n",
      "6. **Problem-Solving**: I can help you think through problems or brainstorm ideas.\n",
      "\n",
      "If there's something specific you need help with, feel free to ask!\n"
     ]
    }
   ],
   "source": [
    "# Test non streaming response\n",
    "from agentex.types import TaskMessage, TextContent\n",
    "\n",
    "rpc_response = client.agents.rpc_by_name(\n",
    "    agent_name=AGENT_NAME,\n",
    "    method=\"message/send\",\n",
    "    params={\n",
    "        \"content\": {\"type\": \"text\", \"author\": \"user\", \"content\": \"Hello what can you do?\"},\n",
    "        \"stream\": False\n",
    "    }\n",
    ")\n",
    "\n",
    "# # Extract and print just the text content from the response\n",
    "# # The response is expected to be a dict with a \"result\" key containing a list of message dicts\n",
    "if rpc_response and rpc_response.result:\n",
    "    for message in rpc_response.result:\n",
    "        if isinstance(message, TaskMessage):\n",
    "            content = message.content\n",
    "            if isinstance(content, TextContent):\n",
    "                text = content.content\n",
    "                print(text)\n",
    "        else:\n",
    "            print(\"No text content found in response.\")\n"
   ]
  },
  {
   "cell_type": "code",
   "execution_count": 19,
   "id": "79688331",
   "metadata": {},
   "outputs": [
    {
     "name": "stdout",
     "output_type": "stream",
     "text": [
      "Hello! I can help with a variety of tasks, including:\n",
      "\n",
      "1. **Answering Questions**: I can provide information on a wide range of topics, from historical facts to scientific concepts.\n",
      "\n",
      "2. **Providing Explanations**: If you're looking to understand a specific topic better, I can explain it in detail.\n",
      "\n",
      "3. **Offering Writing Assistance**: I can help with writing prompts, editing text, or generating ideas for essays, articles, and more.\n",
      "\n",
      "4. **Solving Problems**: I can assist with math problems, logic puzzles, and more.\n",
      "\n",
      "5. **Learning Support**: I can help with study tips, summarizing information, and creating study guides.\n",
      "\n",
      "6. **Conversational Practice**: If you want to practice a language or just have a chat, I’m here for that too!\n",
      "\n",
      "7. **Recommendation Systems**: I can recommend books, movies, or other media based on your interests.\n",
      "\n",
      "Feel free to ask me anything specific you need help with!"
     ]
    }
   ],
   "source": [
    "# Test streaming response\n",
    "import json\n",
    "from agentex.types import AgentRpcResponse\n",
    "from agentex.types.agent_rpc_result import StreamTaskMessageDelta, StreamTaskMessageFull\n",
    "from agentex.types.text_delta import TextDelta\n",
    "\n",
    "with client.agents.with_streaming_response.rpc_by_name(\n",
    "    agent_name=AGENT_NAME,\n",
    "    method=\"message/send\",\n",
    "    params={\n",
    "        \"content\": {\"type\": \"text\", \"author\": \"user\", \"content\": \"Hello what can you do?\"},\n",
    "        \"stream\": True\n",
    "    }\n",
    ") as response:\n",
    "    for streaming_response_str in response.iter_text():\n",
    "        chunk_rpc_responses = streaming_response_str.split(\"\\n\")\n",
    "        for chunk_rpc_response in chunk_rpc_responses:\n",
    "            if chunk_rpc_response:\n",
    "                chunk_rpc_response_dict = json.loads(chunk_rpc_response)\n",
    "                chunk_rpc_response = AgentRpcResponse.model_validate(chunk_rpc_response_dict)\n",
    "                result = chunk_rpc_response.result\n",
    "                # Print only the text deltas as they arrive or any full messages\n",
    "                if isinstance(result, StreamTaskMessageDelta):\n",
    "                    delta = result.delta\n",
    "                    if isinstance(delta, TextDelta):\n",
    "                        print(delta.text_delta, end=\"\", flush=True)\n",
    "                elif isinstance(result, StreamTaskMessageFull):\n",
    "                    content = result.content\n",
    "                    if isinstance(content, TextContent):\n",
    "                        print(content.content)"
   ]
  },
  {
   "cell_type": "code",
   "execution_count": null,
   "id": "4ffb663c",
   "metadata": {},
   "outputs": [],
   "source": []
  }
 ],
 "metadata": {
  "kernelspec": {
   "display_name": "Python 3",
   "language": "python",
   "name": "python3"
  },
  "language_info": {
   "codemirror_mode": {
    "name": "ipython",
    "version": 3
   },
   "file_extension": ".py",
   "mimetype": "text/x-python",
   "name": "python",
   "nbconvert_exporter": "python",
   "pygments_lexer": "ipython3",
   "version": "3.12.9"
  }
 },
 "nbformat": 4,
 "nbformat_minor": 5
}
