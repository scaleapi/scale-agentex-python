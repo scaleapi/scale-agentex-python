{
 "cells": [
  {
   "cell_type": "code",
   "execution_count": 6,
   "id": "36834357",
   "metadata": {},
   "outputs": [],
   "source": [
    "from agentex import Agentex\n",
    "\n",
    "client = Agentex(base_url=\"http://localhost:5003\")"
   ]
  },
  {
   "cell_type": "code",
   "execution_count": 7,
   "id": "d1c309d6",
   "metadata": {},
   "outputs": [],
   "source": [
    "AGENT_NAME = \"ab020-streaming\""
   ]
  },
  {
   "cell_type": "code",
   "execution_count": 8,
   "id": "9f6e6ef0",
   "metadata": {},
   "outputs": [
    {
     "name": "stdout",
     "output_type": "stream",
     "text": [
      "Task(id='fab911e3-47c5-43f2-9942-382a98d45975', created_at=datetime.datetime(2025, 7, 27, 0, 52, 55, 493055, tzinfo=TzInfo(UTC)), name='69297be2-task', status='RUNNING', status_reason='Task created, forwarding to ACP server', updated_at=datetime.datetime(2025, 7, 27, 0, 52, 55, 493055, tzinfo=TzInfo(UTC)))\n"
     ]
    }
   ],
   "source": [
    "# (REQUIRED) Create a new task. For Agentic agents, you must create a task for messages to be associated with.\n",
    "\n",
    "from typing import cast\n",
    "import uuid\n",
    "\n",
    "from agentex.types import Task\n",
    "\n",
    "TASK_ID = str(uuid.uuid4())[:8]\n",
    "\n",
    "rpc_response = client.agents.rpc_by_name(\n",
    "    agent_name=AGENT_NAME,\n",
    "    method=\"task/create\",\n",
    "    params={\n",
    "        \"name\": f\"{TASK_ID}-task\",\n",
    "        \"params\": {}\n",
    "    }\n",
    ")\n",
    "\n",
    "task = cast(Task, rpc_response.result)\n",
    "print(task)"
   ]
  },
  {
   "cell_type": "code",
   "execution_count": null,
   "id": "b03b0d37",
   "metadata": {},
   "outputs": [
    {
     "name": "stdout",
     "output_type": "stream",
     "text": [
      "Event(id='6f1c066c-f400-49a5-a8bd-afe0f2367b4c', agent_id='ef21f2e7-5bbe-440a-824b-7e89f462a781', sequence_id=203, task_id='fab911e3-47c5-43f2-9942-382a98d45975', content=TextContent(author='user', content='Hello what can you do?', attachments=None, format='plain', style='static', type='text'), created_at=datetime.datetime(2025, 7, 27, 0, 52, 56, 693376, tzinfo=TzInfo(UTC)))\n"
     ]
    }
   ],
   "source": [
    "# Test non streaming response\n",
    "from typing import cast\n",
    "from agentex.types import Event\n",
    "\n",
    "# The response is expected to be a list of TaskMessage objects, which is a union of the following types:\n",
    "# - TextContent: A message with just text content   \n",
    "# - DataContent: A message with JSON-serializable data content\n",
    "# - ToolRequestContent: A message with a tool request, which contains a JSON-serializable request to call a tool\n",
    "# - ToolResponseContent: A message with a tool response, which contains response object from a tool call in its content\n",
    "\n",
    "# When processing the message/send response, if you are expecting more than TextContent, such as DataContent, ToolRequestContent, or ToolResponseContent, you can process them as well\n",
    "\n",
    "rpc_response = client.agents.rpc_by_name(\n",
    "    agent_name=AGENT_NAME,\n",
    "    method=\"event/send\",\n",
    "    params={\n",
    "        \"content\": {\"type\": \"text\", \"author\": \"user\", \"content\": \"Hello what can you do?\"},\n",
    "        \"task_id\": task.id,\n",
    "    }\n",
    ")\n",
    "\n",
    "event = cast(Event, rpc_response.result)\n",
    "print(event)"
   ]
  },
  {
   "cell_type": "code",
   "execution_count": 10,
   "id": "a6927cc0",
   "metadata": {},
   "outputs": [
    {
     "data": {
      "text/html": [
       "<pre style=\"white-space:pre;overflow-x:auto;line-height:normal;font-family:Menlo,'DejaVu Sans Mono',consolas,'Courier New',monospace\"><span style=\"color: #00ffff; text-decoration-color: #00ffff\">╭───────────────────────── </span><span style=\"color: #00ffff; text-decoration-color: #00ffff; font-weight: bold\">USER</span><span style=\"color: #00ffff; text-decoration-color: #00ffff\"> [07/27/2025 00:52:56] ─────────────────────────╮</span>\n",
       "<span style=\"color: #00ffff; text-decoration-color: #00ffff\">│</span> Hello what can you do?                                                       <span style=\"color: #00ffff; text-decoration-color: #00ffff\">│</span>\n",
       "<span style=\"color: #00ffff; text-decoration-color: #00ffff\">╰──────────────────────────────────────────────────────────────────────────────╯</span>\n",
       "</pre>\n"
      ],
      "text/plain": [
       "\u001b[96m╭─\u001b[0m\u001b[96m────────────────────────\u001b[0m\u001b[96m \u001b[0m\u001b[1;96mUSER\u001b[0m\u001b[96m [07/27/2025 00:52:56] \u001b[0m\u001b[96m────────────────────────\u001b[0m\u001b[96m─╮\u001b[0m\n",
       "\u001b[96m│\u001b[0m Hello what can you do?                                                       \u001b[96m│\u001b[0m\n",
       "\u001b[96m╰──────────────────────────────────────────────────────────────────────────────╯\u001b[0m\n"
      ]
     },
     "metadata": {},
     "output_type": "display_data"
    },
    {
     "name": "stdout",
     "output_type": "stream",
     "text": [
      "                        \r"
     ]
    },
    {
     "data": {
      "text/html": [
       "<pre style=\"white-space:pre;overflow-x:auto;line-height:normal;font-family:Menlo,'DejaVu Sans Mono',consolas,'Courier New',monospace\"><span style=\"color: #00ff00; text-decoration-color: #00ff00\">╭──────────────────────── </span><span style=\"color: #00ff00; text-decoration-color: #00ff00; font-weight: bold\">AGENT</span><span style=\"color: #00ff00; text-decoration-color: #00ff00\"> [07/27/2025 00:52:56] ─────────────────────────╮</span>\n",
       "<span style=\"color: #00ff00; text-decoration-color: #00ff00\">│</span> Hello! I can assist you with a variety of tasks, such as:                    <span style=\"color: #00ff00; text-decoration-color: #00ff00\">│</span>\n",
       "<span style=\"color: #00ff00; text-decoration-color: #00ff00\">│</span>                                                                              <span style=\"color: #00ff00; text-decoration-color: #00ff00\">│</span>\n",
       "<span style=\"color: #00ff00; text-decoration-color: #00ff00\">│</span> <span style=\"color: #808000; text-decoration-color: #808000; font-weight: bold\"> 1 </span>Answering questions on a wide range of topics, including science,         <span style=\"color: #00ff00; text-decoration-color: #00ff00\">│</span>\n",
       "<span style=\"color: #00ff00; text-decoration-color: #00ff00\">│</span> <span style=\"color: #808000; text-decoration-color: #808000; font-weight: bold\">   </span>history, technology, and more.                                            <span style=\"color: #00ff00; text-decoration-color: #00ff00\">│</span>\n",
       "<span style=\"color: #00ff00; text-decoration-color: #00ff00\">│</span> <span style=\"color: #808000; text-decoration-color: #808000; font-weight: bold\"> 2 </span>Providing explanations and summaries of complex concepts.                 <span style=\"color: #00ff00; text-decoration-color: #00ff00\">│</span>\n",
       "<span style=\"color: #00ff00; text-decoration-color: #00ff00\">│</span> <span style=\"color: #808000; text-decoration-color: #808000; font-weight: bold\"> 3 </span>Assisting with language translations and grammar checks.                  <span style=\"color: #00ff00; text-decoration-color: #00ff00\">│</span>\n",
       "<span style=\"color: #00ff00; text-decoration-color: #00ff00\">│</span> <span style=\"color: #808000; text-decoration-color: #808000; font-weight: bold\"> 4 </span>Offering writing tips, editing assistance, and brainstorming ideas for    <span style=\"color: #00ff00; text-decoration-color: #00ff00\">│</span>\n",
       "<span style=\"color: #00ff00; text-decoration-color: #00ff00\">│</span> <span style=\"color: #808000; text-decoration-color: #808000; font-weight: bold\">   </span>creative projects.                                                        <span style=\"color: #00ff00; text-decoration-color: #00ff00\">│</span>\n",
       "<span style=\"color: #00ff00; text-decoration-color: #00ff00\">│</span> <span style=\"color: #808000; text-decoration-color: #808000; font-weight: bold\"> 5 </span>Giving advice on studying, time management, and organization.             <span style=\"color: #00ff00; text-decoration-color: #00ff00\">│</span>\n",
       "<span style=\"color: #00ff00; text-decoration-color: #00ff00\">│</span> <span style=\"color: #808000; text-decoration-color: #808000; font-weight: bold\"> 6 </span>Sharing information about books, movies, and other media.                 <span style=\"color: #00ff00; text-decoration-color: #00ff00\">│</span>\n",
       "<span style=\"color: #00ff00; text-decoration-color: #00ff00\">│</span> <span style=\"color: #808000; text-decoration-color: #808000; font-weight: bold\"> 7 </span>Engaging in general conversation or providing entertainment.              <span style=\"color: #00ff00; text-decoration-color: #00ff00\">│</span>\n",
       "<span style=\"color: #00ff00; text-decoration-color: #00ff00\">│</span>                                                                              <span style=\"color: #00ff00; text-decoration-color: #00ff00\">│</span>\n",
       "<span style=\"color: #00ff00; text-decoration-color: #00ff00\">│</span> If you have a specific question or need help with something, feel free to    <span style=\"color: #00ff00; text-decoration-color: #00ff00\">│</span>\n",
       "<span style=\"color: #00ff00; text-decoration-color: #00ff00\">│</span> ask!                                                                         <span style=\"color: #00ff00; text-decoration-color: #00ff00\">│</span>\n",
       "<span style=\"color: #00ff00; text-decoration-color: #00ff00\">╰──────────────────────────────────────────────────────────────────────────────╯</span>\n",
       "</pre>\n"
      ],
      "text/plain": [
       "\u001b[92m╭─\u001b[0m\u001b[92m───────────────────────\u001b[0m\u001b[92m \u001b[0m\u001b[1;92mAGENT\u001b[0m\u001b[92m [07/27/2025 00:52:56] \u001b[0m\u001b[92m────────────────────────\u001b[0m\u001b[92m─╮\u001b[0m\n",
       "\u001b[92m│\u001b[0m Hello! I can assist you with a variety of tasks, such as:                    \u001b[92m│\u001b[0m\n",
       "\u001b[92m│\u001b[0m                                                                              \u001b[92m│\u001b[0m\n",
       "\u001b[92m│\u001b[0m \u001b[1;33m 1 \u001b[0mAnswering questions on a wide range of topics, including science,         \u001b[92m│\u001b[0m\n",
       "\u001b[92m│\u001b[0m \u001b[1;33m   \u001b[0mhistory, technology, and more.                                            \u001b[92m│\u001b[0m\n",
       "\u001b[92m│\u001b[0m \u001b[1;33m 2 \u001b[0mProviding explanations and summaries of complex concepts.                 \u001b[92m│\u001b[0m\n",
       "\u001b[92m│\u001b[0m \u001b[1;33m 3 \u001b[0mAssisting with language translations and grammar checks.                  \u001b[92m│\u001b[0m\n",
       "\u001b[92m│\u001b[0m \u001b[1;33m 4 \u001b[0mOffering writing tips, editing assistance, and brainstorming ideas for    \u001b[92m│\u001b[0m\n",
       "\u001b[92m│\u001b[0m \u001b[1;33m   \u001b[0mcreative projects.                                                        \u001b[92m│\u001b[0m\n",
       "\u001b[92m│\u001b[0m \u001b[1;33m 5 \u001b[0mGiving advice on studying, time management, and organization.             \u001b[92m│\u001b[0m\n",
       "\u001b[92m│\u001b[0m \u001b[1;33m 6 \u001b[0mSharing information about books, movies, and other media.                 \u001b[92m│\u001b[0m\n",
       "\u001b[92m│\u001b[0m \u001b[1;33m 7 \u001b[0mEngaging in general conversation or providing entertainment.              \u001b[92m│\u001b[0m\n",
       "\u001b[92m│\u001b[0m                                                                              \u001b[92m│\u001b[0m\n",
       "\u001b[92m│\u001b[0m If you have a specific question or need help with something, feel free to    \u001b[92m│\u001b[0m\n",
       "\u001b[92m│\u001b[0m ask!                                                                         \u001b[92m│\u001b[0m\n",
       "\u001b[92m╰──────────────────────────────────────────────────────────────────────────────╯\u001b[0m\n"
      ]
     },
     "metadata": {},
     "output_type": "display_data"
    },
    {
     "name": "stdout",
     "output_type": "stream",
     "text": [
      "Streaming timed out after 5 seconds - returning collected messages\n"
     ]
    }
   ],
   "source": [
    "from agentex.lib.utils.dev_tools import subscribe_to_async_task_messages\n",
    "\n",
    "task_messages = subscribe_to_async_task_messages(\n",
    "    client=client,\n",
    "    task=task, \n",
    "    only_after_timestamp=event.created_at, \n",
    "    print_messages=True,\n",
    "    rich_print=True,\n",
    "    timeout=5,\n",
    ")"
   ]
  },
  {
   "cell_type": "code",
   "execution_count": null,
   "id": "6470ae58",
   "metadata": {},
   "outputs": [],
   "source": []
  }
 ],
 "metadata": {
  "kernelspec": {
   "display_name": ".venv",
   "language": "python",
   "name": "python3"
  },
  "language_info": {
   "codemirror_mode": {
    "name": "ipython",
    "version": 3
   },
   "file_extension": ".py",
   "mimetype": "text/x-python",
   "name": "python",
   "nbconvert_exporter": "python",
   "pygments_lexer": "ipython3",
   "version": "3.12.9"
  }
 },
 "nbformat": 4,
 "nbformat_minor": 5
}
