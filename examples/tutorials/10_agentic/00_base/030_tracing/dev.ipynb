{
 "cells": [
  {
   "cell_type": "code",
   "execution_count": 1,
   "id": "36834357",
   "metadata": {},
   "outputs": [],
   "source": [
    "from agentex import Agentex\n",
    "\n",
    "client = Agentex(base_url=\"http://localhost:5003\")"
   ]
  },
  {
   "cell_type": "code",
   "execution_count": null,
   "id": "d1c309d6",
   "metadata": {},
   "outputs": [],
   "source": [
    "AGENT_NAME = \"ab030-tracing\""
   ]
  },
  {
   "cell_type": "code",
   "execution_count": 3,
   "id": "9f6e6ef0",
   "metadata": {},
   "outputs": [
    {
     "name": "stdout",
     "output_type": "stream",
     "text": [
      "Task(id='13e6c10d-91eb-4410-a680-6b730ca4bf7e', created_at=datetime.datetime(2025, 7, 28, 3, 56, 47, 164208, tzinfo=TzInfo(UTC)), name='454cb225-task', status='RUNNING', status_reason='Task created, forwarding to ACP server', updated_at=datetime.datetime(2025, 7, 28, 3, 56, 47, 164208, tzinfo=TzInfo(UTC)))\n"
     ]
    }
   ],
   "source": [
    "# (REQUIRED) Create a new task. For Agentic agents, you must create a task for messages to be associated with.\n",
    "import uuid\n",
    "\n",
    "rpc_response = client.agents.create_task(\n",
    "    agent_name=AGENT_NAME,\n",
    "    params={\n",
    "        \"name\": f\"{str(uuid.uuid4())[:8]}-task\",\n",
    "        \"params\": {}\n",
    "    }\n",
    ")\n",
    "\n",
    "task = rpc_response.result\n",
    "print(task)"
   ]
  },
  {
   "cell_type": "code",
   "execution_count": 4,
   "id": "b03b0d37",
   "metadata": {},
   "outputs": [
    {
     "name": "stdout",
     "output_type": "stream",
     "text": [
      "Event(id='8b547636-205b-4f5e-9356-797de5b45de8', agent_id='ef21f2e7-5bbe-440a-824b-7e89f462a781', sequence_id=244, task_id='13e6c10d-91eb-4410-a680-6b730ca4bf7e', content=TextContent(author='user', content='Hello what can you do?', attachments=None, format='plain', style='static', type='text'), created_at=datetime.datetime(2025, 7, 28, 3, 56, 47, 689616, tzinfo=TzInfo(UTC)))\n"
     ]
    }
   ],
   "source": [
    "# Send an event to the agent\n",
    "\n",
    "# The response is expected to be a list of TaskMessage objects, which is a union of the following types:\n",
    "# - TextContent: A message with just text content   \n",
    "# - DataContent: A message with JSON-serializable data content\n",
    "# - ToolRequestContent: A message with a tool request, which contains a JSON-serializable request to call a tool\n",
    "# - ToolResponseContent: A message with a tool response, which contains response object from a tool call in its content\n",
    "\n",
    "# When processing the message/send response, if you are expecting more than TextContent, such as DataContent, ToolRequestContent, or ToolResponseContent, you can process them as well\n",
    "\n",
    "rpc_response = client.agents.send_event(\n",
    "    agent_name=AGENT_NAME,\n",
    "    params={\n",
    "        \"content\": {\"type\": \"text\", \"author\": \"user\", \"content\": \"Hello what can you do?\"},\n",
    "        \"task_id\": task.id,\n",
    "    }\n",
    ")\n",
    "\n",
    "event = rpc_response.result\n",
    "print(event)"
   ]
  },
  {
   "cell_type": "code",
   "execution_count": 5,
   "id": "a6927cc0",
   "metadata": {},
   "outputs": [
    {
     "data": {
      "text/html": [
       "<pre style=\"white-space:pre;overflow-x:auto;line-height:normal;font-family:Menlo,'DejaVu Sans Mono',consolas,'Courier New',monospace\"><span style=\"color: #00ffff; text-decoration-color: #00ffff\">╭───────────────────────── </span><span style=\"color: #00ffff; text-decoration-color: #00ffff; font-weight: bold\">USER</span><span style=\"color: #00ffff; text-decoration-color: #00ffff\"> [07/28/2025 03:56:47] ─────────────────────────╮</span>\n",
       "<span style=\"color: #00ffff; text-decoration-color: #00ffff\">│</span> Hello what can you do?                                                       <span style=\"color: #00ffff; text-decoration-color: #00ffff\">│</span>\n",
       "<span style=\"color: #00ffff; text-decoration-color: #00ffff\">╰──────────────────────────────────────────────────────────────────────────────╯</span>\n",
       "</pre>\n"
      ],
      "text/plain": [
       "\u001b[96m╭─\u001b[0m\u001b[96m────────────────────────\u001b[0m\u001b[96m \u001b[0m\u001b[1;96mUSER\u001b[0m\u001b[96m [07/28/2025 03:56:47] \u001b[0m\u001b[96m────────────────────────\u001b[0m\u001b[96m─╮\u001b[0m\n",
       "\u001b[96m│\u001b[0m Hello what can you do?                                                       \u001b[96m│\u001b[0m\n",
       "\u001b[96m╰──────────────────────────────────────────────────────────────────────────────╯\u001b[0m\n"
      ]
     },
     "metadata": {},
     "output_type": "display_data"
    },
    {
     "name": "stdout",
     "output_type": "stream",
     "text": [
      "                        \r"
     ]
    },
    {
     "data": {
      "text/html": [
       "<pre style=\"white-space:pre;overflow-x:auto;line-height:normal;font-family:Menlo,'DejaVu Sans Mono',consolas,'Courier New',monospace\"><span style=\"color: #008000; text-decoration-color: #008000\">╭──────────────────────── </span><span style=\"color: #008000; text-decoration-color: #008000; font-weight: bold\">AGENT</span><span style=\"color: #008000; text-decoration-color: #008000\"> [07/28/2025 03:56:47] ─────────────────────────╮</span>\n",
       "<span style=\"color: #008000; text-decoration-color: #008000\">│</span> Hello! I can assist you with a variety of tasks, including:                  <span style=\"color: #008000; text-decoration-color: #008000\">│</span>\n",
       "<span style=\"color: #008000; text-decoration-color: #008000\">│</span>                                                                              <span style=\"color: #008000; text-decoration-color: #008000\">│</span>\n",
       "<span style=\"color: #008000; text-decoration-color: #008000\">│</span> <span style=\"color: #808000; text-decoration-color: #808000; font-weight: bold\"> 1 </span><span style=\"font-weight: bold\">Answering Questions</span>: I can provide information on a wide range of topics, <span style=\"color: #008000; text-decoration-color: #008000\">│</span>\n",
       "<span style=\"color: #008000; text-decoration-color: #008000\">│</span> <span style=\"color: #808000; text-decoration-color: #808000; font-weight: bold\">   </span>from science and history to technology and culture.                       <span style=\"color: #008000; text-decoration-color: #008000\">│</span>\n",
       "<span style=\"color: #008000; text-decoration-color: #008000\">│</span> <span style=\"color: #808000; text-decoration-color: #808000; font-weight: bold\"> 2 </span><span style=\"font-weight: bold\">Providing Explanations</span>: I can explain concepts or topics in detail,       <span style=\"color: #008000; text-decoration-color: #008000\">│</span>\n",
       "<span style=\"color: #008000; text-decoration-color: #008000\">│</span> <span style=\"color: #808000; text-decoration-color: #808000; font-weight: bold\">   </span>whether they are academic, technical, or general knowledge.               <span style=\"color: #008000; text-decoration-color: #008000\">│</span>\n",
       "<span style=\"color: #008000; text-decoration-color: #008000\">│</span> <span style=\"color: #808000; text-decoration-color: #808000; font-weight: bold\"> 3 </span><span style=\"font-weight: bold\">Offering Suggestions</span>: I can give recommendations, such as book            <span style=\"color: #008000; text-decoration-color: #008000\">│</span>\n",
       "<span style=\"color: #008000; text-decoration-color: #008000\">│</span> <span style=\"color: #808000; text-decoration-color: #808000; font-weight: bold\">   </span>suggestions, movie picks, or travel destinations based on your interests. <span style=\"color: #008000; text-decoration-color: #008000\">│</span>\n",
       "<span style=\"color: #008000; text-decoration-color: #008000\">│</span> <span style=\"color: #808000; text-decoration-color: #808000; font-weight: bold\"> 4 </span><span style=\"font-weight: bold\">Writing Assistance</span>: I can help with writing tasks, including drafting     <span style=\"color: #008000; text-decoration-color: #008000\">│</span>\n",
       "<span style=\"color: #008000; text-decoration-color: #008000\">│</span> <span style=\"color: #808000; text-decoration-color: #808000; font-weight: bold\">   </span>emails, essays, or creative writing prompts.                              <span style=\"color: #008000; text-decoration-color: #008000\">│</span>\n",
       "<span style=\"color: #008000; text-decoration-color: #008000\">│</span> <span style=\"color: #808000; text-decoration-color: #808000; font-weight: bold\"> 5 </span><span style=\"font-weight: bold\">Language Translation</span>: I can translate text between several languages.     <span style=\"color: #008000; text-decoration-color: #008000\">│</span>\n",
       "<span style=\"color: #008000; text-decoration-color: #008000\">│</span> <span style=\"color: #808000; text-decoration-color: #808000; font-weight: bold\"> 6 </span><span style=\"font-weight: bold\">Problem Solving</span>: I can assist with problem-solving in areas like math,    <span style=\"color: #008000; text-decoration-color: #008000\">│</span>\n",
       "<span style=\"color: #008000; text-decoration-color: #008000\">│</span> <span style=\"color: #808000; text-decoration-color: #808000; font-weight: bold\">   </span>coding, or brainstorming ideas.                                           <span style=\"color: #008000; text-decoration-color: #008000\">│</span>\n",
       "<span style=\"color: #008000; text-decoration-color: #008000\">│</span> <span style=\"color: #808000; text-decoration-color: #808000; font-weight: bold\"> 7 </span><span style=\"font-weight: bold\">Learning Resources</span>: I can suggest resources for further learning on a     <span style=\"color: #008000; text-decoration-color: #008000\">│</span>\n",
       "<span style=\"color: #008000; text-decoration-color: #008000\">│</span> <span style=\"color: #808000; text-decoration-color: #808000; font-weight: bold\">   </span>variety of subjects.                                                      <span style=\"color: #008000; text-decoration-color: #008000\">│</span>\n",
       "<span style=\"color: #008000; text-decoration-color: #008000\">│</span>                                                                              <span style=\"color: #008000; text-decoration-color: #008000\">│</span>\n",
       "<span style=\"color: #008000; text-decoration-color: #008000\">│</span> If there's something specific you want help with, feel free to ask!          <span style=\"color: #008000; text-decoration-color: #008000\">│</span>\n",
       "<span style=\"color: #008000; text-decoration-color: #008000\">╰──────────────────────────────────────────────────────────────────────────────╯</span>\n",
       "</pre>\n"
      ],
      "text/plain": [
       "\u001b[32m╭─\u001b[0m\u001b[32m───────────────────────\u001b[0m\u001b[32m \u001b[0m\u001b[1;32mAGENT\u001b[0m\u001b[32m [07/28/2025 03:56:47] \u001b[0m\u001b[32m────────────────────────\u001b[0m\u001b[32m─╮\u001b[0m\n",
       "\u001b[32m│\u001b[0m Hello! I can assist you with a variety of tasks, including:                  \u001b[32m│\u001b[0m\n",
       "\u001b[32m│\u001b[0m                                                                              \u001b[32m│\u001b[0m\n",
       "\u001b[32m│\u001b[0m \u001b[1;33m 1 \u001b[0m\u001b[1mAnswering Questions\u001b[0m: I can provide information on a wide range of topics, \u001b[32m│\u001b[0m\n",
       "\u001b[32m│\u001b[0m \u001b[1;33m   \u001b[0mfrom science and history to technology and culture.                       \u001b[32m│\u001b[0m\n",
       "\u001b[32m│\u001b[0m \u001b[1;33m 2 \u001b[0m\u001b[1mProviding Explanations\u001b[0m: I can explain concepts or topics in detail,       \u001b[32m│\u001b[0m\n",
       "\u001b[32m│\u001b[0m \u001b[1;33m   \u001b[0mwhether they are academic, technical, or general knowledge.               \u001b[32m│\u001b[0m\n",
       "\u001b[32m│\u001b[0m \u001b[1;33m 3 \u001b[0m\u001b[1mOffering Suggestions\u001b[0m: I can give recommendations, such as book            \u001b[32m│\u001b[0m\n",
       "\u001b[32m│\u001b[0m \u001b[1;33m   \u001b[0msuggestions, movie picks, or travel destinations based on your interests. \u001b[32m│\u001b[0m\n",
       "\u001b[32m│\u001b[0m \u001b[1;33m 4 \u001b[0m\u001b[1mWriting Assistance\u001b[0m: I can help with writing tasks, including drafting     \u001b[32m│\u001b[0m\n",
       "\u001b[32m│\u001b[0m \u001b[1;33m   \u001b[0memails, essays, or creative writing prompts.                              \u001b[32m│\u001b[0m\n",
       "\u001b[32m│\u001b[0m \u001b[1;33m 5 \u001b[0m\u001b[1mLanguage Translation\u001b[0m: I can translate text between several languages.     \u001b[32m│\u001b[0m\n",
       "\u001b[32m│\u001b[0m \u001b[1;33m 6 \u001b[0m\u001b[1mProblem Solving\u001b[0m: I can assist with problem-solving in areas like math,    \u001b[32m│\u001b[0m\n",
       "\u001b[32m│\u001b[0m \u001b[1;33m   \u001b[0mcoding, or brainstorming ideas.                                           \u001b[32m│\u001b[0m\n",
       "\u001b[32m│\u001b[0m \u001b[1;33m 7 \u001b[0m\u001b[1mLearning Resources\u001b[0m: I can suggest resources for further learning on a     \u001b[32m│\u001b[0m\n",
       "\u001b[32m│\u001b[0m \u001b[1;33m   \u001b[0mvariety of subjects.                                                      \u001b[32m│\u001b[0m\n",
       "\u001b[32m│\u001b[0m                                                                              \u001b[32m│\u001b[0m\n",
       "\u001b[32m│\u001b[0m If there's something specific you want help with, feel free to ask!          \u001b[32m│\u001b[0m\n",
       "\u001b[32m╰──────────────────────────────────────────────────────────────────────────────╯\u001b[0m\n"
      ]
     },
     "metadata": {},
     "output_type": "display_data"
    },
    {
     "name": "stdout",
     "output_type": "stream",
     "text": [
      "Streaming timed out after 5 seconds - returning collected messages\n"
     ]
    }
   ],
   "source": [
    "# Subscribe to the async task messages produced by the agent\n",
    "from agentex.lib.utils.dev_tools import subscribe_to_async_task_messages\n",
    "\n",
    "task_messages = subscribe_to_async_task_messages(\n",
    "    client=client,\n",
    "    task=task, \n",
    "    only_after_timestamp=event.created_at, \n",
    "    print_messages=True,\n",
    "    rich_print=True,\n",
    "    timeout=5,\n",
    ")"
   ]
  },
  {
   "cell_type": "code",
   "execution_count": null,
   "id": "4864e354",
   "metadata": {},
   "outputs": [],
   "source": []
  }
 ],
 "metadata": {
  "kernelspec": {
   "display_name": ".venv",
   "language": "python",
   "name": "python3"
  },
  "language_info": {
   "codemirror_mode": {
    "name": "ipython",
    "version": 3
   },
   "file_extension": ".py",
   "mimetype": "text/x-python",
   "name": "python",
   "nbconvert_exporter": "python",
   "pygments_lexer": "ipython3",
   "version": "3.12.9"
  }
 },
 "nbformat": 4,
 "nbformat_minor": 5
}
