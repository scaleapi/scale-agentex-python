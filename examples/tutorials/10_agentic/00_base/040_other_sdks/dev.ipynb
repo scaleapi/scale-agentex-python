{
 "cells": [
  {
   "cell_type": "code",
   "execution_count": 1,
   "id": "36834357",
   "metadata": {},
   "outputs": [],
   "source": [
    "from agentex import Agentex\n",
    "\n",
    "client = Agentex(base_url=\"http://localhost:5003\")"
   ]
  },
  {
   "cell_type": "code",
   "execution_count": 2,
   "id": "d1c309d6",
   "metadata": {},
   "outputs": [],
   "source": [
    "AGENT_NAME = \"ab040-other-sdks\""
   ]
  },
  {
   "cell_type": "code",
   "execution_count": 3,
   "id": "9f6e6ef0",
   "metadata": {},
   "outputs": [
    {
     "name": "stdout",
     "output_type": "stream",
     "text": [
      "Task(id='06d6c79f-e74e-42af-a8ca-36d5ed991822', created_at=datetime.datetime(2025, 7, 28, 3, 58, 3, 842049, tzinfo=TzInfo(UTC)), name='7a80a27a-task', status='RUNNING', status_reason='Task created, forwarding to ACP server', updated_at=datetime.datetime(2025, 7, 28, 3, 58, 3, 842049, tzinfo=TzInfo(UTC)))\n"
     ]
    }
   ],
   "source": [
    "# (REQUIRED) Create a new task. For Agentic agents, you must create a task for messages to be associated with.\n",
    "import uuid\n",
    "\n",
    "rpc_response = client.agents.create_task(\n",
    "    agent_name=AGENT_NAME,\n",
    "    params={\n",
    "        \"name\": f\"{str(uuid.uuid4())[:8]}-task\",\n",
    "        \"params\": {}\n",
    "    }\n",
    ")\n",
    "\n",
    "task = rpc_response.result\n",
    "print(task)"
   ]
  },
  {
   "cell_type": "code",
   "execution_count": 4,
   "id": "b03b0d37",
   "metadata": {},
   "outputs": [
    {
     "name": "stdout",
     "output_type": "stream",
     "text": [
      "Event(id='8b5edcdb-ca36-423d-88e5-0f3f7b42f2e5', agent_id='cd4b9256-144b-4aef-949b-f9000995013b', sequence_id=245, task_id='06d6c79f-e74e-42af-a8ca-36d5ed991822', content=TextContent(author='user', content='Hello tell me the latest news about AI and AI startups', attachments=None, format='plain', style='static', type='text'), created_at=datetime.datetime(2025, 7, 28, 3, 58, 4, 299604, tzinfo=TzInfo(UTC)))\n"
     ]
    }
   ],
   "source": [
    "# Send an event to the agent\n",
    "\n",
    "# The response is expected to be a list of TaskMessage objects, which is a union of the following types:\n",
    "# - TextContent: A message with just text content   \n",
    "# - DataContent: A message with JSON-serializable data content\n",
    "# - ToolRequestContent: A message with a tool request, which contains a JSON-serializable request to call a tool\n",
    "# - ToolResponseContent: A message with a tool response, which contains response object from a tool call in its content\n",
    "\n",
    "# When processing the message/send response, if you are expecting more than TextContent, such as DataContent, ToolRequestContent, or ToolResponseContent, you can process them as well\n",
    "\n",
    "rpc_response = client.agents.send_event(\n",
    "    agent_name=AGENT_NAME,\n",
    "    params={\n",
    "        \"content\": {\"type\": \"text\", \"author\": \"user\", \"content\": \"Hello tell me the latest news about AI and AI startups\"},\n",
    "        \"task_id\": task.id,\n",
    "    }\n",
    ")\n",
    "\n",
    "event = rpc_response.result\n",
    "print(event)"
   ]
  },
  {
   "cell_type": "code",
   "execution_count": 6,
   "id": "a6927cc0",
   "metadata": {},
   "outputs": [
    {
     "data": {
      "text/html": [
       "<pre style=\"white-space:pre;overflow-x:auto;line-height:normal;font-family:Menlo,'DejaVu Sans Mono',consolas,'Courier New',monospace\"><span style=\"color: #00ffff; text-decoration-color: #00ffff\">╭───────────────────────── </span><span style=\"color: #00ffff; text-decoration-color: #00ffff; font-weight: bold\">USER</span><span style=\"color: #00ffff; text-decoration-color: #00ffff\"> [07/28/2025 03:58:04] ─────────────────────────╮</span>\n",
       "<span style=\"color: #00ffff; text-decoration-color: #00ffff\">│</span> Hello tell me the latest news about AI and AI startups                       <span style=\"color: #00ffff; text-decoration-color: #00ffff\">│</span>\n",
       "<span style=\"color: #00ffff; text-decoration-color: #00ffff\">╰──────────────────────────────────────────────────────────────────────────────╯</span>\n",
       "</pre>\n"
      ],
      "text/plain": [
       "\u001b[96m╭─\u001b[0m\u001b[96m────────────────────────\u001b[0m\u001b[96m \u001b[0m\u001b[1;96mUSER\u001b[0m\u001b[96m [07/28/2025 03:58:04] \u001b[0m\u001b[96m────────────────────────\u001b[0m\u001b[96m─╮\u001b[0m\n",
       "\u001b[96m│\u001b[0m Hello tell me the latest news about AI and AI startups                       \u001b[96m│\u001b[0m\n",
       "\u001b[96m╰──────────────────────────────────────────────────────────────────────────────╯\u001b[0m\n"
      ]
     },
     "metadata": {},
     "output_type": "display_data"
    },
    {
     "name": "stdout",
     "output_type": "stream",
     "text": [
      "                        \r"
     ]
    },
    {
     "data": {
      "text/html": [
       "<pre style=\"white-space:pre;overflow-x:auto;line-height:normal;font-family:Menlo,'DejaVu Sans Mono',consolas,'Courier New',monospace\"><span style=\"color: #808000; text-decoration-color: #808000\">╭──────────────────────── </span><span style=\"color: #008000; text-decoration-color: #008000; font-weight: bold\">AGENT</span><span style=\"color: #808000; text-decoration-color: #808000\"> [07/28/2025 03:58:16] ─────────────────────────╮</span>\n",
       "<span style=\"color: #808000; text-decoration-color: #808000\">│</span> 🔧 <span style=\"font-weight: bold\">Tool Request: web_search</span>                                                  <span style=\"color: #808000; text-decoration-color: #808000\">│</span>\n",
       "<span style=\"color: #808000; text-decoration-color: #808000\">│</span>                                                                              <span style=\"color: #808000; text-decoration-color: #808000\">│</span>\n",
       "<span style=\"color: #808000; text-decoration-color: #808000\">│</span> <span style=\"font-weight: bold\">Arguments:</span>                                                                   <span style=\"color: #808000; text-decoration-color: #808000\">│</span>\n",
       "<span style=\"color: #808000; text-decoration-color: #808000\">│</span>                                                                              <span style=\"color: #808000; text-decoration-color: #808000\">│</span>\n",
       "<span style=\"color: #808000; text-decoration-color: #808000\">│</span> <span style=\"background-color: #272822\">                                                                            </span> <span style=\"color: #808000; text-decoration-color: #808000\">│</span>\n",
       "<span style=\"color: #808000; text-decoration-color: #808000\">│</span> <span style=\"background-color: #272822\"> </span><span style=\"color: #f8f8f2; text-decoration-color: #f8f8f2; background-color: #272822\">{</span><span style=\"background-color: #272822\">                                                                          </span> <span style=\"color: #808000; text-decoration-color: #808000\">│</span>\n",
       "<span style=\"color: #808000; text-decoration-color: #808000\">│</span> <span style=\"background-color: #272822\"> </span><span style=\"color: #f8f8f2; text-decoration-color: #f8f8f2; background-color: #272822\">  </span><span style=\"color: #ff4689; text-decoration-color: #ff4689; background-color: #272822\">\"input\"</span><span style=\"color: #f8f8f2; text-decoration-color: #f8f8f2; background-color: #272822\">: </span><span style=\"color: #e6db74; text-decoration-color: #e6db74; background-color: #272822\">\"latest news about AI and AI startups\"</span><span style=\"color: #f8f8f2; text-decoration-color: #f8f8f2; background-color: #272822\">,</span><span style=\"background-color: #272822\">                         </span> <span style=\"color: #808000; text-decoration-color: #808000\">│</span>\n",
       "<span style=\"color: #808000; text-decoration-color: #808000\">│</span> <span style=\"background-color: #272822\"> </span><span style=\"color: #f8f8f2; text-decoration-color: #f8f8f2; background-color: #272822\">  </span><span style=\"color: #ff4689; text-decoration-color: #ff4689; background-color: #272822\">\"model\"</span><span style=\"color: #f8f8f2; text-decoration-color: #f8f8f2; background-color: #272822\">: </span><span style=\"color: #e6db74; text-decoration-color: #e6db74; background-color: #272822\">\"gpt-4o-mini\"</span><span style=\"color: #f8f8f2; text-decoration-color: #f8f8f2; background-color: #272822\">,</span><span style=\"background-color: #272822\">                                                  </span> <span style=\"color: #808000; text-decoration-color: #808000\">│</span>\n",
       "<span style=\"color: #808000; text-decoration-color: #808000\">│</span> <span style=\"background-color: #272822\"> </span><span style=\"color: #f8f8f2; text-decoration-color: #f8f8f2; background-color: #272822\">  </span><span style=\"color: #ff4689; text-decoration-color: #ff4689; background-color: #272822\">\"type\"</span><span style=\"color: #f8f8f2; text-decoration-color: #f8f8f2; background-color: #272822\">: </span><span style=\"color: #e6db74; text-decoration-color: #e6db74; background-color: #272822\">\"web_search_preview\"</span><span style=\"background-color: #272822\">                                             </span> <span style=\"color: #808000; text-decoration-color: #808000\">│</span>\n",
       "<span style=\"color: #808000; text-decoration-color: #808000\">│</span> <span style=\"background-color: #272822\"> </span><span style=\"color: #f8f8f2; text-decoration-color: #f8f8f2; background-color: #272822\">}</span><span style=\"background-color: #272822\">                                                                          </span> <span style=\"color: #808000; text-decoration-color: #808000\">│</span>\n",
       "<span style=\"color: #808000; text-decoration-color: #808000\">│</span> <span style=\"background-color: #272822\">                                                                            </span> <span style=\"color: #808000; text-decoration-color: #808000\">│</span>\n",
       "<span style=\"color: #808000; text-decoration-color: #808000\">╰──────────────────────────────────────────────────────────────────────────────╯</span>\n",
       "</pre>\n"
      ],
      "text/plain": [
       "\u001b[33m╭─\u001b[0m\u001b[33m───────────────────────\u001b[0m\u001b[33m \u001b[0m\u001b[1;32mAGENT\u001b[0m\u001b[33m [07/28/2025 03:58:16] \u001b[0m\u001b[33m────────────────────────\u001b[0m\u001b[33m─╮\u001b[0m\n",
       "\u001b[33m│\u001b[0m 🔧 \u001b[1mTool Request: web_search\u001b[0m                                                  \u001b[33m│\u001b[0m\n",
       "\u001b[33m│\u001b[0m                                                                              \u001b[33m│\u001b[0m\n",
       "\u001b[33m│\u001b[0m \u001b[1mArguments:\u001b[0m                                                                   \u001b[33m│\u001b[0m\n",
       "\u001b[33m│\u001b[0m                                                                              \u001b[33m│\u001b[0m\n",
       "\u001b[33m│\u001b[0m \u001b[48;2;39;40;34m                                                                            \u001b[0m \u001b[33m│\u001b[0m\n",
       "\u001b[33m│\u001b[0m \u001b[48;2;39;40;34m \u001b[0m\u001b[38;2;248;248;242;48;2;39;40;34m{\u001b[0m\u001b[48;2;39;40;34m                                                                         \u001b[0m\u001b[48;2;39;40;34m \u001b[0m \u001b[33m│\u001b[0m\n",
       "\u001b[33m│\u001b[0m \u001b[48;2;39;40;34m \u001b[0m\u001b[38;2;248;248;242;48;2;39;40;34m  \u001b[0m\u001b[38;2;255;70;137;48;2;39;40;34m\"input\"\u001b[0m\u001b[38;2;248;248;242;48;2;39;40;34m:\u001b[0m\u001b[38;2;248;248;242;48;2;39;40;34m \u001b[0m\u001b[38;2;230;219;116;48;2;39;40;34m\"latest news about AI and AI startups\"\u001b[0m\u001b[38;2;248;248;242;48;2;39;40;34m,\u001b[0m\u001b[48;2;39;40;34m                        \u001b[0m\u001b[48;2;39;40;34m \u001b[0m \u001b[33m│\u001b[0m\n",
       "\u001b[33m│\u001b[0m \u001b[48;2;39;40;34m \u001b[0m\u001b[38;2;248;248;242;48;2;39;40;34m  \u001b[0m\u001b[38;2;255;70;137;48;2;39;40;34m\"model\"\u001b[0m\u001b[38;2;248;248;242;48;2;39;40;34m:\u001b[0m\u001b[38;2;248;248;242;48;2;39;40;34m \u001b[0m\u001b[38;2;230;219;116;48;2;39;40;34m\"gpt-4o-mini\"\u001b[0m\u001b[38;2;248;248;242;48;2;39;40;34m,\u001b[0m\u001b[48;2;39;40;34m                                                 \u001b[0m\u001b[48;2;39;40;34m \u001b[0m \u001b[33m│\u001b[0m\n",
       "\u001b[33m│\u001b[0m \u001b[48;2;39;40;34m \u001b[0m\u001b[38;2;248;248;242;48;2;39;40;34m  \u001b[0m\u001b[38;2;255;70;137;48;2;39;40;34m\"type\"\u001b[0m\u001b[38;2;248;248;242;48;2;39;40;34m:\u001b[0m\u001b[38;2;248;248;242;48;2;39;40;34m \u001b[0m\u001b[38;2;230;219;116;48;2;39;40;34m\"web_search_preview\"\u001b[0m\u001b[48;2;39;40;34m                                            \u001b[0m\u001b[48;2;39;40;34m \u001b[0m \u001b[33m│\u001b[0m\n",
       "\u001b[33m│\u001b[0m \u001b[48;2;39;40;34m \u001b[0m\u001b[38;2;248;248;242;48;2;39;40;34m}\u001b[0m\u001b[48;2;39;40;34m                                                                         \u001b[0m\u001b[48;2;39;40;34m \u001b[0m \u001b[33m│\u001b[0m\n",
       "\u001b[33m│\u001b[0m \u001b[48;2;39;40;34m                                                                            \u001b[0m \u001b[33m│\u001b[0m\n",
       "\u001b[33m╰──────────────────────────────────────────────────────────────────────────────╯\u001b[0m\n"
      ]
     },
     "metadata": {},
     "output_type": "display_data"
    },
    {
     "name": "stdout",
     "output_type": "stream",
     "text": [
      "                        \r"
     ]
    },
    {
     "data": {
      "text/html": [
       "<pre style=\"white-space:pre;overflow-x:auto;line-height:normal;font-family:Menlo,'DejaVu Sans Mono',consolas,'Courier New',monospace\"><span style=\"color: #00ff00; text-decoration-color: #00ff00\">╭──────────────────────── </span><span style=\"color: #008000; text-decoration-color: #008000; font-weight: bold\">AGENT</span><span style=\"color: #00ff00; text-decoration-color: #00ff00\"> [07/28/2025 03:58:16] ─────────────────────────╮</span>\n",
       "<span style=\"color: #00ff00; text-decoration-color: #00ff00\">│</span> ✅ <span style=\"font-weight: bold\">Tool Response: web_search</span>                                                 <span style=\"color: #00ff00; text-decoration-color: #00ff00\">│</span>\n",
       "<span style=\"color: #00ff00; text-decoration-color: #00ff00\">│</span>                                                                              <span style=\"color: #00ff00; text-decoration-color: #00ff00\">│</span>\n",
       "<span style=\"color: #00ff00; text-decoration-color: #00ff00\">│</span> <span style=\"font-weight: bold\">Response:</span>                                                                    <span style=\"color: #00ff00; text-decoration-color: #00ff00\">│</span>\n",
       "<span style=\"color: #00ff00; text-decoration-color: #00ff00\">│</span>                                                                              <span style=\"color: #00ff00; text-decoration-color: #00ff00\">│</span>\n",
       "<span style=\"color: #00ff00; text-decoration-color: #00ff00\">│</span> <span style=\"background-color: #272822\">                                                                            </span> <span style=\"color: #00ff00; text-decoration-color: #00ff00\">│</span>\n",
       "<span style=\"color: #00ff00; text-decoration-color: #00ff00\">│</span> <span style=\"background-color: #272822\"> </span><span style=\"color: #f8f8f2; text-decoration-color: #f8f8f2; background-color: #272822\">{</span><span style=\"background-color: #272822\">                                                                          </span> <span style=\"color: #00ff00; text-decoration-color: #00ff00\">│</span>\n",
       "<span style=\"color: #00ff00; text-decoration-color: #00ff00\">│</span> <span style=\"background-color: #272822\"> </span><span style=\"color: #f8f8f2; text-decoration-color: #f8f8f2; background-color: #272822\">  </span><span style=\"color: #ff4689; text-decoration-color: #ff4689; background-color: #272822\">\"type\"</span><span style=\"color: #f8f8f2; text-decoration-color: #f8f8f2; background-color: #272822\">: </span><span style=\"color: #e6db74; text-decoration-color: #e6db74; background-color: #272822\">\"text\"</span><span style=\"color: #f8f8f2; text-decoration-color: #f8f8f2; background-color: #272822\">,</span><span style=\"background-color: #272822\">                                                          </span> <span style=\"color: #00ff00; text-decoration-color: #00ff00\">│</span>\n",
       "<span style=\"color: #00ff00; text-decoration-color: #00ff00\">│</span> <span style=\"background-color: #272822\"> </span><span style=\"color: #f8f8f2; text-decoration-color: #f8f8f2; background-color: #272822\">  </span><span style=\"color: #ff4689; text-decoration-color: #ff4689; background-color: #272822\">\"text\"</span><span style=\"color: #f8f8f2; text-decoration-color: #f8f8f2; background-color: #272822\">: </span><span style=\"color: #e6db74; text-decoration-color: #e6db74; background-color: #272822\">\"Artificial intelligence (AI) continues to be a driving force in</span><span style=\"background-color: #272822\"> </span> <span style=\"color: #00ff00; text-decoration-color: #00ff00\">│</span>\n",
       "<span style=\"color: #00ff00; text-decoration-color: #00ff00\">│</span> <span style=\"background-color: #272822\"> </span><span style=\"color: #e6db74; text-decoration-color: #e6db74; background-color: #272822\">the startup ecosystem, with significant investments and strategic </span><span style=\"background-color: #272822\">         </span> <span style=\"color: #00ff00; text-decoration-color: #00ff00\">│</span>\n",
       "<span style=\"color: #00ff00; text-decoration-color: #00ff00\">│</span> <span style=\"background-color: #272822\"> </span><span style=\"color: #e6db74; text-decoration-color: #e6db74; background-color: #272822\">partnerships shaping the landscape.\\n\\n**Surge in AI Startup Funding**\\n\\n</span><span style=\"background-color: #272822\"> </span> <span style=\"color: #00ff00; text-decoration-color: #00ff00\">│</span>\n",
       "<span style=\"color: #00ff00; text-decoration-color: #00ff00\">│</span> <span style=\"background-color: #272822\"> </span><span style=\"color: #e6db74; text-decoration-color: #e6db74; background-color: #272822\">the first half of 2025, U.S. AI startups experienced a substantial funding</span><span style=\"background-color: #272822\"> </span> <span style=\"color: #00ff00; text-decoration-color: #00ff00\">│</span>\n",
       "<span style=\"color: #00ff00; text-decoration-color: #00ff00\">│</span> <span style=\"background-color: #272822\"> </span><span style=\"color: #e6db74; text-decoration-color: #e6db74; background-color: #272822\">surge, with investments reaching $162.8 billion\\u2014a 75.6% increase from</span><span style=\"background-color: #272822\"> </span> <span style=\"color: #00ff00; text-decoration-color: #00ff00\">│</span>\n",
       "<span style=\"color: #00ff00; text-decoration-color: #00ff00\">│</span> <span style=\"background-color: #272822\"> </span><span style=\"color: #e6db74; text-decoration-color: #e6db74; background-color: #272822\">the previous year. This growth was propelled by major tech firms' </span><span style=\"background-color: #272822\">         </span> <span style=\"color: #00ff00; text-decoration-color: #00ff00\">│</span>\n",
       "<span style=\"color: #00ff00; text-decoration-color: #00ff00\">│</span> <span style=\"background-color: #272822\"> </span><span style=\"color: #e6db74; text-decoration-color: #e6db74; background-color: #272822\">investments, including OpenAI's $40 billion funding round and Meta's $14.3</span><span style=\"background-color: #272822\"> </span> <span style=\"color: #00ff00; text-decoration-color: #00ff00\">│</span>\n",
       "<span style=\"color: #00ff00; text-decoration-color: #00ff00\">│</span> <span style=\"background-color: #272822\"> </span><span style=\"color: #e6db74; text-decoration-color: #e6db74; background-color: #272822\">billion investment in Scale AI. Notably, AI-related investments accounted </span><span style=\"background-color: #272822\"> </span> <span style=\"color: #00ff00; text-decoration-color: #00ff00\">│</span>\n",
       "<span style=\"color: #00ff00; text-decoration-color: #00ff00\">│</span> <span style=\"background-color: #272822\"> </span><span style=\"color: #e6db74; text-decoration-color: #e6db74; background-color: #272822\">for 64.1% of total deal value during this period. </span><span style=\"background-color: #272822\">                         </span> <span style=\"color: #00ff00; text-decoration-color: #00ff00\">│</span>\n",
       "<span style=\"color: #00ff00; text-decoration-color: #00ff00\">│</span> <span style=\"background-color: #272822\"> </span><span style=\"color: #e6db74; text-decoration-color: #e6db74; background-color: #272822\">([reuters.com](https://www.reuters.com/business/us-ai-startups-see-funding</span><span style=\"background-color: #272822\"> </span> <span style=\"color: #00ff00; text-decoration-color: #00ff00\">│</span>\n",
       "<span style=\"color: #00ff00; text-decoration-color: #00ff00\">│</span> <span style=\"background-color: #272822\"> </span><span style=\"color: #e6db74; text-decoration-color: #e6db74; background-color: #272822\">urge-while-more-vc-funds-struggle-raise-data-shows-2025-07-15/?utm_source=</span><span style=\"background-color: #272822\"> </span> <span style=\"color: #00ff00; text-decoration-color: #00ff00\">│</span>\n",
       "<span style=\"color: #00ff00; text-decoration-color: #00ff00\">│</span> <span style=\"background-color: #272822\"> </span><span style=\"color: #e6db74; text-decoration-color: #e6db74; background-color: #272822\">enai))\\n\\n**Dominance of AI in Venture Capital**\\n\\nAI startups have becom</span><span style=\"background-color: #272822\"> </span> <span style=\"color: #00ff00; text-decoration-color: #00ff00\">│</span>\n",
       "<span style=\"color: #00ff00; text-decoration-color: #00ff00\">│</span> <span style=\"background-color: #272822\"> </span><span style=\"color: #e6db74; text-decoration-color: #e6db74; background-color: #272822\">dominant in global venture capital funding, securing 53% of all investment</span><span style=\"background-color: #272822\"> </span> <span style=\"color: #00ff00; text-decoration-color: #00ff00\">│</span>\n",
       "<span style=\"color: #00ff00; text-decoration-color: #00ff00\">│</span> <span style=\"background-color: #272822\"> </span><span style=\"color: #e6db74; text-decoration-color: #e6db74; background-color: #272822\">worldwide and 64% in the U.S. in the first half of 2025. This trend reflec</span><span style=\"background-color: #272822\"> </span> <span style=\"color: #00ff00; text-decoration-color: #00ff00\">│</span>\n",
       "<span style=\"color: #00ff00; text-decoration-color: #00ff00\">│</span> <span style=\"background-color: #272822\"> </span><span style=\"color: #e6db74; text-decoration-color: #e6db74; background-color: #272822\">a transformative shift in tech investment, with AI's potential driving </span><span style=\"background-color: #272822\">    </span> <span style=\"color: #00ff00; text-decoration-color: #00ff00\">│</span>\n",
       "<span style=\"color: #00ff00; text-decoration-color: #00ff00\">│</span> <span style=\"background-color: #272822\"> </span><span style=\"color: #e6db74; text-decoration-color: #e6db74; background-color: #272822\">significant capital allocation. </span><span style=\"background-color: #272822\">                                           </span> <span style=\"color: #00ff00; text-decoration-color: #00ff00\">│</span>\n",
       "<span style=\"color: #00ff00; text-decoration-color: #00ff00\">│</span> <span style=\"background-color: #272822\"> </span><span style=\"color: #e6db74; text-decoration-color: #e6db74; background-color: #272822\">([axios.com](https://www.axios.com/2025/07/03/ai-startups-vc-investments?u</span><span style=\"background-color: #272822\"> </span> <span style=\"color: #00ff00; text-decoration-color: #00ff00\">│</span>\n",
       "<span style=\"color: #00ff00; text-decoration-color: #00ff00\">│</span> <span style=\"background-color: #272822\"> </span><span style=\"color: #e6db74; text-decoration-color: #e6db74; background-color: #272822\">_source=openai))\\n\\n**Strategic Partnerships and Investments**\\n\\n- **Amaz</span><span style=\"background-color: #272822\"> </span> <span style=\"color: #00ff00; text-decoration-color: #00ff00\">│</span>\n",
       "<span style=\"color: #00ff00; text-decoration-color: #00ff00\">│</span> <span style=\"background-color: #272822\"> </span><span style=\"color: #e6db74; text-decoration-color: #e6db74; background-color: #272822\">and Anthropic**: Amazon increased its investment in AI startup Anthropic b</span><span style=\"background-color: #272822\"> </span> <span style=\"color: #00ff00; text-decoration-color: #00ff00\">│</span>\n",
       "<span style=\"color: #00ff00; text-decoration-color: #00ff00\">│</span> <span style=\"background-color: #272822\"> </span><span style=\"color: #e6db74; text-decoration-color: #e6db74; background-color: #272822\">an additional $4 billion, bringing its total investment to $8 billion. </span><span style=\"background-color: #272822\">    </span> <span style=\"color: #00ff00; text-decoration-color: #00ff00\">│</span>\n",
       "<span style=\"color: #00ff00; text-decoration-color: #00ff00\">│</span> <span style=\"background-color: #272822\"> </span><span style=\"color: #e6db74; text-decoration-color: #e6db74; background-color: #272822\">Despite this substantial backing, Amazon remains a minority investor. The </span><span style=\"background-color: #272822\"> </span> <span style=\"color: #00ff00; text-decoration-color: #00ff00\">│</span>\n",
       "<span style=\"color: #00ff00; text-decoration-color: #00ff00\">│</span> <span style=\"background-color: #272822\"> </span><span style=\"color: #e6db74; text-decoration-color: #e6db74; background-color: #272822\">partnership aims to foster innovation and responsible AI development, with</span><span style=\"background-color: #272822\"> </span> <span style=\"color: #00ff00; text-decoration-color: #00ff00\">│</span>\n",
       "<span style=\"color: #00ff00; text-decoration-color: #00ff00\">│</span> <span style=\"background-color: #272822\"> </span><span style=\"color: #e6db74; text-decoration-color: #e6db74; background-color: #272822\">Anthropic collaborating closely with Amazon Web Services (AWS) and utilizi</span><span style=\"background-color: #272822\"> </span> <span style=\"color: #00ff00; text-decoration-color: #00ff00\">│</span>\n",
       "<span style=\"color: #00ff00; text-decoration-color: #00ff00\">│</span> <span style=\"background-color: #272822\"> </span><span style=\"color: #e6db74; text-decoration-color: #e6db74; background-color: #272822\">AWS chips for AI model advancement. </span><span style=\"background-color: #272822\">                                       </span> <span style=\"color: #00ff00; text-decoration-color: #00ff00\">│</span>\n",
       "<span style=\"color: #00ff00; text-decoration-color: #00ff00\">│</span> <span style=\"background-color: #272822\"> </span><span style=\"color: #e6db74; text-decoration-color: #e6db74; background-color: #272822\">([apnews.com](https://apnews.com/article/7a5764907e8cf0c23117be9c710e9f6a?</span><span style=\"background-color: #272822\"> </span> <span style=\"color: #00ff00; text-decoration-color: #00ff00\">│</span>\n",
       "<span style=\"color: #00ff00; text-decoration-color: #00ff00\">│</span> <span style=\"background-color: #272822\"> </span><span style=\"color: #e6db74; text-decoration-color: #e6db74; background-color: #272822\">m_source=openai))\\n\\n- **Applied Intuition**: In June 2025, Applied </span><span style=\"background-color: #272822\">       </span> <span style=\"color: #00ff00; text-decoration-color: #00ff00\">│</span>\n",
       "<span style=\"color: #00ff00; text-decoration-color: #00ff00\">│</span> <span style=\"background-color: #272822\"> </span><span style=\"color: #e6db74; text-decoration-color: #e6db74; background-color: #272822\">Intuition achieved a $15 billion valuation after completing a $600 million</span><span style=\"background-color: #272822\"> </span> <span style=\"color: #00ff00; text-decoration-color: #00ff00\">│</span>\n",
       "<span style=\"color: #00ff00; text-decoration-color: #00ff00\">│</span> <span style=\"background-color: #272822\"> </span><span style=\"color: #e6db74; text-decoration-color: #e6db74; background-color: #272822\">Series F funding round and tender offer. Investors include Andreessen </span><span style=\"background-color: #272822\">     </span> <span style=\"color: #00ff00; text-decoration-color: #00ff00\">│</span>\n",
       "<span style=\"color: #00ff00; text-decoration-color: #00ff00\">│</span> <span style=\"background-color: #272822\"> </span><span style=\"color: #e6db74; text-decoration-color: #e6db74; background-color: #272822\">Horowitz, Fidelity Investments, Kleiner Perkins, Microsoft's venture capit</span><span style=\"background-color: #272822\"> </span> <span style=\"color: #00ff00; text-decoration-color: #00ff00\">│</span>\n",
       "<span style=\"color: #00ff00; text-decoration-color: #00ff00\">│</span> <span style=\"background-color: #272822\"> </span><span style=\"color: #e6db74; text-decoration-color: #e6db74; background-color: #272822\">arm M12, and Porsche Investments Management. </span><span style=\"background-color: #272822\">                              </span> <span style=\"color: #00ff00; text-decoration-color: #00ff00\">│</span>\n",
       "<span style=\"color: #00ff00; text-decoration-color: #00ff00\">│</span> <span style=\"background-color: #272822\"> </span><span style=\"color: #e6db74; text-decoration-color: #e6db74; background-color: #272822\">([en.wikipedia.org](https://en.wikipedia.org/wiki/Applied_Intuition?utm_so</span><span style=\"background-color: #272822\"> </span> <span style=\"color: #00ff00; text-decoration-color: #00ff00\">│</span>\n",
       "<span style=\"color: #00ff00; text-decoration-color: #00ff00\">│</span> <span style=\"background-color: #272822\"> </span><span style=\"color: #e6db74; text-decoration-color: #e6db74; background-color: #272822\">ce=openai))\\n\\n- **Mistral AI**: The French AI startup Mistral AI secured </span><span style=\"background-color: #272822\"> </span> <span style=\"color: #00ff00; text-decoration-color: #00ff00\">│</span>\n",
       "<span style=\"color: #00ff00; text-decoration-color: #00ff00\">│</span> <span style=\"background-color: #272822\"> </span><span style=\"color: #e6db74; text-decoration-color: #e6db74; background-color: #272822\">\\u20ac600 million ($645 million) funding round in June 2024, elevating its</span><span style=\"background-color: #272822\"> </span> <span style=\"color: #00ff00; text-decoration-color: #00ff00\">│</span>\n",
       "<span style=\"color: #00ff00; text-decoration-color: #00ff00\">│</span> <span style=\"background-color: #272822\"> </span><span style=\"color: #e6db74; text-decoration-color: #e6db74; background-color: #272822\">valuation to \\u20ac5.8 billion ($6.2 billion). Led by venture capital firm</span><span style=\"background-color: #272822\"> </span> <span style=\"color: #00ff00; text-decoration-color: #00ff00\">│</span>\n",
       "<span style=\"color: #00ff00; text-decoration-color: #00ff00\">│</span> <span style=\"background-color: #272822\"> </span><span style=\"color: #e6db74; text-decoration-color: #e6db74; background-color: #272822\">General Catalyst, this round aims to support the company's expansion. </span><span style=\"background-color: #272822\">     </span> <span style=\"color: #00ff00; text-decoration-color: #00ff00\">│</span>\n",
       "<span style=\"color: #00ff00; text-decoration-color: #00ff00\">│</span> <span style=\"background-color: #272822\"> </span><span style=\"color: #e6db74; text-decoration-color: #e6db74; background-color: #272822\">([en.wikipedia.org](https://en.wikipedia.org/wiki/Mistral_AI?utm_source=op</span><span style=\"background-color: #272822\"> </span> <span style=\"color: #00ff00; text-decoration-color: #00ff00\">│</span>\n",
       "<span style=\"color: #00ff00; text-decoration-color: #00ff00\">│</span> <span style=\"background-color: #272822\"> </span><span style=\"color: #e6db74; text-decoration-color: #e6db74; background-color: #272822\">ai))\\n\\n**Emerging AI Startups**\\n\\n- **Neysa**: Founded in 2023 by Sharad</span><span style=\"background-color: #272822\"> </span> <span style=\"color: #00ff00; text-decoration-color: #00ff00\">│</span>\n",
       "<span style=\"color: #00ff00; text-decoration-color: #00ff00\">│</span> <span style=\"background-color: #272822\"> </span><span style=\"color: #e6db74; text-decoration-color: #e6db74; background-color: #272822\">Sanghi and Anindya Das, Neysa is an Indian technology startup providing a </span><span style=\"background-color: #272822\"> </span> <span style=\"color: #00ff00; text-decoration-color: #00ff00\">│</span>\n",
       "<span style=\"color: #00ff00; text-decoration-color: #00ff00\">│</span> <span style=\"background-color: #272822\"> </span><span style=\"color: #e6db74; text-decoration-color: #e6db74; background-color: #272822\">cloud platform for AI acceleration and high-performance computing </span><span style=\"background-color: #272822\">         </span> <span style=\"color: #00ff00; text-decoration-color: #00ff00\">│</span>\n",
       "<span style=\"color: #00ff00; text-decoration-color: #00ff00\">│</span> <span style=\"background-color: #272822\"> </span><span style=\"color: #e6db74; text-decoration-color: #e6db74; background-color: #272822\">infrastructure services. The company raised $20 million in a seed funding </span><span style=\"background-color: #272822\"> </span> <span style=\"color: #00ff00; text-decoration-color: #00ff00\">│</span>\n",
       "<span style=\"color: #00ff00; text-decoration-color: #00ff00\">│</span> <span style=\"background-color: #272822\"> </span><span style=\"color: #e6db74; text-decoration-color: #e6db74; background-color: #272822\">round in February 2024, followed by a $30 million round in October 2024, </span><span style=\"background-color: #272822\">  </span> <span style=\"color: #00ff00; text-decoration-color: #00ff00\">│</span>\n",
       "<span style=\"color: #00ff00; text-decoration-color: #00ff00\">│</span> <span style=\"background-color: #272822\"> </span><span style=\"color: #e6db74; text-decoration-color: #e6db74; background-color: #272822\">bringing its total funding to $50 million. </span><span style=\"background-color: #272822\">                                </span> <span style=\"color: #00ff00; text-decoration-color: #00ff00\">│</span>\n",
       "<span style=\"color: #00ff00; text-decoration-color: #00ff00\">│</span> <span style=\"background-color: #272822\"> </span><span style=\"color: #e6db74; text-decoration-color: #e6db74; background-color: #272822\">([en.wikipedia.org](https://en.wikipedia.org/wiki/Neysa?utm_source=openai)</span><span style=\"background-color: #272822\"> </span> <span style=\"color: #00ff00; text-decoration-color: #00ff00\">│</span>\n",
       "<span style=\"color: #00ff00; text-decoration-color: #00ff00\">│</span> <span style=\"background-color: #272822\"> </span><span style=\"color: #e6db74; text-decoration-color: #e6db74; background-color: #272822\">n\\n- **Axelera AI**: Established in 2021, Axelera AI is a Netherlands-base</span><span style=\"background-color: #272822\"> </span> <span style=\"color: #00ff00; text-decoration-color: #00ff00\">│</span>\n",
       "<span style=\"color: #00ff00; text-decoration-color: #00ff00\">│</span> <span style=\"background-color: #272822\"> </span><span style=\"color: #e6db74; text-decoration-color: #e6db74; background-color: #272822\">chip company developing AI processing units for various applications, </span><span style=\"background-color: #272822\">     </span> <span style=\"color: #00ff00; text-decoration-color: #00ff00\">│</span>\n",
       "<span style=\"color: #00ff00; text-decoration-color: #00ff00\">│</span> <span style=\"background-color: #272822\"> </span><span style=\"color: #e6db74; text-decoration-color: #e6db74; background-color: #272822\">including robotics, drones, and medical devices. In 2025, it received a </span><span style=\"background-color: #272822\">   </span> <span style=\"color: #00ff00; text-decoration-color: #00ff00\">│</span>\n",
       "<span style=\"color: #00ff00; text-decoration-color: #00ff00\">│</span> <span style=\"background-color: #272822\"> </span><span style=\"color: #e6db74; text-decoration-color: #e6db74; background-color: #272822\">\\u20ac61.6 million grant to develop its Titania chip for generative AI and</span><span style=\"background-color: #272822\"> </span> <span style=\"color: #00ff00; text-decoration-color: #00ff00\">│</span>\n",
       "<span style=\"color: #00ff00; text-decoration-color: #00ff00\">│</span> <span style=\"background-color: #272822\"> </span><span style=\"color: #e6db74; text-decoration-color: #e6db74; background-color: #272822\">computer vision processing. </span><span style=\"background-color: #272822\">                                               </span> <span style=\"color: #00ff00; text-decoration-color: #00ff00\">│</span>\n",
       "<span style=\"color: #00ff00; text-decoration-color: #00ff00\">│</span> <span style=\"background-color: #272822\"> </span><span style=\"color: #e6db74; text-decoration-color: #e6db74; background-color: #272822\">([en.wikipedia.org](https://en.wikipedia.org/wiki/Axelera_AI?utm_source=op</span><span style=\"background-color: #272822\"> </span> <span style=\"color: #00ff00; text-decoration-color: #00ff00\">│</span>\n",
       "<span style=\"color: #00ff00; text-decoration-color: #00ff00\">│</span> <span style=\"background-color: #272822\"> </span><span style=\"color: #e6db74; text-decoration-color: #e6db74; background-color: #272822\">ai))\\n\\n**AI's Impact on Various Sectors**\\n\\nAI is increasingly being </span><span style=\"background-color: #272822\">    </span> <span style=\"color: #00ff00; text-decoration-color: #00ff00\">│</span>\n",
       "<span style=\"color: #00ff00; text-decoration-color: #00ff00\">│</span> <span style=\"background-color: #272822\"> </span><span style=\"color: #e6db74; text-decoration-color: #e6db74; background-color: #272822\">utilized to streamline processes across different industries. For instance</span><span style=\"background-color: #272822\"> </span> <span style=\"color: #00ff00; text-decoration-color: #00ff00\">│</span>\n",
       "<span style=\"color: #00ff00; text-decoration-color: #00ff00\">│</span> <span style=\"background-color: #272822\"> </span><span style=\"color: #e6db74; text-decoration-color: #e6db74; background-color: #272822\">in the nuclear sector, AI is being applied to accelerate reactor licensing</span><span style=\"background-color: #272822\"> </span> <span style=\"color: #00ff00; text-decoration-color: #00ff00\">│</span>\n",
       "<span style=\"color: #00ff00; text-decoration-color: #00ff00\">│</span> <span style=\"background-color: #272822\"> </span><span style=\"color: #e6db74; text-decoration-color: #e6db74; background-color: #272822\">and construction, with partnerships like Microsoft's collaboration with th</span><span style=\"background-color: #272822\"> </span> <span style=\"color: #00ff00; text-decoration-color: #00ff00\">│</span>\n",
       "<span style=\"color: #00ff00; text-decoration-color: #00ff00\">│</span> <span style=\"background-color: #272822\"> </span><span style=\"color: #e6db74; text-decoration-color: #e6db74; background-color: #272822\">Department of Energy\\u2019s Idaho National Lab and Westinghouse's </span><span style=\"background-color: #272822\">         </span> <span style=\"color: #00ff00; text-decoration-color: #00ff00\">│</span>\n",
       "<span style=\"color: #00ff00; text-decoration-color: #00ff00\">│</span> <span style=\"background-color: #272822\"> </span><span style=\"color: #e6db74; text-decoration-color: #e6db74; background-color: #272822\">partnership with Google. These initiatives aim to enhance nuclear </span><span style=\"background-color: #272822\">         </span> <span style=\"color: #00ff00; text-decoration-color: #00ff00\">│</span>\n",
       "<span style=\"color: #00ff00; text-decoration-color: #00ff00\">│</span> <span style=\"background-color: #272822\"> </span><span style=\"color: #e6db74; text-decoration-color: #e6db74; background-color: #272822\">development while maintaining human oversight. </span><span style=\"background-color: #272822\">                            </span> <span style=\"color: #00ff00; text-decoration-color: #00ff00\">│</span>\n",
       "<span style=\"color: #00ff00; text-decoration-color: #00ff00\">│</span> <span style=\"background-color: #272822\"> </span><span style=\"color: #e6db74; text-decoration-color: #e6db74; background-color: #272822\">([axios.com](https://www.axios.com/newsletters/axios-generate-5dcf1a30-624</span><span style=\"background-color: #272822\"> </span> <span style=\"color: #00ff00; text-decoration-color: #00ff00\">│</span>\n",
       "<span style=\"color: #00ff00; text-decoration-color: #00ff00\">│</span> <span style=\"background-color: #272822\"> </span><span style=\"color: #e6db74; text-decoration-color: #e6db74; background-color: #272822\">11f0-933f-c56d5ef52713?utm_source=openai))\\n\\n\\n## Recent Developments in </span><span style=\"background-color: #272822\"> </span> <span style=\"color: #00ff00; text-decoration-color: #00ff00\">│</span>\n",
       "<span style=\"color: #00ff00; text-decoration-color: #00ff00\">│</span> <span style=\"background-color: #272822\"> </span><span style=\"color: #e6db74; text-decoration-color: #e6db74; background-color: #272822\">Startups:\\n- [US AI startups see funding surge while more VC funds struggl</span><span style=\"background-color: #272822\"> </span> <span style=\"color: #00ff00; text-decoration-color: #00ff00\">│</span>\n",
       "<span style=\"color: #00ff00; text-decoration-color: #00ff00\">│</span> <span style=\"background-color: #272822\"> </span><span style=\"color: #e6db74; text-decoration-color: #e6db74; background-color: #272822\">to raise, data </span><span style=\"background-color: #272822\">                                                            </span> <span style=\"color: #00ff00; text-decoration-color: #00ff00\">│</span>\n",
       "<span style=\"color: #00ff00; text-decoration-color: #00ff00\">│</span> <span style=\"background-color: #272822\"> </span><span style=\"color: #e6db74; text-decoration-color: #e6db74; background-color: #272822\">shows](https://www.reuters.com/business/us-ai-startups-see-funding-surge-w</span><span style=\"background-color: #272822\"> </span> <span style=\"color: #00ff00; text-decoration-color: #00ff00\">│</span>\n",
       "<span style=\"color: #00ff00; text-decoration-color: #00ff00\">│</span> <span style=\"background-color: #272822\"> </span><span style=\"color: #e6db74; text-decoration-color: #e6db74; background-color: #272822\">le-more-vc-funds-struggle-raise-data-shows-2025-07-15/?utm_source=openai)\\</span><span style=\"background-color: #272822\"> </span> <span style=\"color: #00ff00; text-decoration-color: #00ff00\">│</span>\n",
       "<span style=\"color: #00ff00; text-decoration-color: #00ff00\">│</span> <span style=\"background-color: #272822\"> </span><span style=\"color: #e6db74; text-decoration-color: #e6db74; background-color: #272822\"> [Axios Pro Rata: AI eats </span><span style=\"background-color: #272822\">                                                 </span> <span style=\"color: #00ff00; text-decoration-color: #00ff00\">│</span>\n",
       "<span style=\"color: #00ff00; text-decoration-color: #00ff00\">│</span> <span style=\"background-color: #272822\"> </span><span style=\"color: #e6db74; text-decoration-color: #e6db74; background-color: #272822\">VC](https://www.axios.com/newsletters/axios-pro-rata-d4299627-1e82-44f2-93</span><span style=\"background-color: #272822\"> </span> <span style=\"color: #00ff00; text-decoration-color: #00ff00\">│</span>\n",
       "<span style=\"color: #00ff00; text-decoration-color: #00ff00\">│</span> <span style=\"background-color: #272822\"> </span><span style=\"color: #e6db74; text-decoration-color: #e6db74; background-color: #272822\">-212d8860b6aa?utm_source=openai)\\n- [Amazon to invest an additional $4 </span><span style=\"background-color: #272822\">    </span> <span style=\"color: #00ff00; text-decoration-color: #00ff00\">│</span>\n",
       "<span style=\"color: #00ff00; text-decoration-color: #00ff00\">│</span> <span style=\"background-color: #272822\"> </span><span style=\"color: #e6db74; text-decoration-color: #e6db74; background-color: #272822\">billion in AI startup </span><span style=\"background-color: #272822\">                                                     </span> <span style=\"color: #00ff00; text-decoration-color: #00ff00\">│</span>\n",
       "<span style=\"color: #00ff00; text-decoration-color: #00ff00\">│</span> <span style=\"background-color: #272822\"> </span><span style=\"color: #e6db74; text-decoration-color: #e6db74; background-color: #272822\">Anthropic](https://apnews.com/article/7a5764907e8cf0c23117be9c710e9f6a?utm</span><span style=\"background-color: #272822\"> </span> <span style=\"color: #00ff00; text-decoration-color: #00ff00\">│</span>\n",
       "<span style=\"color: #00ff00; text-decoration-color: #00ff00\">│</span> <span style=\"background-color: #272822\"> </span><span style=\"color: #e6db74; text-decoration-color: #e6db74; background-color: #272822\">ource=openai) \"</span><span style=\"color: #f8f8f2; text-decoration-color: #f8f8f2; background-color: #272822\">,</span><span style=\"background-color: #272822\">                                                           </span> <span style=\"color: #00ff00; text-decoration-color: #00ff00\">│</span>\n",
       "<span style=\"color: #00ff00; text-decoration-color: #00ff00\">│</span> <span style=\"background-color: #272822\"> </span><span style=\"color: #f8f8f2; text-decoration-color: #f8f8f2; background-color: #272822\">  </span><span style=\"color: #ff4689; text-decoration-color: #ff4689; background-color: #272822\">\"annotations\"</span><span style=\"color: #f8f8f2; text-decoration-color: #f8f8f2; background-color: #272822\">: </span><span style=\"color: #66d9ef; text-decoration-color: #66d9ef; background-color: #272822\">null</span><span style=\"color: #f8f8f2; text-decoration-color: #f8f8f2; background-color: #272822\">,</span><span style=\"background-color: #272822\">                                                     </span> <span style=\"color: #00ff00; text-decoration-color: #00ff00\">│</span>\n",
       "<span style=\"color: #00ff00; text-decoration-color: #00ff00\">│</span> <span style=\"background-color: #272822\"> </span><span style=\"color: #f8f8f2; text-decoration-color: #f8f8f2; background-color: #272822\">  </span><span style=\"color: #ff4689; text-decoration-color: #ff4689; background-color: #272822\">\"meta\"</span><span style=\"color: #f8f8f2; text-decoration-color: #f8f8f2; background-color: #272822\">: </span><span style=\"color: #66d9ef; text-decoration-color: #66d9ef; background-color: #272822\">null</span><span style=\"background-color: #272822\">                                                             </span> <span style=\"color: #00ff00; text-decoration-color: #00ff00\">│</span>\n",
       "<span style=\"color: #00ff00; text-decoration-color: #00ff00\">│</span> <span style=\"background-color: #272822\"> </span><span style=\"color: #f8f8f2; text-decoration-color: #f8f8f2; background-color: #272822\">}</span><span style=\"background-color: #272822\">                                                                          </span> <span style=\"color: #00ff00; text-decoration-color: #00ff00\">│</span>\n",
       "<span style=\"color: #00ff00; text-decoration-color: #00ff00\">│</span> <span style=\"background-color: #272822\">                                                                            </span> <span style=\"color: #00ff00; text-decoration-color: #00ff00\">│</span>\n",
       "<span style=\"color: #00ff00; text-decoration-color: #00ff00\">╰──────────────────────────────────────────────────────────────────────────────╯</span>\n",
       "</pre>\n"
      ],
      "text/plain": [
       "\u001b[92m╭─\u001b[0m\u001b[92m───────────────────────\u001b[0m\u001b[92m \u001b[0m\u001b[1;32mAGENT\u001b[0m\u001b[92m [07/28/2025 03:58:16] \u001b[0m\u001b[92m────────────────────────\u001b[0m\u001b[92m─╮\u001b[0m\n",
       "\u001b[92m│\u001b[0m ✅ \u001b[1mTool Response: web_search\u001b[0m                                                 \u001b[92m│\u001b[0m\n",
       "\u001b[92m│\u001b[0m                                                                              \u001b[92m│\u001b[0m\n",
       "\u001b[92m│\u001b[0m \u001b[1mResponse:\u001b[0m                                                                    \u001b[92m│\u001b[0m\n",
       "\u001b[92m│\u001b[0m                                                                              \u001b[92m│\u001b[0m\n",
       "\u001b[92m│\u001b[0m \u001b[48;2;39;40;34m                                                                            \u001b[0m \u001b[92m│\u001b[0m\n",
       "\u001b[92m│\u001b[0m \u001b[48;2;39;40;34m \u001b[0m\u001b[38;2;248;248;242;48;2;39;40;34m{\u001b[0m\u001b[48;2;39;40;34m                                                                         \u001b[0m\u001b[48;2;39;40;34m \u001b[0m \u001b[92m│\u001b[0m\n",
       "\u001b[92m│\u001b[0m \u001b[48;2;39;40;34m \u001b[0m\u001b[38;2;248;248;242;48;2;39;40;34m  \u001b[0m\u001b[38;2;255;70;137;48;2;39;40;34m\"type\"\u001b[0m\u001b[38;2;248;248;242;48;2;39;40;34m:\u001b[0m\u001b[38;2;248;248;242;48;2;39;40;34m \u001b[0m\u001b[38;2;230;219;116;48;2;39;40;34m\"text\"\u001b[0m\u001b[38;2;248;248;242;48;2;39;40;34m,\u001b[0m\u001b[48;2;39;40;34m                                                         \u001b[0m\u001b[48;2;39;40;34m \u001b[0m \u001b[92m│\u001b[0m\n",
       "\u001b[92m│\u001b[0m \u001b[48;2;39;40;34m \u001b[0m\u001b[38;2;248;248;242;48;2;39;40;34m  \u001b[0m\u001b[38;2;255;70;137;48;2;39;40;34m\"text\"\u001b[0m\u001b[38;2;248;248;242;48;2;39;40;34m:\u001b[0m\u001b[38;2;248;248;242;48;2;39;40;34m \u001b[0m\u001b[38;2;230;219;116;48;2;39;40;34m\"Artificial intelligence (AI) continues to be a driving force in\u001b[0m\u001b[48;2;39;40;34m \u001b[0m \u001b[92m│\u001b[0m\n",
       "\u001b[92m│\u001b[0m \u001b[48;2;39;40;34m \u001b[0m\u001b[38;2;230;219;116;48;2;39;40;34mthe startup ecosystem, with significant investments and strategic \u001b[0m\u001b[48;2;39;40;34m        \u001b[0m\u001b[48;2;39;40;34m \u001b[0m \u001b[92m│\u001b[0m\n",
       "\u001b[92m│\u001b[0m \u001b[48;2;39;40;34m \u001b[0m\u001b[38;2;230;219;116;48;2;39;40;34mpartnerships shaping the landscape.\\n\\n**Surge in AI Startup Funding**\\n\\n\u001b[0m\u001b[48;2;39;40;34m \u001b[0m \u001b[92m│\u001b[0m\n",
       "\u001b[92m│\u001b[0m \u001b[48;2;39;40;34m \u001b[0m\u001b[38;2;230;219;116;48;2;39;40;34mthe first half of 2025, U.S. AI startups experienced a substantial funding\u001b[0m\u001b[48;2;39;40;34m \u001b[0m \u001b[92m│\u001b[0m\n",
       "\u001b[92m│\u001b[0m \u001b[48;2;39;40;34m \u001b[0m\u001b[38;2;230;219;116;48;2;39;40;34msurge, with investments reaching $162.8 billion\\u2014a 75.6% increase from\u001b[0m\u001b[48;2;39;40;34m \u001b[0m \u001b[92m│\u001b[0m\n",
       "\u001b[92m│\u001b[0m \u001b[48;2;39;40;34m \u001b[0m\u001b[38;2;230;219;116;48;2;39;40;34mthe previous year. This growth was propelled by major tech firms' \u001b[0m\u001b[48;2;39;40;34m        \u001b[0m\u001b[48;2;39;40;34m \u001b[0m \u001b[92m│\u001b[0m\n",
       "\u001b[92m│\u001b[0m \u001b[48;2;39;40;34m \u001b[0m\u001b[38;2;230;219;116;48;2;39;40;34minvestments, including OpenAI's $40 billion funding round and Meta's $14.3\u001b[0m\u001b[48;2;39;40;34m \u001b[0m \u001b[92m│\u001b[0m\n",
       "\u001b[92m│\u001b[0m \u001b[48;2;39;40;34m \u001b[0m\u001b[38;2;230;219;116;48;2;39;40;34mbillion investment in Scale AI. Notably, AI-related investments accounted \u001b[0m\u001b[48;2;39;40;34m \u001b[0m \u001b[92m│\u001b[0m\n",
       "\u001b[92m│\u001b[0m \u001b[48;2;39;40;34m \u001b[0m\u001b[38;2;230;219;116;48;2;39;40;34mfor 64.1% of total deal value during this period. \u001b[0m\u001b[48;2;39;40;34m                        \u001b[0m\u001b[48;2;39;40;34m \u001b[0m \u001b[92m│\u001b[0m\n",
       "\u001b[92m│\u001b[0m \u001b[48;2;39;40;34m \u001b[0m\u001b[38;2;230;219;116;48;2;39;40;34m([reuters.com](https://www.reuters.com/business/us-ai-startups-see-funding\u001b[0m\u001b[48;2;39;40;34m \u001b[0m \u001b[92m│\u001b[0m\n",
       "\u001b[92m│\u001b[0m \u001b[48;2;39;40;34m \u001b[0m\u001b[38;2;230;219;116;48;2;39;40;34murge-while-more-vc-funds-struggle-raise-data-shows-2025-07-15/?utm_source=\u001b[0m\u001b[48;2;39;40;34m \u001b[0m \u001b[92m│\u001b[0m\n",
       "\u001b[92m│\u001b[0m \u001b[48;2;39;40;34m \u001b[0m\u001b[38;2;230;219;116;48;2;39;40;34menai))\\n\\n**Dominance of AI in Venture Capital**\\n\\nAI startups have becom\u001b[0m\u001b[48;2;39;40;34m \u001b[0m \u001b[92m│\u001b[0m\n",
       "\u001b[92m│\u001b[0m \u001b[48;2;39;40;34m \u001b[0m\u001b[38;2;230;219;116;48;2;39;40;34mdominant in global venture capital funding, securing 53% of all investment\u001b[0m\u001b[48;2;39;40;34m \u001b[0m \u001b[92m│\u001b[0m\n",
       "\u001b[92m│\u001b[0m \u001b[48;2;39;40;34m \u001b[0m\u001b[38;2;230;219;116;48;2;39;40;34mworldwide and 64% in the U.S. in the first half of 2025. This trend reflec\u001b[0m\u001b[48;2;39;40;34m \u001b[0m \u001b[92m│\u001b[0m\n",
       "\u001b[92m│\u001b[0m \u001b[48;2;39;40;34m \u001b[0m\u001b[38;2;230;219;116;48;2;39;40;34ma transformative shift in tech investment, with AI's potential driving \u001b[0m\u001b[48;2;39;40;34m   \u001b[0m\u001b[48;2;39;40;34m \u001b[0m \u001b[92m│\u001b[0m\n",
       "\u001b[92m│\u001b[0m \u001b[48;2;39;40;34m \u001b[0m\u001b[38;2;230;219;116;48;2;39;40;34msignificant capital allocation. \u001b[0m\u001b[48;2;39;40;34m                                          \u001b[0m\u001b[48;2;39;40;34m \u001b[0m \u001b[92m│\u001b[0m\n",
       "\u001b[92m│\u001b[0m \u001b[48;2;39;40;34m \u001b[0m\u001b[38;2;230;219;116;48;2;39;40;34m([axios.com](https://www.axios.com/2025/07/03/ai-startups-vc-investments?u\u001b[0m\u001b[48;2;39;40;34m \u001b[0m \u001b[92m│\u001b[0m\n",
       "\u001b[92m│\u001b[0m \u001b[48;2;39;40;34m \u001b[0m\u001b[38;2;230;219;116;48;2;39;40;34m_source=openai))\\n\\n**Strategic Partnerships and Investments**\\n\\n- **Amaz\u001b[0m\u001b[48;2;39;40;34m \u001b[0m \u001b[92m│\u001b[0m\n",
       "\u001b[92m│\u001b[0m \u001b[48;2;39;40;34m \u001b[0m\u001b[38;2;230;219;116;48;2;39;40;34mand Anthropic**: Amazon increased its investment in AI startup Anthropic b\u001b[0m\u001b[48;2;39;40;34m \u001b[0m \u001b[92m│\u001b[0m\n",
       "\u001b[92m│\u001b[0m \u001b[48;2;39;40;34m \u001b[0m\u001b[38;2;230;219;116;48;2;39;40;34man additional $4 billion, bringing its total investment to $8 billion. \u001b[0m\u001b[48;2;39;40;34m   \u001b[0m\u001b[48;2;39;40;34m \u001b[0m \u001b[92m│\u001b[0m\n",
       "\u001b[92m│\u001b[0m \u001b[48;2;39;40;34m \u001b[0m\u001b[38;2;230;219;116;48;2;39;40;34mDespite this substantial backing, Amazon remains a minority investor. The \u001b[0m\u001b[48;2;39;40;34m \u001b[0m \u001b[92m│\u001b[0m\n",
       "\u001b[92m│\u001b[0m \u001b[48;2;39;40;34m \u001b[0m\u001b[38;2;230;219;116;48;2;39;40;34mpartnership aims to foster innovation and responsible AI development, with\u001b[0m\u001b[48;2;39;40;34m \u001b[0m \u001b[92m│\u001b[0m\n",
       "\u001b[92m│\u001b[0m \u001b[48;2;39;40;34m \u001b[0m\u001b[38;2;230;219;116;48;2;39;40;34mAnthropic collaborating closely with Amazon Web Services (AWS) and utilizi\u001b[0m\u001b[48;2;39;40;34m \u001b[0m \u001b[92m│\u001b[0m\n",
       "\u001b[92m│\u001b[0m \u001b[48;2;39;40;34m \u001b[0m\u001b[38;2;230;219;116;48;2;39;40;34mAWS chips for AI model advancement. \u001b[0m\u001b[48;2;39;40;34m                                      \u001b[0m\u001b[48;2;39;40;34m \u001b[0m \u001b[92m│\u001b[0m\n",
       "\u001b[92m│\u001b[0m \u001b[48;2;39;40;34m \u001b[0m\u001b[38;2;230;219;116;48;2;39;40;34m([apnews.com](https://apnews.com/article/7a5764907e8cf0c23117be9c710e9f6a?\u001b[0m\u001b[48;2;39;40;34m \u001b[0m \u001b[92m│\u001b[0m\n",
       "\u001b[92m│\u001b[0m \u001b[48;2;39;40;34m \u001b[0m\u001b[38;2;230;219;116;48;2;39;40;34mm_source=openai))\\n\\n- **Applied Intuition**: In June 2025, Applied \u001b[0m\u001b[48;2;39;40;34m      \u001b[0m\u001b[48;2;39;40;34m \u001b[0m \u001b[92m│\u001b[0m\n",
       "\u001b[92m│\u001b[0m \u001b[48;2;39;40;34m \u001b[0m\u001b[38;2;230;219;116;48;2;39;40;34mIntuition achieved a $15 billion valuation after completing a $600 million\u001b[0m\u001b[48;2;39;40;34m \u001b[0m \u001b[92m│\u001b[0m\n",
       "\u001b[92m│\u001b[0m \u001b[48;2;39;40;34m \u001b[0m\u001b[38;2;230;219;116;48;2;39;40;34mSeries F funding round and tender offer. Investors include Andreessen \u001b[0m\u001b[48;2;39;40;34m    \u001b[0m\u001b[48;2;39;40;34m \u001b[0m \u001b[92m│\u001b[0m\n",
       "\u001b[92m│\u001b[0m \u001b[48;2;39;40;34m \u001b[0m\u001b[38;2;230;219;116;48;2;39;40;34mHorowitz, Fidelity Investments, Kleiner Perkins, Microsoft's venture capit\u001b[0m\u001b[48;2;39;40;34m \u001b[0m \u001b[92m│\u001b[0m\n",
       "\u001b[92m│\u001b[0m \u001b[48;2;39;40;34m \u001b[0m\u001b[38;2;230;219;116;48;2;39;40;34marm M12, and Porsche Investments Management. \u001b[0m\u001b[48;2;39;40;34m                             \u001b[0m\u001b[48;2;39;40;34m \u001b[0m \u001b[92m│\u001b[0m\n",
       "\u001b[92m│\u001b[0m \u001b[48;2;39;40;34m \u001b[0m\u001b[38;2;230;219;116;48;2;39;40;34m([en.wikipedia.org](https://en.wikipedia.org/wiki/Applied_Intuition?utm_so\u001b[0m\u001b[48;2;39;40;34m \u001b[0m \u001b[92m│\u001b[0m\n",
       "\u001b[92m│\u001b[0m \u001b[48;2;39;40;34m \u001b[0m\u001b[38;2;230;219;116;48;2;39;40;34mce=openai))\\n\\n- **Mistral AI**: The French AI startup Mistral AI secured \u001b[0m\u001b[48;2;39;40;34m \u001b[0m \u001b[92m│\u001b[0m\n",
       "\u001b[92m│\u001b[0m \u001b[48;2;39;40;34m \u001b[0m\u001b[38;2;230;219;116;48;2;39;40;34m\\u20ac600 million ($645 million) funding round in June 2024, elevating its\u001b[0m\u001b[48;2;39;40;34m \u001b[0m \u001b[92m│\u001b[0m\n",
       "\u001b[92m│\u001b[0m \u001b[48;2;39;40;34m \u001b[0m\u001b[38;2;230;219;116;48;2;39;40;34mvaluation to \\u20ac5.8 billion ($6.2 billion). Led by venture capital firm\u001b[0m\u001b[48;2;39;40;34m \u001b[0m \u001b[92m│\u001b[0m\n",
       "\u001b[92m│\u001b[0m \u001b[48;2;39;40;34m \u001b[0m\u001b[38;2;230;219;116;48;2;39;40;34mGeneral Catalyst, this round aims to support the company's expansion. \u001b[0m\u001b[48;2;39;40;34m    \u001b[0m\u001b[48;2;39;40;34m \u001b[0m \u001b[92m│\u001b[0m\n",
       "\u001b[92m│\u001b[0m \u001b[48;2;39;40;34m \u001b[0m\u001b[38;2;230;219;116;48;2;39;40;34m([en.wikipedia.org](https://en.wikipedia.org/wiki/Mistral_AI?utm_source=op\u001b[0m\u001b[48;2;39;40;34m \u001b[0m \u001b[92m│\u001b[0m\n",
       "\u001b[92m│\u001b[0m \u001b[48;2;39;40;34m \u001b[0m\u001b[38;2;230;219;116;48;2;39;40;34mai))\\n\\n**Emerging AI Startups**\\n\\n- **Neysa**: Founded in 2023 by Sharad\u001b[0m\u001b[48;2;39;40;34m \u001b[0m \u001b[92m│\u001b[0m\n",
       "\u001b[92m│\u001b[0m \u001b[48;2;39;40;34m \u001b[0m\u001b[38;2;230;219;116;48;2;39;40;34mSanghi and Anindya Das, Neysa is an Indian technology startup providing a \u001b[0m\u001b[48;2;39;40;34m \u001b[0m \u001b[92m│\u001b[0m\n",
       "\u001b[92m│\u001b[0m \u001b[48;2;39;40;34m \u001b[0m\u001b[38;2;230;219;116;48;2;39;40;34mcloud platform for AI acceleration and high-performance computing \u001b[0m\u001b[48;2;39;40;34m        \u001b[0m\u001b[48;2;39;40;34m \u001b[0m \u001b[92m│\u001b[0m\n",
       "\u001b[92m│\u001b[0m \u001b[48;2;39;40;34m \u001b[0m\u001b[38;2;230;219;116;48;2;39;40;34minfrastructure services. The company raised $20 million in a seed funding \u001b[0m\u001b[48;2;39;40;34m \u001b[0m \u001b[92m│\u001b[0m\n",
       "\u001b[92m│\u001b[0m \u001b[48;2;39;40;34m \u001b[0m\u001b[38;2;230;219;116;48;2;39;40;34mround in February 2024, followed by a $30 million round in October 2024, \u001b[0m\u001b[48;2;39;40;34m \u001b[0m\u001b[48;2;39;40;34m \u001b[0m \u001b[92m│\u001b[0m\n",
       "\u001b[92m│\u001b[0m \u001b[48;2;39;40;34m \u001b[0m\u001b[38;2;230;219;116;48;2;39;40;34mbringing its total funding to $50 million. \u001b[0m\u001b[48;2;39;40;34m                               \u001b[0m\u001b[48;2;39;40;34m \u001b[0m \u001b[92m│\u001b[0m\n",
       "\u001b[92m│\u001b[0m \u001b[48;2;39;40;34m \u001b[0m\u001b[38;2;230;219;116;48;2;39;40;34m([en.wikipedia.org](https://en.wikipedia.org/wiki/Neysa?utm_source=openai)\u001b[0m\u001b[48;2;39;40;34m \u001b[0m \u001b[92m│\u001b[0m\n",
       "\u001b[92m│\u001b[0m \u001b[48;2;39;40;34m \u001b[0m\u001b[38;2;230;219;116;48;2;39;40;34mn\\n- **Axelera AI**: Established in 2021, Axelera AI is a Netherlands-base\u001b[0m\u001b[48;2;39;40;34m \u001b[0m \u001b[92m│\u001b[0m\n",
       "\u001b[92m│\u001b[0m \u001b[48;2;39;40;34m \u001b[0m\u001b[38;2;230;219;116;48;2;39;40;34mchip company developing AI processing units for various applications, \u001b[0m\u001b[48;2;39;40;34m    \u001b[0m\u001b[48;2;39;40;34m \u001b[0m \u001b[92m│\u001b[0m\n",
       "\u001b[92m│\u001b[0m \u001b[48;2;39;40;34m \u001b[0m\u001b[38;2;230;219;116;48;2;39;40;34mincluding robotics, drones, and medical devices. In 2025, it received a \u001b[0m\u001b[48;2;39;40;34m  \u001b[0m\u001b[48;2;39;40;34m \u001b[0m \u001b[92m│\u001b[0m\n",
       "\u001b[92m│\u001b[0m \u001b[48;2;39;40;34m \u001b[0m\u001b[38;2;230;219;116;48;2;39;40;34m\\u20ac61.6 million grant to develop its Titania chip for generative AI and\u001b[0m\u001b[48;2;39;40;34m \u001b[0m \u001b[92m│\u001b[0m\n",
       "\u001b[92m│\u001b[0m \u001b[48;2;39;40;34m \u001b[0m\u001b[38;2;230;219;116;48;2;39;40;34mcomputer vision processing. \u001b[0m\u001b[48;2;39;40;34m                                              \u001b[0m\u001b[48;2;39;40;34m \u001b[0m \u001b[92m│\u001b[0m\n",
       "\u001b[92m│\u001b[0m \u001b[48;2;39;40;34m \u001b[0m\u001b[38;2;230;219;116;48;2;39;40;34m([en.wikipedia.org](https://en.wikipedia.org/wiki/Axelera_AI?utm_source=op\u001b[0m\u001b[48;2;39;40;34m \u001b[0m \u001b[92m│\u001b[0m\n",
       "\u001b[92m│\u001b[0m \u001b[48;2;39;40;34m \u001b[0m\u001b[38;2;230;219;116;48;2;39;40;34mai))\\n\\n**AI's Impact on Various Sectors**\\n\\nAI is increasingly being \u001b[0m\u001b[48;2;39;40;34m   \u001b[0m\u001b[48;2;39;40;34m \u001b[0m \u001b[92m│\u001b[0m\n",
       "\u001b[92m│\u001b[0m \u001b[48;2;39;40;34m \u001b[0m\u001b[38;2;230;219;116;48;2;39;40;34mutilized to streamline processes across different industries. For instance\u001b[0m\u001b[48;2;39;40;34m \u001b[0m \u001b[92m│\u001b[0m\n",
       "\u001b[92m│\u001b[0m \u001b[48;2;39;40;34m \u001b[0m\u001b[38;2;230;219;116;48;2;39;40;34min the nuclear sector, AI is being applied to accelerate reactor licensing\u001b[0m\u001b[48;2;39;40;34m \u001b[0m \u001b[92m│\u001b[0m\n",
       "\u001b[92m│\u001b[0m \u001b[48;2;39;40;34m \u001b[0m\u001b[38;2;230;219;116;48;2;39;40;34mand construction, with partnerships like Microsoft's collaboration with th\u001b[0m\u001b[48;2;39;40;34m \u001b[0m \u001b[92m│\u001b[0m\n",
       "\u001b[92m│\u001b[0m \u001b[48;2;39;40;34m \u001b[0m\u001b[38;2;230;219;116;48;2;39;40;34mDepartment of Energy\\u2019s Idaho National Lab and Westinghouse's \u001b[0m\u001b[48;2;39;40;34m        \u001b[0m\u001b[48;2;39;40;34m \u001b[0m \u001b[92m│\u001b[0m\n",
       "\u001b[92m│\u001b[0m \u001b[48;2;39;40;34m \u001b[0m\u001b[38;2;230;219;116;48;2;39;40;34mpartnership with Google. These initiatives aim to enhance nuclear \u001b[0m\u001b[48;2;39;40;34m        \u001b[0m\u001b[48;2;39;40;34m \u001b[0m \u001b[92m│\u001b[0m\n",
       "\u001b[92m│\u001b[0m \u001b[48;2;39;40;34m \u001b[0m\u001b[38;2;230;219;116;48;2;39;40;34mdevelopment while maintaining human oversight. \u001b[0m\u001b[48;2;39;40;34m                           \u001b[0m\u001b[48;2;39;40;34m \u001b[0m \u001b[92m│\u001b[0m\n",
       "\u001b[92m│\u001b[0m \u001b[48;2;39;40;34m \u001b[0m\u001b[38;2;230;219;116;48;2;39;40;34m([axios.com](https://www.axios.com/newsletters/axios-generate-5dcf1a30-624\u001b[0m\u001b[48;2;39;40;34m \u001b[0m \u001b[92m│\u001b[0m\n",
       "\u001b[92m│\u001b[0m \u001b[48;2;39;40;34m \u001b[0m\u001b[38;2;230;219;116;48;2;39;40;34m11f0-933f-c56d5ef52713?utm_source=openai))\\n\\n\\n## Recent Developments in \u001b[0m\u001b[48;2;39;40;34m \u001b[0m \u001b[92m│\u001b[0m\n",
       "\u001b[92m│\u001b[0m \u001b[48;2;39;40;34m \u001b[0m\u001b[38;2;230;219;116;48;2;39;40;34mStartups:\\n- [US AI startups see funding surge while more VC funds struggl\u001b[0m\u001b[48;2;39;40;34m \u001b[0m \u001b[92m│\u001b[0m\n",
       "\u001b[92m│\u001b[0m \u001b[48;2;39;40;34m \u001b[0m\u001b[38;2;230;219;116;48;2;39;40;34mto raise, data \u001b[0m\u001b[48;2;39;40;34m                                                           \u001b[0m\u001b[48;2;39;40;34m \u001b[0m \u001b[92m│\u001b[0m\n",
       "\u001b[92m│\u001b[0m \u001b[48;2;39;40;34m \u001b[0m\u001b[38;2;230;219;116;48;2;39;40;34mshows](https://www.reuters.com/business/us-ai-startups-see-funding-surge-w\u001b[0m\u001b[48;2;39;40;34m \u001b[0m \u001b[92m│\u001b[0m\n",
       "\u001b[92m│\u001b[0m \u001b[48;2;39;40;34m \u001b[0m\u001b[38;2;230;219;116;48;2;39;40;34mle-more-vc-funds-struggle-raise-data-shows-2025-07-15/?utm_source=openai)\\\u001b[0m\u001b[48;2;39;40;34m \u001b[0m \u001b[92m│\u001b[0m\n",
       "\u001b[92m│\u001b[0m \u001b[48;2;39;40;34m \u001b[0m\u001b[38;2;230;219;116;48;2;39;40;34m [Axios Pro Rata: AI eats \u001b[0m\u001b[48;2;39;40;34m                                                \u001b[0m\u001b[48;2;39;40;34m \u001b[0m \u001b[92m│\u001b[0m\n",
       "\u001b[92m│\u001b[0m \u001b[48;2;39;40;34m \u001b[0m\u001b[38;2;230;219;116;48;2;39;40;34mVC](https://www.axios.com/newsletters/axios-pro-rata-d4299627-1e82-44f2-93\u001b[0m\u001b[48;2;39;40;34m \u001b[0m \u001b[92m│\u001b[0m\n",
       "\u001b[92m│\u001b[0m \u001b[48;2;39;40;34m \u001b[0m\u001b[38;2;230;219;116;48;2;39;40;34m-212d8860b6aa?utm_source=openai)\\n- [Amazon to invest an additional $4 \u001b[0m\u001b[48;2;39;40;34m   \u001b[0m\u001b[48;2;39;40;34m \u001b[0m \u001b[92m│\u001b[0m\n",
       "\u001b[92m│\u001b[0m \u001b[48;2;39;40;34m \u001b[0m\u001b[38;2;230;219;116;48;2;39;40;34mbillion in AI startup \u001b[0m\u001b[48;2;39;40;34m                                                    \u001b[0m\u001b[48;2;39;40;34m \u001b[0m \u001b[92m│\u001b[0m\n",
       "\u001b[92m│\u001b[0m \u001b[48;2;39;40;34m \u001b[0m\u001b[38;2;230;219;116;48;2;39;40;34mAnthropic](https://apnews.com/article/7a5764907e8cf0c23117be9c710e9f6a?utm\u001b[0m\u001b[48;2;39;40;34m \u001b[0m \u001b[92m│\u001b[0m\n",
       "\u001b[92m│\u001b[0m \u001b[48;2;39;40;34m \u001b[0m\u001b[38;2;230;219;116;48;2;39;40;34mource=openai) \"\u001b[0m\u001b[38;2;248;248;242;48;2;39;40;34m,\u001b[0m\u001b[48;2;39;40;34m                                                          \u001b[0m\u001b[48;2;39;40;34m \u001b[0m \u001b[92m│\u001b[0m\n",
       "\u001b[92m│\u001b[0m \u001b[48;2;39;40;34m \u001b[0m\u001b[38;2;248;248;242;48;2;39;40;34m  \u001b[0m\u001b[38;2;255;70;137;48;2;39;40;34m\"annotations\"\u001b[0m\u001b[38;2;248;248;242;48;2;39;40;34m:\u001b[0m\u001b[38;2;248;248;242;48;2;39;40;34m \u001b[0m\u001b[38;2;102;217;239;48;2;39;40;34mnull\u001b[0m\u001b[38;2;248;248;242;48;2;39;40;34m,\u001b[0m\u001b[48;2;39;40;34m                                                    \u001b[0m\u001b[48;2;39;40;34m \u001b[0m \u001b[92m│\u001b[0m\n",
       "\u001b[92m│\u001b[0m \u001b[48;2;39;40;34m \u001b[0m\u001b[38;2;248;248;242;48;2;39;40;34m  \u001b[0m\u001b[38;2;255;70;137;48;2;39;40;34m\"meta\"\u001b[0m\u001b[38;2;248;248;242;48;2;39;40;34m:\u001b[0m\u001b[38;2;248;248;242;48;2;39;40;34m \u001b[0m\u001b[38;2;102;217;239;48;2;39;40;34mnull\u001b[0m\u001b[48;2;39;40;34m                                                            \u001b[0m\u001b[48;2;39;40;34m \u001b[0m \u001b[92m│\u001b[0m\n",
       "\u001b[92m│\u001b[0m \u001b[48;2;39;40;34m \u001b[0m\u001b[38;2;248;248;242;48;2;39;40;34m}\u001b[0m\u001b[48;2;39;40;34m                                                                         \u001b[0m\u001b[48;2;39;40;34m \u001b[0m \u001b[92m│\u001b[0m\n",
       "\u001b[92m│\u001b[0m \u001b[48;2;39;40;34m                                                                            \u001b[0m \u001b[92m│\u001b[0m\n",
       "\u001b[92m╰──────────────────────────────────────────────────────────────────────────────╯\u001b[0m\n"
      ]
     },
     "metadata": {},
     "output_type": "display_data"
    },
    {
     "name": "stdout",
     "output_type": "stream",
     "text": [
      "                        \r"
     ]
    },
    {
     "data": {
      "text/html": [
       "<pre style=\"white-space:pre;overflow-x:auto;line-height:normal;font-family:Menlo,'DejaVu Sans Mono',consolas,'Courier New',monospace\"><span style=\"color: #008000; text-decoration-color: #008000\">╭──────────────────────── </span><span style=\"color: #008000; text-decoration-color: #008000; font-weight: bold\">AGENT</span><span style=\"color: #008000; text-decoration-color: #008000\"> [07/28/2025 03:58:17] ─────────────────────────╮</span>\n",
       "<span style=\"color: #008000; text-decoration-color: #008000\">│</span> Here are some of the latest developments in the world of AI and AI startups: <span style=\"color: #008000; text-decoration-color: #008000\">│</span>\n",
       "<span style=\"color: #008000; text-decoration-color: #008000\">│</span>                                                                              <span style=\"color: #008000; text-decoration-color: #008000\">│</span>\n",
       "<span style=\"color: #008000; text-decoration-color: #008000\">│</span> <span style=\"color: #808000; text-decoration-color: #808000; font-weight: bold\"> 1 </span><span style=\"font-weight: bold\">Surge in AI Startup Funding</span>:                                              <span style=\"color: #008000; text-decoration-color: #008000\">│</span>\n",
       "<span style=\"color: #008000; text-decoration-color: #008000\">│</span> <span style=\"color: #808000; text-decoration-color: #808000; font-weight: bold\">    • </span>In the first half of 2025, U.S. AI startups saw a funding surge with   <span style=\"color: #008000; text-decoration-color: #008000\">│</span>\n",
       "<span style=\"color: #008000; text-decoration-color: #008000\">│</span> <span style=\"color: #808000; text-decoration-color: #808000; font-weight: bold\">      </span>investments hitting $162.8 billion. This growth was driven by major    <span style=\"color: #008000; text-decoration-color: #008000\">│</span>\n",
       "<span style=\"color: #008000; text-decoration-color: #008000\">│</span> <span style=\"color: #808000; text-decoration-color: #808000; font-weight: bold\">      </span>investments from tech firms such as OpenAI and Meta. AI-related        <span style=\"color: #008000; text-decoration-color: #008000\">│</span>\n",
       "<span style=\"color: #008000; text-decoration-color: #008000\">│</span> <span style=\"color: #808000; text-decoration-color: #808000; font-weight: bold\">      </span>investments made up 64.1% of the total deal value in this period.      <span style=\"color: #008000; text-decoration-color: #008000\">│</span>\n",
       "<span style=\"color: #008000; text-decoration-color: #008000\">│</span> <span style=\"color: #808000; text-decoration-color: #808000; font-weight: bold\"> 2 </span><span style=\"font-weight: bold\">Dominance in Venture Capital</span>:                                             <span style=\"color: #008000; text-decoration-color: #008000\">│</span>\n",
       "<span style=\"color: #008000; text-decoration-color: #008000\">│</span> <span style=\"color: #808000; text-decoration-color: #808000; font-weight: bold\">    • </span>AI startups have secured 53% of global venture capital funding, with   <span style=\"color: #008000; text-decoration-color: #008000\">│</span>\n",
       "<span style=\"color: #008000; text-decoration-color: #008000\">│</span> <span style=\"color: #808000; text-decoration-color: #808000; font-weight: bold\">      </span>64% in the U.S., underscoring AI's increasing significance in tech     <span style=\"color: #008000; text-decoration-color: #008000\">│</span>\n",
       "<span style=\"color: #008000; text-decoration-color: #008000\">│</span> <span style=\"color: #808000; text-decoration-color: #808000; font-weight: bold\">      </span>investment.                                                            <span style=\"color: #008000; text-decoration-color: #008000\">│</span>\n",
       "<span style=\"color: #008000; text-decoration-color: #008000\">│</span> <span style=\"color: #808000; text-decoration-color: #808000; font-weight: bold\"> 3 </span><span style=\"font-weight: bold\">Strategic Partnerships and Investments</span>:                                   <span style=\"color: #008000; text-decoration-color: #008000\">│</span>\n",
       "<span style=\"color: #008000; text-decoration-color: #008000\">│</span> <span style=\"color: #808000; text-decoration-color: #808000; font-weight: bold\">    • </span><span style=\"font-weight: bold\">Amazon and Anthropic</span>: Amazon increased its investment in Anthropic to  <span style=\"color: #008000; text-decoration-color: #008000\">│</span>\n",
       "<span style=\"color: #008000; text-decoration-color: #008000\">│</span> <span style=\"color: #808000; text-decoration-color: #808000; font-weight: bold\">      </span>$8 billion. This partnership focuses on innovation and responsible AI  <span style=\"color: #008000; text-decoration-color: #008000\">│</span>\n",
       "<span style=\"color: #008000; text-decoration-color: #008000\">│</span> <span style=\"color: #808000; text-decoration-color: #808000; font-weight: bold\">      </span>development.                                                           <span style=\"color: #008000; text-decoration-color: #008000\">│</span>\n",
       "<span style=\"color: #008000; text-decoration-color: #008000\">│</span> <span style=\"color: #808000; text-decoration-color: #808000; font-weight: bold\">    • </span><span style=\"font-weight: bold\">Applied Intuition</span>: Achieved a $15 billion valuation after a $600       <span style=\"color: #008000; text-decoration-color: #008000\">│</span>\n",
       "<span style=\"color: #008000; text-decoration-color: #008000\">│</span> <span style=\"color: #808000; text-decoration-color: #808000; font-weight: bold\">      </span>million funding round.                                                 <span style=\"color: #008000; text-decoration-color: #008000\">│</span>\n",
       "<span style=\"color: #008000; text-decoration-color: #008000\">│</span> <span style=\"color: #808000; text-decoration-color: #808000; font-weight: bold\">    • </span><span style=\"font-weight: bold\">Mistral AI</span>: Raised €600 million, aiming to support expansion.          <span style=\"color: #008000; text-decoration-color: #008000\">│</span>\n",
       "<span style=\"color: #008000; text-decoration-color: #008000\">│</span> <span style=\"color: #808000; text-decoration-color: #808000; font-weight: bold\"> 4 </span><span style=\"font-weight: bold\">Emerging AI Startups</span>:                                                     <span style=\"color: #008000; text-decoration-color: #008000\">│</span>\n",
       "<span style=\"color: #008000; text-decoration-color: #008000\">│</span> <span style=\"color: #808000; text-decoration-color: #808000; font-weight: bold\">    • </span><span style=\"font-weight: bold\">Neysa</span>: An Indian startup providing cloud platforms for AI, raised $50  <span style=\"color: #008000; text-decoration-color: #008000\">│</span>\n",
       "<span style=\"color: #008000; text-decoration-color: #008000\">│</span> <span style=\"color: #808000; text-decoration-color: #808000; font-weight: bold\">      </span>million.                                                               <span style=\"color: #008000; text-decoration-color: #008000\">│</span>\n",
       "<span style=\"color: #008000; text-decoration-color: #008000\">│</span> <span style=\"color: #808000; text-decoration-color: #808000; font-weight: bold\">    • </span><span style=\"font-weight: bold\">Axelera AI</span>: Netherlands-based, received a €61.6 million grant for its  <span style=\"color: #008000; text-decoration-color: #008000\">│</span>\n",
       "<span style=\"color: #008000; text-decoration-color: #008000\">│</span> <span style=\"color: #808000; text-decoration-color: #808000; font-weight: bold\">      </span>AI processing units.                                                   <span style=\"color: #008000; text-decoration-color: #008000\">│</span>\n",
       "<span style=\"color: #008000; text-decoration-color: #008000\">│</span> <span style=\"color: #808000; text-decoration-color: #808000; font-weight: bold\"> 5 </span><span style=\"font-weight: bold\">AI's Impact on Various Sectors</span>:                                           <span style=\"color: #008000; text-decoration-color: #008000\">│</span>\n",
       "<span style=\"color: #008000; text-decoration-color: #008000\">│</span> <span style=\"color: #808000; text-decoration-color: #808000; font-weight: bold\">    • </span>AI is being used to expedite processes in industries like nuclear      <span style=\"color: #008000; text-decoration-color: #008000\">│</span>\n",
       "<span style=\"color: #008000; text-decoration-color: #008000\">│</span> <span style=\"color: #808000; text-decoration-color: #808000; font-weight: bold\">      </span>energy, where partnerships aim to accelerate reactor licensing and     <span style=\"color: #008000; text-decoration-color: #008000\">│</span>\n",
       "<span style=\"color: #008000; text-decoration-color: #008000\">│</span> <span style=\"color: #808000; text-decoration-color: #808000; font-weight: bold\">      </span>construction.                                                          <span style=\"color: #008000; text-decoration-color: #008000\">│</span>\n",
       "<span style=\"color: #008000; text-decoration-color: #008000\">│</span>                                                                              <span style=\"color: #008000; text-decoration-color: #008000\">│</span>\n",
       "<span style=\"color: #008000; text-decoration-color: #008000\">│</span> For more detailed articles and specific company information, you can check   <span style=\"color: #008000; text-decoration-color: #008000\">│</span>\n",
       "<span style=\"color: #008000; text-decoration-color: #008000\">│</span> the sources like Reuters, Axios, and AP News.                                <span style=\"color: #008000; text-decoration-color: #008000\">│</span>\n",
       "<span style=\"color: #008000; text-decoration-color: #008000\">╰──────────────────────────────────────────────────────────────────────────────╯</span>\n",
       "</pre>\n"
      ],
      "text/plain": [
       "\u001b[32m╭─\u001b[0m\u001b[32m───────────────────────\u001b[0m\u001b[32m \u001b[0m\u001b[1;32mAGENT\u001b[0m\u001b[32m [07/28/2025 03:58:17] \u001b[0m\u001b[32m────────────────────────\u001b[0m\u001b[32m─╮\u001b[0m\n",
       "\u001b[32m│\u001b[0m Here are some of the latest developments in the world of AI and AI startups: \u001b[32m│\u001b[0m\n",
       "\u001b[32m│\u001b[0m                                                                              \u001b[32m│\u001b[0m\n",
       "\u001b[32m│\u001b[0m \u001b[1;33m 1 \u001b[0m\u001b[1mSurge in AI Startup Funding\u001b[0m:                                              \u001b[32m│\u001b[0m\n",
       "\u001b[32m│\u001b[0m \u001b[1;33m   \u001b[0m\u001b[1;33m • \u001b[0mIn the first half of 2025, U.S. AI startups saw a funding surge with   \u001b[32m│\u001b[0m\n",
       "\u001b[32m│\u001b[0m \u001b[1;33m   \u001b[0m\u001b[1;33m   \u001b[0minvestments hitting $162.8 billion. This growth was driven by major    \u001b[32m│\u001b[0m\n",
       "\u001b[32m│\u001b[0m \u001b[1;33m   \u001b[0m\u001b[1;33m   \u001b[0minvestments from tech firms such as OpenAI and Meta. AI-related        \u001b[32m│\u001b[0m\n",
       "\u001b[32m│\u001b[0m \u001b[1;33m   \u001b[0m\u001b[1;33m   \u001b[0minvestments made up 64.1% of the total deal value in this period.      \u001b[32m│\u001b[0m\n",
       "\u001b[32m│\u001b[0m \u001b[1;33m 2 \u001b[0m\u001b[1mDominance in Venture Capital\u001b[0m:                                             \u001b[32m│\u001b[0m\n",
       "\u001b[32m│\u001b[0m \u001b[1;33m   \u001b[0m\u001b[1;33m • \u001b[0mAI startups have secured 53% of global venture capital funding, with   \u001b[32m│\u001b[0m\n",
       "\u001b[32m│\u001b[0m \u001b[1;33m   \u001b[0m\u001b[1;33m   \u001b[0m64% in the U.S., underscoring AI's increasing significance in tech     \u001b[32m│\u001b[0m\n",
       "\u001b[32m│\u001b[0m \u001b[1;33m   \u001b[0m\u001b[1;33m   \u001b[0minvestment.                                                            \u001b[32m│\u001b[0m\n",
       "\u001b[32m│\u001b[0m \u001b[1;33m 3 \u001b[0m\u001b[1mStrategic Partnerships and Investments\u001b[0m:                                   \u001b[32m│\u001b[0m\n",
       "\u001b[32m│\u001b[0m \u001b[1;33m   \u001b[0m\u001b[1;33m • \u001b[0m\u001b[1mAmazon and Anthropic\u001b[0m: Amazon increased its investment in Anthropic to  \u001b[32m│\u001b[0m\n",
       "\u001b[32m│\u001b[0m \u001b[1;33m   \u001b[0m\u001b[1;33m   \u001b[0m$8 billion. This partnership focuses on innovation and responsible AI  \u001b[32m│\u001b[0m\n",
       "\u001b[32m│\u001b[0m \u001b[1;33m   \u001b[0m\u001b[1;33m   \u001b[0mdevelopment.                                                           \u001b[32m│\u001b[0m\n",
       "\u001b[32m│\u001b[0m \u001b[1;33m   \u001b[0m\u001b[1;33m • \u001b[0m\u001b[1mApplied Intuition\u001b[0m: Achieved a $15 billion valuation after a $600       \u001b[32m│\u001b[0m\n",
       "\u001b[32m│\u001b[0m \u001b[1;33m   \u001b[0m\u001b[1;33m   \u001b[0mmillion funding round.                                                 \u001b[32m│\u001b[0m\n",
       "\u001b[32m│\u001b[0m \u001b[1;33m   \u001b[0m\u001b[1;33m • \u001b[0m\u001b[1mMistral AI\u001b[0m: Raised €600 million, aiming to support expansion.          \u001b[32m│\u001b[0m\n",
       "\u001b[32m│\u001b[0m \u001b[1;33m 4 \u001b[0m\u001b[1mEmerging AI Startups\u001b[0m:                                                     \u001b[32m│\u001b[0m\n",
       "\u001b[32m│\u001b[0m \u001b[1;33m   \u001b[0m\u001b[1;33m • \u001b[0m\u001b[1mNeysa\u001b[0m: An Indian startup providing cloud platforms for AI, raised $50  \u001b[32m│\u001b[0m\n",
       "\u001b[32m│\u001b[0m \u001b[1;33m   \u001b[0m\u001b[1;33m   \u001b[0mmillion.                                                               \u001b[32m│\u001b[0m\n",
       "\u001b[32m│\u001b[0m \u001b[1;33m   \u001b[0m\u001b[1;33m • \u001b[0m\u001b[1mAxelera AI\u001b[0m: Netherlands-based, received a €61.6 million grant for its  \u001b[32m│\u001b[0m\n",
       "\u001b[32m│\u001b[0m \u001b[1;33m   \u001b[0m\u001b[1;33m   \u001b[0mAI processing units.                                                   \u001b[32m│\u001b[0m\n",
       "\u001b[32m│\u001b[0m \u001b[1;33m 5 \u001b[0m\u001b[1mAI's Impact on Various Sectors\u001b[0m:                                           \u001b[32m│\u001b[0m\n",
       "\u001b[32m│\u001b[0m \u001b[1;33m   \u001b[0m\u001b[1;33m • \u001b[0mAI is being used to expedite processes in industries like nuclear      \u001b[32m│\u001b[0m\n",
       "\u001b[32m│\u001b[0m \u001b[1;33m   \u001b[0m\u001b[1;33m   \u001b[0menergy, where partnerships aim to accelerate reactor licensing and     \u001b[32m│\u001b[0m\n",
       "\u001b[32m│\u001b[0m \u001b[1;33m   \u001b[0m\u001b[1;33m   \u001b[0mconstruction.                                                          \u001b[32m│\u001b[0m\n",
       "\u001b[32m│\u001b[0m                                                                              \u001b[32m│\u001b[0m\n",
       "\u001b[32m│\u001b[0m For more detailed articles and specific company information, you can check   \u001b[32m│\u001b[0m\n",
       "\u001b[32m│\u001b[0m the sources like Reuters, Axios, and AP News.                                \u001b[32m│\u001b[0m\n",
       "\u001b[32m╰──────────────────────────────────────────────────────────────────────────────╯\u001b[0m\n"
      ]
     },
     "metadata": {},
     "output_type": "display_data"
    },
    {
     "name": "stdout",
     "output_type": "stream",
     "text": [
      "Streaming timed out after 20 seconds - returning collected messages\n"
     ]
    }
   ],
   "source": [
    "# Subscribe to the async task messages produced by the agent\n",
    "from agentex.lib.utils.dev_tools import subscribe_to_async_task_messages\n",
    "\n",
    "task_messages = subscribe_to_async_task_messages(\n",
    "    client=client,\n",
    "    task=task, \n",
    "    only_after_timestamp=event.created_at, \n",
    "    print_messages=True,\n",
    "    rich_print=True,\n",
    "    timeout=20,\n",
    ")"
   ]
  },
  {
   "cell_type": "code",
   "execution_count": null,
   "id": "4864e354",
   "metadata": {},
   "outputs": [],
   "source": []
  }
 ],
 "metadata": {
  "kernelspec": {
   "display_name": ".venv",
   "language": "python",
   "name": "python3"
  },
  "language_info": {
   "codemirror_mode": {
    "name": "ipython",
    "version": 3
   },
   "file_extension": ".py",
   "mimetype": "text/x-python",
   "name": "python",
   "nbconvert_exporter": "python",
   "pygments_lexer": "ipython3",
   "version": "3.12.9"
  }
 },
 "nbformat": 4,
 "nbformat_minor": 5
}
