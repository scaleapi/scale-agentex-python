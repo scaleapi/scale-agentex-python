{
 "cells": [
  {
   "cell_type": "code",
   "execution_count": 1,
   "id": "36834357",
   "metadata": {},
   "outputs": [],
   "source": [
    "from agentex import Agentex\n",
    "\n",
    "client = Agentex(base_url=\"http://localhost:5003\")"
   ]
  },
  {
   "cell_type": "code",
   "execution_count": 2,
   "id": "d1c309d6",
   "metadata": {},
   "outputs": [],
   "source": [
    "AGENT_NAME = \"ab080-batch-events\""
   ]
  },
  {
   "cell_type": "code",
   "execution_count": 3,
   "id": "9f6e6ef0",
   "metadata": {},
   "outputs": [
    {
     "name": "stdout",
     "output_type": "stream",
     "text": [
      "Task(id='83aeec42-3e63-4652-aff5-506252e7cb67', created_at=datetime.datetime(2025, 7, 27, 5, 56, 44, 321516, tzinfo=TzInfo(UTC)), name='776014ce-task', status='RUNNING', status_reason='Task created, forwarding to ACP server', updated_at=datetime.datetime(2025, 7, 27, 5, 56, 44, 321516, tzinfo=TzInfo(UTC)))\n"
     ]
    }
   ],
   "source": [
    "# (REQUIRED) Create a new task. For Agentic agents, you must create a task for messages to be associated with.\n",
    "\n",
    "from typing import cast\n",
    "import uuid\n",
    "\n",
    "from agentex.types import Task\n",
    "\n",
    "TASK_ID = str(uuid.uuid4())[:8]\n",
    "\n",
    "rpc_response = client.agents.rpc_by_name(\n",
    "    agent_name=AGENT_NAME,\n",
    "    method=\"task/create\",\n",
    "    params={\n",
    "        \"name\": f\"{TASK_ID}-task\",\n",
    "        \"params\": {}\n",
    "    }\n",
    ")\n",
    "\n",
    "task = cast(Task, rpc_response.result)\n",
    "print(task)"
   ]
  },
  {
   "cell_type": "code",
   "execution_count": 6,
   "id": "b03b0d37",
   "metadata": {},
   "outputs": [
    {
     "name": "stdout",
     "output_type": "stream",
     "text": [
      "Event(id='f83319aa-6f63-4495-be1e-6ca52595e865', agent_id='406f9f42-9f3f-4bb2-869c-d6b36028e487', sequence_id=225, task_id='83aeec42-3e63-4652-aff5-506252e7cb67', content=TextContent(author='user', content='Hello, what can you do?', attachments=None, format='plain', style='static', type='text'), created_at=datetime.datetime(2025, 7, 27, 6, 0, 8, 557860, tzinfo=TzInfo(UTC)))\n",
      "Event(id='be4b68b3-991a-4dfe-8be5-31f1cc032ef1', agent_id='406f9f42-9f3f-4bb2-869c-d6b36028e487', sequence_id=226, task_id='83aeec42-3e63-4652-aff5-506252e7cb67', content=TextContent(author='user', content='Can you tell me a joke?', attachments=None, format='plain', style='static', type='text'), created_at=datetime.datetime(2025, 7, 27, 6, 0, 8, 615897, tzinfo=TzInfo(UTC)))\n",
      "Event(id='3001a88f-de80-44bf-b2ff-686428da043b', agent_id='406f9f42-9f3f-4bb2-869c-d6b36028e487', sequence_id=227, task_id='83aeec42-3e63-4652-aff5-506252e7cb67', content=TextContent(author='user', content='What is the capital of France?', attachments=None, format='plain', style='static', type='text'), created_at=datetime.datetime(2025, 7, 27, 6, 0, 8, 665333, tzinfo=TzInfo(UTC)))\n",
      "Event(id='49ca99da-1c88-41f3-abea-91845cd927d5', agent_id='406f9f42-9f3f-4bb2-869c-d6b36028e487', sequence_id=228, task_id='83aeec42-3e63-4652-aff5-506252e7cb67', content=TextContent(author='user', content='Write a short story about a cat', attachments=None, format='plain', style='static', type='text'), created_at=datetime.datetime(2025, 7, 27, 6, 0, 8, 704690, tzinfo=TzInfo(UTC)))\n",
      "Event(id='da567964-5fa6-419d-a573-66e673f18669', agent_id='406f9f42-9f3f-4bb2-869c-d6b36028e487', sequence_id=229, task_id='83aeec42-3e63-4652-aff5-506252e7cb67', content=TextContent(author='user', content='Tell me how an LLM works', attachments=None, format='plain', style='static', type='text'), created_at=datetime.datetime(2025, 7, 27, 6, 0, 8, 748329, tzinfo=TzInfo(UTC)))\n"
     ]
    }
   ],
   "source": [
    "# Test non streaming response\n",
    "from typing import cast\n",
    "from agentex.types import Event\n",
    "from agentex.types.agent_rpc_params import ParamsSendEventRequest\n",
    "\n",
    "# The response is expected to be a list of TaskMessage objects, which is a union of the following types:\n",
    "# - TextContent: A message with just text content   \n",
    "# - DataContent: A message with JSON-serializable data content\n",
    "# - ToolRequestContent: A message with a tool request, which contains a JSON-serializable request to call a tool\n",
    "# - ToolResponseContent: A message with a tool response, which contains response object from a tool call in its content\n",
    "\n",
    "# When processing the message/send response, if you are expecting more than TextContent, such as DataContent, ToolRequestContent, or ToolResponseContent, you can process them as well\n",
    "\n",
    "concurrent_event_messages: list[ParamsSendEventRequest] = [\n",
    "    {\n",
    "        \"content\": {\"type\": \"text\", \"author\": \"user\", \"content\": \"Hello, what can you do?\"},\n",
    "        \"task_id\": task.id,\n",
    "    },\n",
    "    {\n",
    "        \"content\": {\"type\": \"text\", \"author\": \"user\", \"content\": \"Can you tell me a joke?\"},\n",
    "        \"task_id\": task.id,\n",
    "    },\n",
    "    {\n",
    "        \"content\": {\"type\": \"text\", \"author\": \"user\", \"content\": \"What is the capital of France?\"},\n",
    "        \"task_id\": task.id,\n",
    "    },\n",
    "    {\n",
    "        \"content\": {\"type\": \"text\", \"author\": \"user\", \"content\": \"Write a short story about a cat\"},\n",
    "        \"task_id\": task.id,\n",
    "    },\n",
    "    {\n",
    "        \"content\": {\"type\": \"text\", \"author\": \"user\", \"content\": \"Tell me how an LLM works\"},\n",
    "        \"task_id\": task.id,\n",
    "    },\n",
    "]\n",
    "\n",
    "events: list[Event] = []\n",
    "\n",
    "for event_message in concurrent_event_messages:\n",
    "    rpc_response = client.agents.rpc_by_name(\n",
    "        agent_name=AGENT_NAME,\n",
    "        method=\"event/send\",\n",
    "        params=event_message\n",
    "    )\n",
    "\n",
    "    event = cast(Event, rpc_response.result)\n",
    "    events.append(event)\n",
    "\n",
    "for event in events:\n",
    "    print(event)"
   ]
  },
  {
   "cell_type": "code",
   "execution_count": 7,
   "id": "a6927cc0",
   "metadata": {},
   "outputs": [
    {
     "data": {
      "text/html": [
       "<pre style=\"white-space:pre;overflow-x:auto;line-height:normal;font-family:Menlo,'DejaVu Sans Mono',consolas,'Courier New',monospace\"><span style=\"color: #008000; text-decoration-color: #008000\">╭──────────────────────── </span><span style=\"color: #008000; text-decoration-color: #008000; font-weight: bold\">AGENT</span><span style=\"color: #008000; text-decoration-color: #008000\"> [07/27/2025 06:00:18] ─────────────────────────╮</span>\n",
       "<span style=\"color: #008000; text-decoration-color: #008000\">│</span> Processed event IDs: ['f83319aa-6f63-4495-be1e-6ca52595e865',                <span style=\"color: #008000; text-decoration-color: #008000\">│</span>\n",
       "<span style=\"color: #008000; text-decoration-color: #008000\">│</span> 'be4b68b3-991a-4dfe-8be5-31f1cc032ef1']                                      <span style=\"color: #008000; text-decoration-color: #008000\">│</span>\n",
       "<span style=\"color: #008000; text-decoration-color: #008000\">╰──────────────────────────────────────────────────────────────────────────────╯</span>\n",
       "</pre>\n"
      ],
      "text/plain": [
       "\u001b[32m╭─\u001b[0m\u001b[32m───────────────────────\u001b[0m\u001b[32m \u001b[0m\u001b[1;32mAGENT\u001b[0m\u001b[32m [07/27/2025 06:00:18] \u001b[0m\u001b[32m────────────────────────\u001b[0m\u001b[32m─╮\u001b[0m\n",
       "\u001b[32m│\u001b[0m Processed event IDs: ['f83319aa-6f63-4495-be1e-6ca52595e865',                \u001b[32m│\u001b[0m\n",
       "\u001b[32m│\u001b[0m 'be4b68b3-991a-4dfe-8be5-31f1cc032ef1']                                      \u001b[32m│\u001b[0m\n",
       "\u001b[32m╰──────────────────────────────────────────────────────────────────────────────╯\u001b[0m\n"
      ]
     },
     "metadata": {},
     "output_type": "display_data"
    },
    {
     "data": {
      "text/html": [
       "<pre style=\"white-space:pre;overflow-x:auto;line-height:normal;font-family:Menlo,'DejaVu Sans Mono',consolas,'Courier New',monospace\"><span style=\"color: #008000; text-decoration-color: #008000\">╭──────────────────────── </span><span style=\"color: #008000; text-decoration-color: #008000; font-weight: bold\">AGENT</span><span style=\"color: #008000; text-decoration-color: #008000\"> [07/27/2025 06:00:33] ─────────────────────────╮</span>\n",
       "<span style=\"color: #008000; text-decoration-color: #008000\">│</span> Processed event IDs: ['3001a88f-de80-44bf-b2ff-686428da043b',                <span style=\"color: #008000; text-decoration-color: #008000\">│</span>\n",
       "<span style=\"color: #008000; text-decoration-color: #008000\">│</span> '49ca99da-1c88-41f3-abea-91845cd927d5',                                      <span style=\"color: #008000; text-decoration-color: #008000\">│</span>\n",
       "<span style=\"color: #008000; text-decoration-color: #008000\">│</span> 'da567964-5fa6-419d-a573-66e673f18669']                                      <span style=\"color: #008000; text-decoration-color: #008000\">│</span>\n",
       "<span style=\"color: #008000; text-decoration-color: #008000\">╰──────────────────────────────────────────────────────────────────────────────╯</span>\n",
       "</pre>\n"
      ],
      "text/plain": [
       "\u001b[32m╭─\u001b[0m\u001b[32m───────────────────────\u001b[0m\u001b[32m \u001b[0m\u001b[1;32mAGENT\u001b[0m\u001b[32m [07/27/2025 06:00:33] \u001b[0m\u001b[32m────────────────────────\u001b[0m\u001b[32m─╮\u001b[0m\n",
       "\u001b[32m│\u001b[0m Processed event IDs: ['3001a88f-de80-44bf-b2ff-686428da043b',                \u001b[32m│\u001b[0m\n",
       "\u001b[32m│\u001b[0m '49ca99da-1c88-41f3-abea-91845cd927d5',                                      \u001b[32m│\u001b[0m\n",
       "\u001b[32m│\u001b[0m 'da567964-5fa6-419d-a573-66e673f18669']                                      \u001b[32m│\u001b[0m\n",
       "\u001b[32m╰──────────────────────────────────────────────────────────────────────────────╯\u001b[0m\n"
      ]
     },
     "metadata": {},
     "output_type": "display_data"
    },
    {
     "name": "stdout",
     "output_type": "stream",
     "text": [
      "Streaming timed out after 20 seconds - returning collected messages\n"
     ]
    }
   ],
   "source": [
    "from agentex.lib.utils.dev_tools import subscribe_to_async_task_messages\n",
    "\n",
    "task_messages = subscribe_to_async_task_messages(\n",
    "    client=client,\n",
    "    task=task, \n",
    "    only_after_timestamp=event.created_at, \n",
    "    print_messages=True,\n",
    "    rich_print=True,\n",
    "    timeout=20,\n",
    ")"
   ]
  },
  {
   "cell_type": "code",
   "execution_count": null,
   "id": "593a0a47",
   "metadata": {},
   "outputs": [],
   "source": []
  }
 ],
 "metadata": {
  "kernelspec": {
   "display_name": ".venv",
   "language": "python",
   "name": "python3"
  },
  "language_info": {
   "codemirror_mode": {
    "name": "ipython",
    "version": 3
   },
   "file_extension": ".py",
   "mimetype": "text/x-python",
   "name": "python",
   "nbconvert_exporter": "python",
   "pygments_lexer": "ipython3",
   "version": "3.12.9"
  }
 },
 "nbformat": 4,
 "nbformat_minor": 5
}
