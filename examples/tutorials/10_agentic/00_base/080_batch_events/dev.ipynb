{
 "cells": [
  {
   "cell_type": "code",
   "execution_count": 1,
   "id": "36834357",
   "metadata": {},
   "outputs": [],
   "source": [
    "from agentex import Agentex\n",
    "\n",
    "client = Agentex(base_url=\"http://localhost:5003\")"
   ]
  },
  {
   "cell_type": "code",
   "execution_count": 2,
   "id": "d1c309d6",
   "metadata": {},
   "outputs": [],
   "source": [
    "AGENT_NAME = \"ab080-batch-events\""
   ]
  },
  {
   "cell_type": "code",
   "execution_count": 3,
   "id": "9f6e6ef0",
   "metadata": {},
   "outputs": [
    {
     "name": "stdout",
     "output_type": "stream",
     "text": [
      "Task(id='a2e50f7f-415f-4243-8809-4e4cd22e6f91', created_at=datetime.datetime(2025, 7, 28, 4, 0, 28, 678078, tzinfo=TzInfo(UTC)), name='257301f4-task', status='RUNNING', status_reason='Task created, forwarding to ACP server', updated_at=datetime.datetime(2025, 7, 28, 4, 0, 28, 678078, tzinfo=TzInfo(UTC)))\n"
     ]
    }
   ],
   "source": [
    "# (REQUIRED) Create a new task. For Agentic agents, you must create a task for messages to be associated with.\n",
    "import uuid\n",
    "\n",
    "rpc_response = client.agents.create_task(\n",
    "    agent_name=AGENT_NAME,\n",
    "    params={\n",
    "        \"name\": f\"{str(uuid.uuid4())[:8]}-task\",\n",
    "        \"params\": {}\n",
    "    }\n",
    ")\n",
    "\n",
    "task = rpc_response.result\n",
    "print(task)"
   ]
  },
  {
   "cell_type": "code",
   "execution_count": 4,
   "id": "b03b0d37",
   "metadata": {},
   "outputs": [
    {
     "name": "stdout",
     "output_type": "stream",
     "text": [
      "Event(id='56a214e2-f11a-456d-a65c-ef4128f068b1', agent_id='406f9f42-9f3f-4bb2-869c-d6b36028e487', sequence_id=246, task_id='a2e50f7f-415f-4243-8809-4e4cd22e6f91', content=TextContent(author='user', content='Hello tell me the latest news about AI and AI startups', attachments=None, format='plain', style='static', type='text'), created_at=datetime.datetime(2025, 7, 28, 4, 0, 28, 834958, tzinfo=TzInfo(UTC)))\n",
      "Event(id='94b21c62-4ad9-46d7-904d-4a2cf034b55e', agent_id='406f9f42-9f3f-4bb2-869c-d6b36028e487', sequence_id=247, task_id='a2e50f7f-415f-4243-8809-4e4cd22e6f91', content=TextContent(author='user', content='Hello tell me the latest news about AI and AI startups', attachments=None, format='plain', style='static', type='text'), created_at=datetime.datetime(2025, 7, 28, 4, 0, 28, 886831, tzinfo=TzInfo(UTC)))\n",
      "Event(id='5143e12a-7a66-44ad-94cb-bdcfae32770c', agent_id='406f9f42-9f3f-4bb2-869c-d6b36028e487', sequence_id=248, task_id='a2e50f7f-415f-4243-8809-4e4cd22e6f91', content=TextContent(author='user', content='Hello tell me the latest news about AI and AI startups', attachments=None, format='plain', style='static', type='text'), created_at=datetime.datetime(2025, 7, 28, 4, 0, 28, 940474, tzinfo=TzInfo(UTC)))\n",
      "Event(id='ac2cdee3-00eb-4294-8be8-cb30c35664e3', agent_id='406f9f42-9f3f-4bb2-869c-d6b36028e487', sequence_id=249, task_id='a2e50f7f-415f-4243-8809-4e4cd22e6f91', content=TextContent(author='user', content='Hello tell me the latest news about AI and AI startups', attachments=None, format='plain', style='static', type='text'), created_at=datetime.datetime(2025, 7, 28, 4, 0, 28, 983842, tzinfo=TzInfo(UTC)))\n",
      "Event(id='fba14bc1-af91-41e5-bc83-f892d0e2d8a2', agent_id='406f9f42-9f3f-4bb2-869c-d6b36028e487', sequence_id=250, task_id='a2e50f7f-415f-4243-8809-4e4cd22e6f91', content=TextContent(author='user', content='Hello tell me the latest news about AI and AI startups', attachments=None, format='plain', style='static', type='text'), created_at=datetime.datetime(2025, 7, 28, 4, 0, 29, 24825, tzinfo=TzInfo(UTC)))\n"
     ]
    }
   ],
   "source": [
    "# Send an event to the agent\n",
    "from agentex.types import Event\n",
    "from agentex.types.agent_rpc_params import ParamsSendEventRequest\n",
    "\n",
    "# The response is expected to be a list of TaskMessage objects, which is a union of the following types:\n",
    "# - TextContent: A message with just text content   \n",
    "# - DataContent: A message with JSON-serializable data content\n",
    "# - ToolRequestContent: A message with a tool request, which contains a JSON-serializable request to call a tool\n",
    "# - ToolResponseContent: A message with a tool response, which contains response object from a tool call in its content\n",
    "\n",
    "# When processing the message/send response, if you are expecting more than TextContent, such as DataContent, ToolRequestContent, or ToolResponseContent, you can process them as well\n",
    "\n",
    "concurrent_event_messages: list[ParamsSendEventRequest] = [\n",
    "    {\n",
    "        \"content\": {\"type\": \"text\", \"author\": \"user\", \"content\": \"Hello, what can you do?\"},\n",
    "        \"task_id\": task.id,\n",
    "    },\n",
    "    {\n",
    "        \"content\": {\"type\": \"text\", \"author\": \"user\", \"content\": \"Can you tell me a joke?\"},\n",
    "        \"task_id\": task.id,\n",
    "    },\n",
    "    {\n",
    "        \"content\": {\"type\": \"text\", \"author\": \"user\", \"content\": \"What is the capital of France?\"},\n",
    "        \"task_id\": task.id,\n",
    "    },\n",
    "    {\n",
    "        \"content\": {\"type\": \"text\", \"author\": \"user\", \"content\": \"Write a short story about a cat\"},\n",
    "        \"task_id\": task.id,\n",
    "    },\n",
    "    {\n",
    "        \"content\": {\"type\": \"text\", \"author\": \"user\", \"content\": \"Tell me how an LLM works\"},\n",
    "        \"task_id\": task.id,\n",
    "    },\n",
    "]\n",
    "\n",
    "events: list[Event] = []\n",
    "\n",
    "for event_message in concurrent_event_messages:\n",
    "    rpc_response = client.agents.send_event(\n",
    "        agent_name=AGENT_NAME,\n",
    "        params={\n",
    "            \"content\": {\"type\": \"text\", \"author\": \"user\", \"content\": \"Hello tell me the latest news about AI and AI startups\"},\n",
    "            \"task_id\": task.id,\n",
    "        }\n",
    "    )\n",
    "\n",
    "    event = rpc_response.result\n",
    "    events.append(event)\n",
    "\n",
    "for event in events:\n",
    "    print(event)"
   ]
  },
  {
   "cell_type": "code",
   "execution_count": 5,
   "id": "a6927cc0",
   "metadata": {},
   "outputs": [
    {
     "data": {
      "text/html": [
       "<pre style=\"white-space:pre;overflow-x:auto;line-height:normal;font-family:Menlo,'DejaVu Sans Mono',consolas,'Courier New',monospace\"><span style=\"color: #008000; text-decoration-color: #008000\">╭──────────────────────── </span><span style=\"color: #008000; text-decoration-color: #008000; font-weight: bold\">AGENT</span><span style=\"color: #008000; text-decoration-color: #008000\"> [07/28/2025 04:00:38] ─────────────────────────╮</span>\n",
       "<span style=\"color: #008000; text-decoration-color: #008000\">│</span> Processed event IDs: ['56a214e2-f11a-456d-a65c-ef4128f068b1',                <span style=\"color: #008000; text-decoration-color: #008000\">│</span>\n",
       "<span style=\"color: #008000; text-decoration-color: #008000\">│</span> '94b21c62-4ad9-46d7-904d-4a2cf034b55e']                                      <span style=\"color: #008000; text-decoration-color: #008000\">│</span>\n",
       "<span style=\"color: #008000; text-decoration-color: #008000\">╰──────────────────────────────────────────────────────────────────────────────╯</span>\n",
       "</pre>\n"
      ],
      "text/plain": [
       "\u001b[32m╭─\u001b[0m\u001b[32m───────────────────────\u001b[0m\u001b[32m \u001b[0m\u001b[1;32mAGENT\u001b[0m\u001b[32m [07/28/2025 04:00:38] \u001b[0m\u001b[32m────────────────────────\u001b[0m\u001b[32m─╮\u001b[0m\n",
       "\u001b[32m│\u001b[0m Processed event IDs: ['56a214e2-f11a-456d-a65c-ef4128f068b1',                \u001b[32m│\u001b[0m\n",
       "\u001b[32m│\u001b[0m '94b21c62-4ad9-46d7-904d-4a2cf034b55e']                                      \u001b[32m│\u001b[0m\n",
       "\u001b[32m╰──────────────────────────────────────────────────────────────────────────────╯\u001b[0m\n"
      ]
     },
     "metadata": {},
     "output_type": "display_data"
    },
    {
     "data": {
      "text/html": [
       "<pre style=\"white-space:pre;overflow-x:auto;line-height:normal;font-family:Menlo,'DejaVu Sans Mono',consolas,'Courier New',monospace\"><span style=\"color: #008000; text-decoration-color: #008000\">╭──────────────────────── </span><span style=\"color: #008000; text-decoration-color: #008000; font-weight: bold\">AGENT</span><span style=\"color: #008000; text-decoration-color: #008000\"> [07/28/2025 04:00:54] ─────────────────────────╮</span>\n",
       "<span style=\"color: #008000; text-decoration-color: #008000\">│</span> Processed event IDs: ['5143e12a-7a66-44ad-94cb-bdcfae32770c',                <span style=\"color: #008000; text-decoration-color: #008000\">│</span>\n",
       "<span style=\"color: #008000; text-decoration-color: #008000\">│</span> 'ac2cdee3-00eb-4294-8be8-cb30c35664e3',                                      <span style=\"color: #008000; text-decoration-color: #008000\">│</span>\n",
       "<span style=\"color: #008000; text-decoration-color: #008000\">│</span> 'fba14bc1-af91-41e5-bc83-f892d0e2d8a2']                                      <span style=\"color: #008000; text-decoration-color: #008000\">│</span>\n",
       "<span style=\"color: #008000; text-decoration-color: #008000\">╰──────────────────────────────────────────────────────────────────────────────╯</span>\n",
       "</pre>\n"
      ],
      "text/plain": [
       "\u001b[32m╭─\u001b[0m\u001b[32m───────────────────────\u001b[0m\u001b[32m \u001b[0m\u001b[1;32mAGENT\u001b[0m\u001b[32m [07/28/2025 04:00:54] \u001b[0m\u001b[32m────────────────────────\u001b[0m\u001b[32m─╮\u001b[0m\n",
       "\u001b[32m│\u001b[0m Processed event IDs: ['5143e12a-7a66-44ad-94cb-bdcfae32770c',                \u001b[32m│\u001b[0m\n",
       "\u001b[32m│\u001b[0m 'ac2cdee3-00eb-4294-8be8-cb30c35664e3',                                      \u001b[32m│\u001b[0m\n",
       "\u001b[32m│\u001b[0m 'fba14bc1-af91-41e5-bc83-f892d0e2d8a2']                                      \u001b[32m│\u001b[0m\n",
       "\u001b[32m╰──────────────────────────────────────────────────────────────────────────────╯\u001b[0m\n"
      ]
     },
     "metadata": {},
     "output_type": "display_data"
    },
    {
     "name": "stdout",
     "output_type": "stream",
     "text": [
      "Streaming timed out after 20 seconds - returning collected messages\n"
     ]
    }
   ],
   "source": [
    "from agentex.lib.utils.dev_tools import subscribe_to_async_task_messages\n",
    "\n",
    "task_messages = subscribe_to_async_task_messages(\n",
    "    client=client,\n",
    "    task=task, \n",
    "    only_after_timestamp=event.created_at, \n",
    "    print_messages=True,\n",
    "    rich_print=True,\n",
    "    timeout=20,\n",
    ")"
   ]
  },
  {
   "cell_type": "code",
   "execution_count": null,
   "id": "593a0a47",
   "metadata": {},
   "outputs": [],
   "source": []
  }
 ],
 "metadata": {
  "kernelspec": {
   "display_name": ".venv",
   "language": "python",
   "name": "python3"
  },
  "language_info": {
   "codemirror_mode": {
    "name": "ipython",
    "version": 3
   },
   "file_extension": ".py",
   "mimetype": "text/x-python",
   "name": "python",
   "nbconvert_exporter": "python",
   "pygments_lexer": "ipython3",
   "version": "3.12.9"
  }
 },
 "nbformat": 4,
 "nbformat_minor": 5
}
