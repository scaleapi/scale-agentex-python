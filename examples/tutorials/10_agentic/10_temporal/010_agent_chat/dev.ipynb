{
 "cells": [
  {
   "cell_type": "code",
   "execution_count": 1,
   "id": "36834357",
   "metadata": {},
   "outputs": [],
   "source": [
    "from agentex import Agentex\n",
    "\n",
    "client = Agentex(base_url=\"http://localhost:5003\")"
   ]
  },
  {
   "cell_type": "code",
   "execution_count": 2,
   "id": "d1c309d6",
   "metadata": {},
   "outputs": [],
   "source": [
    "AGENT_NAME = \"ab040-other-sdks\""
   ]
  },
  {
   "cell_type": "code",
   "execution_count": 3,
   "id": "9f6e6ef0",
   "metadata": {},
   "outputs": [
    {
     "name": "stdout",
     "output_type": "stream",
     "text": [
      "Task(id='49df6e10-10b1-4f8a-8217-9561dcac40c5', created_at=datetime.datetime(2025, 7, 28, 4, 2, 24, 337495, tzinfo=TzInfo(UTC)), name='54be2c13-task', status='RUNNING', status_reason='Task created, forwarding to ACP server', updated_at=datetime.datetime(2025, 7, 28, 4, 2, 24, 337495, tzinfo=TzInfo(UTC)))\n"
     ]
    }
   ],
   "source": [
    "# (REQUIRED) Create a new task. For Agentic agents, you must create a task for messages to be associated with.\n",
    "import uuid\n",
    "\n",
    "rpc_response = client.agents.create_task(\n",
    "    agent_name=AGENT_NAME,\n",
    "    params={\n",
    "        \"name\": f\"{str(uuid.uuid4())[:8]}-task\",\n",
    "        \"params\": {}\n",
    "    }\n",
    ")\n",
    "\n",
    "task = rpc_response.result\n",
    "print(task)"
   ]
  },
  {
   "cell_type": "code",
   "execution_count": 4,
   "id": "b03b0d37",
   "metadata": {},
   "outputs": [
    {
     "name": "stdout",
     "output_type": "stream",
     "text": [
      "Event(id='27df566e-6c92-4f86-a7fc-a2b6a1f28018', agent_id='cd4b9256-144b-4aef-949b-f9000995013b', sequence_id=252, task_id='49df6e10-10b1-4f8a-8217-9561dcac40c5', content=TextContent(author='user', content='Hello tell me the latest news about AI and AI startups', attachments=None, format='plain', style='static', type='text'), created_at=datetime.datetime(2025, 7, 28, 4, 2, 24, 776038, tzinfo=TzInfo(UTC)))\n"
     ]
    }
   ],
   "source": [
    "# Send an event to the agent\n",
    "\n",
    "# The response is expected to be a list of TaskMessage objects, which is a union of the following types:\n",
    "# - TextContent: A message with just text content   \n",
    "# - DataContent: A message with JSON-serializable data content\n",
    "# - ToolRequestContent: A message with a tool request, which contains a JSON-serializable request to call a tool\n",
    "# - ToolResponseContent: A message with a tool response, which contains response object from a tool call in its content\n",
    "\n",
    "# When processing the message/send response, if you are expecting more than TextContent, such as DataContent, ToolRequestContent, or ToolResponseContent, you can process them as well\n",
    "\n",
    "rpc_response = client.agents.send_event(\n",
    "    agent_name=AGENT_NAME,\n",
    "    params={\n",
    "        \"content\": {\"type\": \"text\", \"author\": \"user\", \"content\": \"Hello tell me the latest news about AI and AI startups\"},\n",
    "        \"task_id\": task.id,\n",
    "    }\n",
    ")\n",
    "\n",
    "event = rpc_response.result\n",
    "print(event)"
   ]
  },
  {
   "cell_type": "code",
   "execution_count": 5,
   "id": "a6927cc0",
   "metadata": {},
   "outputs": [
    {
     "data": {
      "text/html": [
       "<pre style=\"white-space:pre;overflow-x:auto;line-height:normal;font-family:Menlo,'DejaVu Sans Mono',consolas,'Courier New',monospace\"><span style=\"color: #00ffff; text-decoration-color: #00ffff\">╭───────────────────────── </span><span style=\"color: #00ffff; text-decoration-color: #00ffff; font-weight: bold\">USER</span><span style=\"color: #00ffff; text-decoration-color: #00ffff\"> [07/28/2025 04:02:24] ─────────────────────────╮</span>\n",
       "<span style=\"color: #00ffff; text-decoration-color: #00ffff\">│</span> Hello tell me the latest news about AI and AI startups                       <span style=\"color: #00ffff; text-decoration-color: #00ffff\">│</span>\n",
       "<span style=\"color: #00ffff; text-decoration-color: #00ffff\">╰──────────────────────────────────────────────────────────────────────────────╯</span>\n",
       "</pre>\n"
      ],
      "text/plain": [
       "\u001b[96m╭─\u001b[0m\u001b[96m────────────────────────\u001b[0m\u001b[96m \u001b[0m\u001b[1;96mUSER\u001b[0m\u001b[96m [07/28/2025 04:02:24] \u001b[0m\u001b[96m────────────────────────\u001b[0m\u001b[96m─╮\u001b[0m\n",
       "\u001b[96m│\u001b[0m Hello tell me the latest news about AI and AI startups                       \u001b[96m│\u001b[0m\n",
       "\u001b[96m╰──────────────────────────────────────────────────────────────────────────────╯\u001b[0m\n"
      ]
     },
     "metadata": {},
     "output_type": "display_data"
    },
    {
     "name": "stdout",
     "output_type": "stream",
     "text": [
      "                        \r"
     ]
    },
    {
     "data": {
      "text/html": [
       "<pre style=\"white-space:pre;overflow-x:auto;line-height:normal;font-family:Menlo,'DejaVu Sans Mono',consolas,'Courier New',monospace\"><span style=\"color: #808000; text-decoration-color: #808000\">╭──────────────────────── </span><span style=\"color: #008000; text-decoration-color: #008000; font-weight: bold\">AGENT</span><span style=\"color: #808000; text-decoration-color: #808000\"> [07/28/2025 04:02:35] ─────────────────────────╮</span>\n",
       "<span style=\"color: #808000; text-decoration-color: #808000\">│</span> 🔧 <span style=\"font-weight: bold\">Tool Request: web_search</span>                                                  <span style=\"color: #808000; text-decoration-color: #808000\">│</span>\n",
       "<span style=\"color: #808000; text-decoration-color: #808000\">│</span>                                                                              <span style=\"color: #808000; text-decoration-color: #808000\">│</span>\n",
       "<span style=\"color: #808000; text-decoration-color: #808000\">│</span> <span style=\"font-weight: bold\">Arguments:</span>                                                                   <span style=\"color: #808000; text-decoration-color: #808000\">│</span>\n",
       "<span style=\"color: #808000; text-decoration-color: #808000\">│</span>                                                                              <span style=\"color: #808000; text-decoration-color: #808000\">│</span>\n",
       "<span style=\"color: #808000; text-decoration-color: #808000\">│</span> <span style=\"background-color: #272822\">                                                                            </span> <span style=\"color: #808000; text-decoration-color: #808000\">│</span>\n",
       "<span style=\"color: #808000; text-decoration-color: #808000\">│</span> <span style=\"background-color: #272822\"> </span><span style=\"color: #f8f8f2; text-decoration-color: #f8f8f2; background-color: #272822\">{</span><span style=\"background-color: #272822\">                                                                          </span> <span style=\"color: #808000; text-decoration-color: #808000\">│</span>\n",
       "<span style=\"color: #808000; text-decoration-color: #808000\">│</span> <span style=\"background-color: #272822\"> </span><span style=\"color: #f8f8f2; text-decoration-color: #f8f8f2; background-color: #272822\">  </span><span style=\"color: #ff4689; text-decoration-color: #ff4689; background-color: #272822\">\"input\"</span><span style=\"color: #f8f8f2; text-decoration-color: #f8f8f2; background-color: #272822\">: </span><span style=\"color: #e6db74; text-decoration-color: #e6db74; background-color: #272822\">\"latest news about AI and AI startups\"</span><span style=\"color: #f8f8f2; text-decoration-color: #f8f8f2; background-color: #272822\">,</span><span style=\"background-color: #272822\">                         </span> <span style=\"color: #808000; text-decoration-color: #808000\">│</span>\n",
       "<span style=\"color: #808000; text-decoration-color: #808000\">│</span> <span style=\"background-color: #272822\"> </span><span style=\"color: #f8f8f2; text-decoration-color: #f8f8f2; background-color: #272822\">  </span><span style=\"color: #ff4689; text-decoration-color: #ff4689; background-color: #272822\">\"model\"</span><span style=\"color: #f8f8f2; text-decoration-color: #f8f8f2; background-color: #272822\">: </span><span style=\"color: #e6db74; text-decoration-color: #e6db74; background-color: #272822\">\"gpt-4o-mini\"</span><span style=\"color: #f8f8f2; text-decoration-color: #f8f8f2; background-color: #272822\">,</span><span style=\"background-color: #272822\">                                                  </span> <span style=\"color: #808000; text-decoration-color: #808000\">│</span>\n",
       "<span style=\"color: #808000; text-decoration-color: #808000\">│</span> <span style=\"background-color: #272822\"> </span><span style=\"color: #f8f8f2; text-decoration-color: #f8f8f2; background-color: #272822\">  </span><span style=\"color: #ff4689; text-decoration-color: #ff4689; background-color: #272822\">\"type\"</span><span style=\"color: #f8f8f2; text-decoration-color: #f8f8f2; background-color: #272822\">: </span><span style=\"color: #e6db74; text-decoration-color: #e6db74; background-color: #272822\">\"web_search_preview\"</span><span style=\"background-color: #272822\">                                             </span> <span style=\"color: #808000; text-decoration-color: #808000\">│</span>\n",
       "<span style=\"color: #808000; text-decoration-color: #808000\">│</span> <span style=\"background-color: #272822\"> </span><span style=\"color: #f8f8f2; text-decoration-color: #f8f8f2; background-color: #272822\">}</span><span style=\"background-color: #272822\">                                                                          </span> <span style=\"color: #808000; text-decoration-color: #808000\">│</span>\n",
       "<span style=\"color: #808000; text-decoration-color: #808000\">│</span> <span style=\"background-color: #272822\">                                                                            </span> <span style=\"color: #808000; text-decoration-color: #808000\">│</span>\n",
       "<span style=\"color: #808000; text-decoration-color: #808000\">╰──────────────────────────────────────────────────────────────────────────────╯</span>\n",
       "</pre>\n"
      ],
      "text/plain": [
       "\u001b[33m╭─\u001b[0m\u001b[33m───────────────────────\u001b[0m\u001b[33m \u001b[0m\u001b[1;32mAGENT\u001b[0m\u001b[33m [07/28/2025 04:02:35] \u001b[0m\u001b[33m────────────────────────\u001b[0m\u001b[33m─╮\u001b[0m\n",
       "\u001b[33m│\u001b[0m 🔧 \u001b[1mTool Request: web_search\u001b[0m                                                  \u001b[33m│\u001b[0m\n",
       "\u001b[33m│\u001b[0m                                                                              \u001b[33m│\u001b[0m\n",
       "\u001b[33m│\u001b[0m \u001b[1mArguments:\u001b[0m                                                                   \u001b[33m│\u001b[0m\n",
       "\u001b[33m│\u001b[0m                                                                              \u001b[33m│\u001b[0m\n",
       "\u001b[33m│\u001b[0m \u001b[48;2;39;40;34m                                                                            \u001b[0m \u001b[33m│\u001b[0m\n",
       "\u001b[33m│\u001b[0m \u001b[48;2;39;40;34m \u001b[0m\u001b[38;2;248;248;242;48;2;39;40;34m{\u001b[0m\u001b[48;2;39;40;34m                                                                         \u001b[0m\u001b[48;2;39;40;34m \u001b[0m \u001b[33m│\u001b[0m\n",
       "\u001b[33m│\u001b[0m \u001b[48;2;39;40;34m \u001b[0m\u001b[38;2;248;248;242;48;2;39;40;34m  \u001b[0m\u001b[38;2;255;70;137;48;2;39;40;34m\"input\"\u001b[0m\u001b[38;2;248;248;242;48;2;39;40;34m:\u001b[0m\u001b[38;2;248;248;242;48;2;39;40;34m \u001b[0m\u001b[38;2;230;219;116;48;2;39;40;34m\"latest news about AI and AI startups\"\u001b[0m\u001b[38;2;248;248;242;48;2;39;40;34m,\u001b[0m\u001b[48;2;39;40;34m                        \u001b[0m\u001b[48;2;39;40;34m \u001b[0m \u001b[33m│\u001b[0m\n",
       "\u001b[33m│\u001b[0m \u001b[48;2;39;40;34m \u001b[0m\u001b[38;2;248;248;242;48;2;39;40;34m  \u001b[0m\u001b[38;2;255;70;137;48;2;39;40;34m\"model\"\u001b[0m\u001b[38;2;248;248;242;48;2;39;40;34m:\u001b[0m\u001b[38;2;248;248;242;48;2;39;40;34m \u001b[0m\u001b[38;2;230;219;116;48;2;39;40;34m\"gpt-4o-mini\"\u001b[0m\u001b[38;2;248;248;242;48;2;39;40;34m,\u001b[0m\u001b[48;2;39;40;34m                                                 \u001b[0m\u001b[48;2;39;40;34m \u001b[0m \u001b[33m│\u001b[0m\n",
       "\u001b[33m│\u001b[0m \u001b[48;2;39;40;34m \u001b[0m\u001b[38;2;248;248;242;48;2;39;40;34m  \u001b[0m\u001b[38;2;255;70;137;48;2;39;40;34m\"type\"\u001b[0m\u001b[38;2;248;248;242;48;2;39;40;34m:\u001b[0m\u001b[38;2;248;248;242;48;2;39;40;34m \u001b[0m\u001b[38;2;230;219;116;48;2;39;40;34m\"web_search_preview\"\u001b[0m\u001b[48;2;39;40;34m                                            \u001b[0m\u001b[48;2;39;40;34m \u001b[0m \u001b[33m│\u001b[0m\n",
       "\u001b[33m│\u001b[0m \u001b[48;2;39;40;34m \u001b[0m\u001b[38;2;248;248;242;48;2;39;40;34m}\u001b[0m\u001b[48;2;39;40;34m                                                                         \u001b[0m\u001b[48;2;39;40;34m \u001b[0m \u001b[33m│\u001b[0m\n",
       "\u001b[33m│\u001b[0m \u001b[48;2;39;40;34m                                                                            \u001b[0m \u001b[33m│\u001b[0m\n",
       "\u001b[33m╰──────────────────────────────────────────────────────────────────────────────╯\u001b[0m\n"
      ]
     },
     "metadata": {},
     "output_type": "display_data"
    },
    {
     "name": "stdout",
     "output_type": "stream",
     "text": [
      "                        \r"
     ]
    },
    {
     "data": {
      "text/html": [
       "<pre style=\"white-space:pre;overflow-x:auto;line-height:normal;font-family:Menlo,'DejaVu Sans Mono',consolas,'Courier New',monospace\"><span style=\"color: #00ff00; text-decoration-color: #00ff00\">╭──────────────────────── </span><span style=\"color: #008000; text-decoration-color: #008000; font-weight: bold\">AGENT</span><span style=\"color: #00ff00; text-decoration-color: #00ff00\"> [07/28/2025 04:02:35] ─────────────────────────╮</span>\n",
       "<span style=\"color: #00ff00; text-decoration-color: #00ff00\">│</span> ✅ <span style=\"font-weight: bold\">Tool Response: web_search</span>                                                 <span style=\"color: #00ff00; text-decoration-color: #00ff00\">│</span>\n",
       "<span style=\"color: #00ff00; text-decoration-color: #00ff00\">│</span>                                                                              <span style=\"color: #00ff00; text-decoration-color: #00ff00\">│</span>\n",
       "<span style=\"color: #00ff00; text-decoration-color: #00ff00\">│</span> <span style=\"font-weight: bold\">Response:</span>                                                                    <span style=\"color: #00ff00; text-decoration-color: #00ff00\">│</span>\n",
       "<span style=\"color: #00ff00; text-decoration-color: #00ff00\">│</span>                                                                              <span style=\"color: #00ff00; text-decoration-color: #00ff00\">│</span>\n",
       "<span style=\"color: #00ff00; text-decoration-color: #00ff00\">│</span> <span style=\"background-color: #272822\">                                                                            </span> <span style=\"color: #00ff00; text-decoration-color: #00ff00\">│</span>\n",
       "<span style=\"color: #00ff00; text-decoration-color: #00ff00\">│</span> <span style=\"background-color: #272822\"> </span><span style=\"color: #f8f8f2; text-decoration-color: #f8f8f2; background-color: #272822\">{</span><span style=\"background-color: #272822\">                                                                          </span> <span style=\"color: #00ff00; text-decoration-color: #00ff00\">│</span>\n",
       "<span style=\"color: #00ff00; text-decoration-color: #00ff00\">│</span> <span style=\"background-color: #272822\"> </span><span style=\"color: #f8f8f2; text-decoration-color: #f8f8f2; background-color: #272822\">  </span><span style=\"color: #ff4689; text-decoration-color: #ff4689; background-color: #272822\">\"type\"</span><span style=\"color: #f8f8f2; text-decoration-color: #f8f8f2; background-color: #272822\">: </span><span style=\"color: #e6db74; text-decoration-color: #e6db74; background-color: #272822\">\"text\"</span><span style=\"color: #f8f8f2; text-decoration-color: #f8f8f2; background-color: #272822\">,</span><span style=\"background-color: #272822\">                                                          </span> <span style=\"color: #00ff00; text-decoration-color: #00ff00\">│</span>\n",
       "<span style=\"color: #00ff00; text-decoration-color: #00ff00\">│</span> <span style=\"background-color: #272822\"> </span><span style=\"color: #f8f8f2; text-decoration-color: #f8f8f2; background-color: #272822\">  </span><span style=\"color: #ff4689; text-decoration-color: #ff4689; background-color: #272822\">\"text\"</span><span style=\"color: #f8f8f2; text-decoration-color: #f8f8f2; background-color: #272822\">: </span><span style=\"color: #e6db74; text-decoration-color: #e6db74; background-color: #272822\">\"As of July 28, 2025, the artificial intelligence (AI) sector </span><span style=\"background-color: #272822\">   </span> <span style=\"color: #00ff00; text-decoration-color: #00ff00\">│</span>\n",
       "<span style=\"color: #00ff00; text-decoration-color: #00ff00\">│</span> <span style=\"background-color: #272822\"> </span><span style=\"color: #e6db74; text-decoration-color: #e6db74; background-color: #272822\">continues to experience significant growth and innovation. Here are some o</span><span style=\"background-color: #272822\"> </span> <span style=\"color: #00ff00; text-decoration-color: #00ff00\">│</span>\n",
       "<span style=\"color: #00ff00; text-decoration-color: #00ff00\">│</span> <span style=\"background-color: #272822\"> </span><span style=\"color: #e6db74; text-decoration-color: #e6db74; background-color: #272822\">the latest developments:\\n\\n**Surge in AI Startup Funding**\\n\\nIn the firs</span><span style=\"background-color: #272822\"> </span> <span style=\"color: #00ff00; text-decoration-color: #00ff00\">│</span>\n",
       "<span style=\"color: #00ff00; text-decoration-color: #00ff00\">│</span> <span style=\"background-color: #272822\"> </span><span style=\"color: #e6db74; text-decoration-color: #e6db74; background-color: #272822\">half of 2025, U.S. startup funding increased by 75.6%, reaching $162.8 </span><span style=\"background-color: #272822\">    </span> <span style=\"color: #00ff00; text-decoration-color: #00ff00\">│</span>\n",
       "<span style=\"color: #00ff00; text-decoration-color: #00ff00\">│</span> <span style=\"background-color: #272822\"> </span><span style=\"color: #e6db74; text-decoration-color: #e6db74; background-color: #272822\">billion\\u2014the second-highest on record. This surge is largely driven by</span><span style=\"background-color: #272822\"> </span> <span style=\"color: #00ff00; text-decoration-color: #00ff00\">│</span>\n",
       "<span style=\"color: #00ff00; text-decoration-color: #00ff00\">│</span> <span style=\"background-color: #272822\"> </span><span style=\"color: #e6db74; text-decoration-color: #e6db74; background-color: #272822\">AI investments, which constituted 64.1% of total deal value during this </span><span style=\"background-color: #272822\">   </span> <span style=\"color: #00ff00; text-decoration-color: #00ff00\">│</span>\n",
       "<span style=\"color: #00ff00; text-decoration-color: #00ff00\">│</span> <span style=\"background-color: #272822\"> </span><span style=\"color: #e6db74; text-decoration-color: #e6db74; background-color: #272822\">period. Major tech firms have been pivotal in this trend, with OpenAI </span><span style=\"background-color: #272822\">     </span> <span style=\"color: #00ff00; text-decoration-color: #00ff00\">│</span>\n",
       "<span style=\"color: #00ff00; text-decoration-color: #00ff00\">│</span> <span style=\"background-color: #272822\"> </span><span style=\"color: #e6db74; text-decoration-color: #e6db74; background-color: #272822\">securing a $40 billion funding round and Meta investing $14.3 billion in </span><span style=\"background-color: #272822\">  </span> <span style=\"color: #00ff00; text-decoration-color: #00ff00\">│</span>\n",
       "<span style=\"color: #00ff00; text-decoration-color: #00ff00\">│</span> <span style=\"background-color: #272822\"> </span><span style=\"color: #e6db74; text-decoration-color: #e6db74; background-color: #272822\">Scale AI. </span><span style=\"background-color: #272822\">                                                                 </span> <span style=\"color: #00ff00; text-decoration-color: #00ff00\">│</span>\n",
       "<span style=\"color: #00ff00; text-decoration-color: #00ff00\">│</span> <span style=\"background-color: #272822\"> </span><span style=\"color: #e6db74; text-decoration-color: #e6db74; background-color: #272822\">([reuters.com](https://www.reuters.com/business/us-ai-startups-see-funding</span><span style=\"background-color: #272822\"> </span> <span style=\"color: #00ff00; text-decoration-color: #00ff00\">│</span>\n",
       "<span style=\"color: #00ff00; text-decoration-color: #00ff00\">│</span> <span style=\"background-color: #272822\"> </span><span style=\"color: #e6db74; text-decoration-color: #e6db74; background-color: #272822\">urge-while-more-vc-funds-struggle-raise-data-shows-2025-07-15/?utm_source=</span><span style=\"background-color: #272822\"> </span> <span style=\"color: #00ff00; text-decoration-color: #00ff00\">│</span>\n",
       "<span style=\"color: #00ff00; text-decoration-color: #00ff00\">│</span> <span style=\"background-color: #272822\"> </span><span style=\"color: #e6db74; text-decoration-color: #e6db74; background-color: #272822\">enai))\\n\\n**Legal Disputes in AI Development**\\n\\nTech startup iyO Inc. ha</span><span style=\"background-color: #272822\"> </span> <span style=\"color: #00ff00; text-decoration-color: #00ff00\">│</span>\n",
       "<span style=\"color: #00ff00; text-decoration-color: #00ff00\">│</span> <span style=\"background-color: #272822\"> </span><span style=\"color: #e6db74; text-decoration-color: #e6db74; background-color: #272822\">filed a lawsuit against former executive Dan Sargent, alleging the leak of</span><span style=\"background-color: #272822\"> </span> <span style=\"color: #00ff00; text-decoration-color: #00ff00\">│</span>\n",
       "<span style=\"color: #00ff00; text-decoration-color: #00ff00\">│</span> <span style=\"background-color: #272822\"> </span><span style=\"color: #e6db74; text-decoration-color: #e6db74; background-color: #272822\">confidential product designs. This follows a previous trademark infringeme</span><span style=\"background-color: #272822\"> </span> <span style=\"color: #00ff00; text-decoration-color: #00ff00\">│</span>\n",
       "<span style=\"color: #00ff00; text-decoration-color: #00ff00\">│</span> <span style=\"background-color: #272822\"> </span><span style=\"color: #e6db74; text-decoration-color: #e6db74; background-color: #272822\">lawsuit against OpenAI and designer Jony Ive over a similar-sounding AI </span><span style=\"background-color: #272822\">   </span> <span style=\"color: #00ff00; text-decoration-color: #00ff00\">│</span>\n",
       "<span style=\"color: #00ff00; text-decoration-color: #00ff00\">│</span> <span style=\"background-color: #272822\"> </span><span style=\"color: #e6db74; text-decoration-color: #e6db74; background-color: #272822\">interface venture. The legal battles underscore the competitive and </span><span style=\"background-color: #272822\">       </span> <span style=\"color: #00ff00; text-decoration-color: #00ff00\">│</span>\n",
       "<span style=\"color: #00ff00; text-decoration-color: #00ff00\">│</span> <span style=\"background-color: #272822\"> </span><span style=\"color: #e6db74; text-decoration-color: #e6db74; background-color: #272822\">secretive nature of AI development. </span><span style=\"background-color: #272822\">                                       </span> <span style=\"color: #00ff00; text-decoration-color: #00ff00\">│</span>\n",
       "<span style=\"color: #00ff00; text-decoration-color: #00ff00\">│</span> <span style=\"background-color: #272822\"> </span><span style=\"color: #e6db74; text-decoration-color: #e6db74; background-color: #272822\">([apnews.com](https://apnews.com/article/0193532cf71cf975de62b4218ebd3bb6?</span><span style=\"background-color: #272822\"> </span> <span style=\"color: #00ff00; text-decoration-color: #00ff00\">│</span>\n",
       "<span style=\"color: #00ff00; text-decoration-color: #00ff00\">│</span> <span style=\"background-color: #272822\"> </span><span style=\"color: #e6db74; text-decoration-color: #e6db74; background-color: #272822\">m_source=openai))\\n\\n**Meta's Potential Investment in Scale AI**\\n\\nMeta </span><span style=\"background-color: #272822\">  </span> <span style=\"color: #00ff00; text-decoration-color: #00ff00\">│</span>\n",
       "<span style=\"color: #00ff00; text-decoration-color: #00ff00\">│</span> <span style=\"background-color: #272822\"> </span><span style=\"color: #e6db74; text-decoration-color: #e6db74; background-color: #272822\">Platforms is reportedly in discussions to invest over $10 billion in Scale</span><span style=\"background-color: #272822\"> </span> <span style=\"color: #00ff00; text-decoration-color: #00ff00\">│</span>\n",
       "<span style=\"color: #00ff00; text-decoration-color: #00ff00\">│</span> <span style=\"background-color: #272822\"> </span><span style=\"color: #e6db74; text-decoration-color: #e6db74; background-color: #272822\">AI, a data labeling startup. This potential investment highlights the </span><span style=\"background-color: #272822\">     </span> <span style=\"color: #00ff00; text-decoration-color: #00ff00\">│</span>\n",
       "<span style=\"color: #00ff00; text-decoration-color: #00ff00\">│</span> <span style=\"background-color: #272822\"> </span><span style=\"color: #e6db74; text-decoration-color: #e6db74; background-color: #272822\">growing importance of data infrastructure in AI development. Scale AI, </span><span style=\"background-color: #272822\">    </span> <span style=\"color: #00ff00; text-decoration-color: #00ff00\">│</span>\n",
       "<span style=\"color: #00ff00; text-decoration-color: #00ff00\">│</span> <span style=\"background-color: #272822\"> </span><span style=\"color: #e6db74; text-decoration-color: #e6db74; background-color: #272822\">founded in 2016, has previously received backing from major tech companies</span><span style=\"background-color: #272822\"> </span> <span style=\"color: #00ff00; text-decoration-color: #00ff00\">│</span>\n",
       "<span style=\"color: #00ff00; text-decoration-color: #00ff00\">│</span> <span style=\"background-color: #272822\"> </span><span style=\"color: #e6db74; text-decoration-color: #e6db74; background-color: #272822\">such as Nvidia and Amazon. </span><span style=\"background-color: #272822\">                                                </span> <span style=\"color: #00ff00; text-decoration-color: #00ff00\">│</span>\n",
       "<span style=\"color: #00ff00; text-decoration-color: #00ff00\">│</span> <span style=\"background-color: #272822\"> </span><span style=\"color: #e6db74; text-decoration-color: #e6db74; background-color: #272822\">([reuters.com](https://www.reuters.com/business/meta-talks-scale-ai-invest</span><span style=\"background-color: #272822\"> </span> <span style=\"color: #00ff00; text-decoration-color: #00ff00\">│</span>\n",
       "<span style=\"color: #00ff00; text-decoration-color: #00ff00\">│</span> <span style=\"background-color: #272822\"> </span><span style=\"color: #e6db74; text-decoration-color: #e6db74; background-color: #272822\">nt-that-could-top-10-billion-bloomberg-news-reports-2025-06-08/?utm_source</span><span style=\"background-color: #272822\"> </span> <span style=\"color: #00ff00; text-decoration-color: #00ff00\">│</span>\n",
       "<span style=\"color: #00ff00; text-decoration-color: #00ff00\">│</span> <span style=\"background-color: #272822\"> </span><span style=\"color: #e6db74; text-decoration-color: #e6db74; background-color: #272822\">penai))\\n\\n**Emerald AI's Energy-Efficient Data Centers**\\n\\nNvidia, </span><span style=\"background-color: #272822\">      </span> <span style=\"color: #00ff00; text-decoration-color: #00ff00\">│</span>\n",
       "<span style=\"color: #00ff00; text-decoration-color: #00ff00\">│</span> <span style=\"background-color: #272822\"> </span><span style=\"color: #e6db74; text-decoration-color: #e6db74; background-color: #272822\">alongside Radical Ventures and AMPLO, has invested in Emerald AI, a startu</span><span style=\"background-color: #272822\"> </span> <span style=\"color: #00ff00; text-decoration-color: #00ff00\">│</span>\n",
       "<span style=\"color: #00ff00; text-decoration-color: #00ff00\">│</span> <span style=\"background-color: #272822\"> </span><span style=\"color: #e6db74; text-decoration-color: #e6db74; background-color: #272822\">aiming to revolutionize data center energy use. Emerald AI's software alig</span><span style=\"background-color: #272822\"> </span> <span style=\"color: #00ff00; text-decoration-color: #00ff00\">│</span>\n",
       "<span style=\"color: #00ff00; text-decoration-color: #00ff00\">│</span> <span style=\"background-color: #272822\"> </span><span style=\"color: #e6db74; text-decoration-color: #e6db74; background-color: #272822\">AI computation loads with regional electricity grid demands, allowing data</span><span style=\"background-color: #272822\"> </span> <span style=\"color: #00ff00; text-decoration-color: #00ff00\">│</span>\n",
       "<span style=\"color: #00ff00; text-decoration-color: #00ff00\">│</span> <span style=\"background-color: #272822\"> </span><span style=\"color: #e6db74; text-decoration-color: #e6db74; background-color: #272822\">centers to support energy infrastructure rather than burden it. A recent </span><span style=\"background-color: #272822\">  </span> <span style=\"color: #00ff00; text-decoration-color: #00ff00\">│</span>\n",
       "<span style=\"color: #00ff00; text-decoration-color: #00ff00\">│</span> <span style=\"background-color: #272822\"> </span><span style=\"color: #e6db74; text-decoration-color: #e6db74; background-color: #272822\">field test demonstrated the software's ability to dynamically shift </span><span style=\"background-color: #272822\">       </span> <span style=\"color: #00ff00; text-decoration-color: #00ff00\">│</span>\n",
       "<span style=\"color: #00ff00; text-decoration-color: #00ff00\">│</span> <span style=\"background-color: #272822\"> </span><span style=\"color: #e6db74; text-decoration-color: #e6db74; background-color: #272822\">workloads in real time. </span><span style=\"background-color: #272822\">                                                   </span> <span style=\"color: #00ff00; text-decoration-color: #00ff00\">│</span>\n",
       "<span style=\"color: #00ff00; text-decoration-color: #00ff00\">│</span> <span style=\"background-color: #272822\"> </span><span style=\"color: #e6db74; text-decoration-color: #e6db74; background-color: #272822\">([axios.com](https://www.axios.com/2025/07/01/nvidia-startup-data-center-p</span><span style=\"background-color: #272822\"> </span> <span style=\"color: #00ff00; text-decoration-color: #00ff00\">│</span>\n",
       "<span style=\"color: #00ff00; text-decoration-color: #00ff00\">│</span> <span style=\"background-color: #272822\"> </span><span style=\"color: #e6db74; text-decoration-color: #e6db74; background-color: #272822\">er?utm_source=openai))\\n\\n**Thinking Machines Lab's Rapid </span><span style=\"background-color: #272822\">                 </span> <span style=\"color: #00ff00; text-decoration-color: #00ff00\">│</span>\n",
       "<span style=\"color: #00ff00; text-decoration-color: #00ff00\">│</span> <span style=\"background-color: #272822\"> </span><span style=\"color: #e6db74; text-decoration-color: #e6db74; background-color: #272822\">Growth**\\n\\nFounded in February 2025 by Mira Murati, former CTO of OpenAI,</span><span style=\"background-color: #272822\"> </span> <span style=\"color: #00ff00; text-decoration-color: #00ff00\">│</span>\n",
       "<span style=\"color: #00ff00; text-decoration-color: #00ff00\">│</span> <span style=\"background-color: #272822\"> </span><span style=\"color: #e6db74; text-decoration-color: #e6db74; background-color: #272822\">Thinking Machines Lab has quickly gained traction. By July, the company </span><span style=\"background-color: #272822\">   </span> <span style=\"color: #00ff00; text-decoration-color: #00ff00\">│</span>\n",
       "<span style=\"color: #00ff00; text-decoration-color: #00ff00\">│</span> <span style=\"background-color: #272822\"> </span><span style=\"color: #e6db74; text-decoration-color: #e6db74; background-color: #272822\">secured a $2 billion early-stage funding round led by Andreessen Horowitz,</span><span style=\"background-color: #272822\"> </span> <span style=\"color: #00ff00; text-decoration-color: #00ff00\">│</span>\n",
       "<span style=\"color: #00ff00; text-decoration-color: #00ff00\">│</span> <span style=\"background-color: #272822\"> </span><span style=\"color: #e6db74; text-decoration-color: #e6db74; background-color: #272822\">valuing it at $12 billion. The startup has attracted talent from </span><span style=\"background-color: #272822\">          </span> <span style=\"color: #00ff00; text-decoration-color: #00ff00\">│</span>\n",
       "<span style=\"color: #00ff00; text-decoration-color: #00ff00\">│</span> <span style=\"background-color: #272822\"> </span><span style=\"color: #e6db74; text-decoration-color: #e6db74; background-color: #272822\">competitors, including OpenAI co-founder John Schulman. </span><span style=\"background-color: #272822\">                   </span> <span style=\"color: #00ff00; text-decoration-color: #00ff00\">│</span>\n",
       "<span style=\"color: #00ff00; text-decoration-color: #00ff00\">│</span> <span style=\"background-color: #272822\"> </span><span style=\"color: #e6db74; text-decoration-color: #e6db74; background-color: #272822\">([en.wikipedia.org](https://en.wikipedia.org/wiki/Thinking_Machines_Lab?ut</span><span style=\"background-color: #272822\"> </span> <span style=\"color: #00ff00; text-decoration-color: #00ff00\">│</span>\n",
       "<span style=\"color: #00ff00; text-decoration-color: #00ff00\">│</span> <span style=\"background-color: #272822\"> </span><span style=\"color: #e6db74; text-decoration-color: #e6db74; background-color: #272822\">source=openai))\\n\\n**Base44's Acquisition by Wix**\\n\\nIsraeli startup </span><span style=\"background-color: #272822\">     </span> <span style=\"color: #00ff00; text-decoration-color: #00ff00\">│</span>\n",
       "<span style=\"color: #00ff00; text-decoration-color: #00ff00\">│</span> <span style=\"background-color: #272822\"> </span><span style=\"color: #e6db74; text-decoration-color: #e6db74; background-color: #272822\">Base44, founded in January 2025, developed an AI-powered platform enabling</span><span style=\"background-color: #272822\"> </span> <span style=\"color: #00ff00; text-decoration-color: #00ff00\">│</span>\n",
       "<span style=\"color: #00ff00; text-decoration-color: #00ff00\">│</span> <span style=\"background-color: #272822\"> </span><span style=\"color: #e6db74; text-decoration-color: #e6db74; background-color: #272822\">the creation of web and mobile applications through a natural language </span><span style=\"background-color: #272822\">    </span> <span style=\"color: #00ff00; text-decoration-color: #00ff00\">│</span>\n",
       "<span style=\"color: #00ff00; text-decoration-color: #00ff00\">│</span> <span style=\"background-color: #272822\"> </span><span style=\"color: #e6db74; text-decoration-color: #e6db74; background-color: #272822\">conversational interface. By June 2025, Base44 had over 100,000 users and </span><span style=\"background-color: #272822\"> </span> <span style=\"color: #00ff00; text-decoration-color: #00ff00\">│</span>\n",
       "<span style=\"color: #00ff00; text-decoration-color: #00ff00\">│</span> <span style=\"background-color: #272822\"> </span><span style=\"color: #e6db74; text-decoration-color: #e6db74; background-color: #272822\">secured partnerships with companies like eToro and Similarweb. In June 202</span><span style=\"background-color: #272822\"> </span> <span style=\"color: #00ff00; text-decoration-color: #00ff00\">│</span>\n",
       "<span style=\"color: #00ff00; text-decoration-color: #00ff00\">│</span> <span style=\"background-color: #272822\"> </span><span style=\"color: #e6db74; text-decoration-color: #e6db74; background-color: #272822\">Wix.com acquired Base44 for approximately $80 million, integrating its </span><span style=\"background-color: #272822\">    </span> <span style=\"color: #00ff00; text-decoration-color: #00ff00\">│</span>\n",
       "<span style=\"color: #00ff00; text-decoration-color: #00ff00\">│</span> <span style=\"background-color: #272822\"> </span><span style=\"color: #e6db74; text-decoration-color: #e6db74; background-color: #272822\">technology into Wix's product suite. </span><span style=\"background-color: #272822\">                                      </span> <span style=\"color: #00ff00; text-decoration-color: #00ff00\">│</span>\n",
       "<span style=\"color: #00ff00; text-decoration-color: #00ff00\">│</span> <span style=\"background-color: #272822\"> </span><span style=\"color: #e6db74; text-decoration-color: #e6db74; background-color: #272822\">([en.wikipedia.org](https://en.wikipedia.org/wiki/Base44?utm_source=openai</span><span style=\"background-color: #272822\"> </span> <span style=\"color: #00ff00; text-decoration-color: #00ff00\">│</span>\n",
       "<span style=\"color: #00ff00; text-decoration-color: #00ff00\">│</span> <span style=\"background-color: #272822\"> </span><span style=\"color: #e6db74; text-decoration-color: #e6db74; background-color: #272822\">\\n\\n**Harvey's $300 Million Series D Funding**\\n\\nLegal AI firm Harvey </span><span style=\"background-color: #272822\">    </span> <span style=\"color: #00ff00; text-decoration-color: #00ff00\">│</span>\n",
       "<span style=\"color: #00ff00; text-decoration-color: #00ff00\">│</span> <span style=\"background-color: #272822\"> </span><span style=\"color: #e6db74; text-decoration-color: #e6db74; background-color: #272822\">raised $300 million in a Series D funding round led by Sequoia Capital, </span><span style=\"background-color: #272822\">   </span> <span style=\"color: #00ff00; text-decoration-color: #00ff00\">│</span>\n",
       "<span style=\"color: #00ff00; text-decoration-color: #00ff00\">│</span> <span style=\"background-color: #272822\"> </span><span style=\"color: #e6db74; text-decoration-color: #e6db74; background-color: #272822\">valuing the company at $3 billion. The funding round also included </span><span style=\"background-color: #272822\">        </span> <span style=\"color: #00ff00; text-decoration-color: #00ff00\">│</span>\n",
       "<span style=\"color: #00ff00; text-decoration-color: #00ff00\">│</span> <span style=\"background-color: #272822\"> </span><span style=\"color: #e6db74; text-decoration-color: #e6db74; background-color: #272822\">participation from OpenAI, Kleiner Perkins, and Sequoia Capital. Harvey </span><span style=\"background-color: #272822\">   </span> <span style=\"color: #00ff00; text-decoration-color: #00ff00\">│</span>\n",
       "<span style=\"color: #00ff00; text-decoration-color: #00ff00\">│</span> <span style=\"background-color: #272822\"> </span><span style=\"color: #e6db74; text-decoration-color: #e6db74; background-color: #272822\">specializes in using AI to answer legal questions, streamlining legal </span><span style=\"background-color: #272822\">     </span> <span style=\"color: #00ff00; text-decoration-color: #00ff00\">│</span>\n",
       "<span style=\"color: #00ff00; text-decoration-color: #00ff00\">│</span> <span style=\"background-color: #272822\"> </span><span style=\"color: #e6db74; text-decoration-color: #e6db74; background-color: #272822\">research and documentation processes. </span><span style=\"background-color: #272822\">                                     </span> <span style=\"color: #00ff00; text-decoration-color: #00ff00\">│</span>\n",
       "<span style=\"color: #00ff00; text-decoration-color: #00ff00\">│</span> <span style=\"background-color: #272822\"> </span><span style=\"color: #e6db74; text-decoration-color: #e6db74; background-color: #272822\">([en.wikipedia.org](https://en.wikipedia.org/wiki/Harvey_%28software%29?ut</span><span style=\"background-color: #272822\"> </span> <span style=\"color: #00ff00; text-decoration-color: #00ff00\">│</span>\n",
       "<span style=\"color: #00ff00; text-decoration-color: #00ff00\">│</span> <span style=\"background-color: #272822\"> </span><span style=\"color: #e6db74; text-decoration-color: #e6db74; background-color: #272822\">source=openai))\\n\\nThese developments reflect the dynamic and rapidly </span><span style=\"background-color: #272822\">     </span> <span style=\"color: #00ff00; text-decoration-color: #00ff00\">│</span>\n",
       "<span style=\"color: #00ff00; text-decoration-color: #00ff00\">│</span> <span style=\"background-color: #272822\"> </span><span style=\"color: #e6db74; text-decoration-color: #e6db74; background-color: #272822\">evolving landscape of AI startups, highlighting significant investments, </span><span style=\"background-color: #272822\">  </span> <span style=\"color: #00ff00; text-decoration-color: #00ff00\">│</span>\n",
       "<span style=\"color: #00ff00; text-decoration-color: #00ff00\">│</span> <span style=\"background-color: #272822\"> </span><span style=\"color: #e6db74; text-decoration-color: #e6db74; background-color: #272822\">strategic acquisitions, and innovative applications across various </span><span style=\"background-color: #272822\">        </span> <span style=\"color: #00ff00; text-decoration-color: #00ff00\">│</span>\n",
       "<span style=\"color: #00ff00; text-decoration-color: #00ff00\">│</span> <span style=\"background-color: #272822\"> </span><span style=\"color: #e6db74; text-decoration-color: #e6db74; background-color: #272822\">sectors.\\n\\n\\n## Recent Developments in AI Startups:\\n- [US AI startups se</span><span style=\"background-color: #272822\"> </span> <span style=\"color: #00ff00; text-decoration-color: #00ff00\">│</span>\n",
       "<span style=\"color: #00ff00; text-decoration-color: #00ff00\">│</span> <span style=\"background-color: #272822\"> </span><span style=\"color: #e6db74; text-decoration-color: #e6db74; background-color: #272822\">funding surge while more VC funds struggle to raise, data </span><span style=\"background-color: #272822\">                 </span> <span style=\"color: #00ff00; text-decoration-color: #00ff00\">│</span>\n",
       "<span style=\"color: #00ff00; text-decoration-color: #00ff00\">│</span> <span style=\"background-color: #272822\"> </span><span style=\"color: #e6db74; text-decoration-color: #e6db74; background-color: #272822\">shows](https://www.reuters.com/business/us-ai-startups-see-funding-surge-w</span><span style=\"background-color: #272822\"> </span> <span style=\"color: #00ff00; text-decoration-color: #00ff00\">│</span>\n",
       "<span style=\"color: #00ff00; text-decoration-color: #00ff00\">│</span> <span style=\"background-color: #272822\"> </span><span style=\"color: #e6db74; text-decoration-color: #e6db74; background-color: #272822\">le-more-vc-funds-struggle-raise-data-shows-2025-07-15/?utm_source=openai)\\</span><span style=\"background-color: #272822\"> </span> <span style=\"color: #00ff00; text-decoration-color: #00ff00\">│</span>\n",
       "<span style=\"color: #00ff00; text-decoration-color: #00ff00\">│</span> <span style=\"background-color: #272822\"> </span><span style=\"color: #e6db74; text-decoration-color: #e6db74; background-color: #272822\"> [AI device startup that sued OpenAI and Jony Ive is now suing its own </span><span style=\"background-color: #272822\">    </span> <span style=\"color: #00ff00; text-decoration-color: #00ff00\">│</span>\n",
       "<span style=\"color: #00ff00; text-decoration-color: #00ff00\">│</span> <span style=\"background-color: #272822\"> </span><span style=\"color: #e6db74; text-decoration-color: #e6db74; background-color: #272822\">ex-employee over trade </span><span style=\"background-color: #272822\">                                                    </span> <span style=\"color: #00ff00; text-decoration-color: #00ff00\">│</span>\n",
       "<span style=\"color: #00ff00; text-decoration-color: #00ff00\">│</span> <span style=\"background-color: #272822\"> </span><span style=\"color: #e6db74; text-decoration-color: #e6db74; background-color: #272822\">secrets](https://apnews.com/article/0193532cf71cf975de62b4218ebd3bb6?utm_s</span><span style=\"background-color: #272822\"> </span> <span style=\"color: #00ff00; text-decoration-color: #00ff00\">│</span>\n",
       "<span style=\"color: #00ff00; text-decoration-color: #00ff00\">│</span> <span style=\"background-color: #272822\"> </span><span style=\"color: #e6db74; text-decoration-color: #e6db74; background-color: #272822\">rce=openai)\\n- [Nvidia stakes new startup that flips script on data center</span><span style=\"background-color: #272822\"> </span> <span style=\"color: #00ff00; text-decoration-color: #00ff00\">│</span>\n",
       "<span style=\"color: #00ff00; text-decoration-color: #00ff00\">│</span> <span style=\"background-color: #272822\"> </span><span style=\"color: #e6db74; text-decoration-color: #e6db74; background-color: #272822\">power](https://www.axios.com/2025/07/01/nvidia-startup-data-center-power?u</span><span style=\"background-color: #272822\"> </span> <span style=\"color: #00ff00; text-decoration-color: #00ff00\">│</span>\n",
       "<span style=\"color: #00ff00; text-decoration-color: #00ff00\">│</span> <span style=\"background-color: #272822\"> </span><span style=\"color: #e6db74; text-decoration-color: #e6db74; background-color: #272822\">_source=openai) \"</span><span style=\"color: #f8f8f2; text-decoration-color: #f8f8f2; background-color: #272822\">,</span><span style=\"background-color: #272822\">                                                         </span> <span style=\"color: #00ff00; text-decoration-color: #00ff00\">│</span>\n",
       "<span style=\"color: #00ff00; text-decoration-color: #00ff00\">│</span> <span style=\"background-color: #272822\"> </span><span style=\"color: #f8f8f2; text-decoration-color: #f8f8f2; background-color: #272822\">  </span><span style=\"color: #ff4689; text-decoration-color: #ff4689; background-color: #272822\">\"annotations\"</span><span style=\"color: #f8f8f2; text-decoration-color: #f8f8f2; background-color: #272822\">: </span><span style=\"color: #66d9ef; text-decoration-color: #66d9ef; background-color: #272822\">null</span><span style=\"color: #f8f8f2; text-decoration-color: #f8f8f2; background-color: #272822\">,</span><span style=\"background-color: #272822\">                                                     </span> <span style=\"color: #00ff00; text-decoration-color: #00ff00\">│</span>\n",
       "<span style=\"color: #00ff00; text-decoration-color: #00ff00\">│</span> <span style=\"background-color: #272822\"> </span><span style=\"color: #f8f8f2; text-decoration-color: #f8f8f2; background-color: #272822\">  </span><span style=\"color: #ff4689; text-decoration-color: #ff4689; background-color: #272822\">\"meta\"</span><span style=\"color: #f8f8f2; text-decoration-color: #f8f8f2; background-color: #272822\">: </span><span style=\"color: #66d9ef; text-decoration-color: #66d9ef; background-color: #272822\">null</span><span style=\"background-color: #272822\">                                                             </span> <span style=\"color: #00ff00; text-decoration-color: #00ff00\">│</span>\n",
       "<span style=\"color: #00ff00; text-decoration-color: #00ff00\">│</span> <span style=\"background-color: #272822\"> </span><span style=\"color: #f8f8f2; text-decoration-color: #f8f8f2; background-color: #272822\">}</span><span style=\"background-color: #272822\">                                                                          </span> <span style=\"color: #00ff00; text-decoration-color: #00ff00\">│</span>\n",
       "<span style=\"color: #00ff00; text-decoration-color: #00ff00\">│</span> <span style=\"background-color: #272822\">                                                                            </span> <span style=\"color: #00ff00; text-decoration-color: #00ff00\">│</span>\n",
       "<span style=\"color: #00ff00; text-decoration-color: #00ff00\">╰──────────────────────────────────────────────────────────────────────────────╯</span>\n",
       "</pre>\n"
      ],
      "text/plain": [
       "\u001b[92m╭─\u001b[0m\u001b[92m───────────────────────\u001b[0m\u001b[92m \u001b[0m\u001b[1;32mAGENT\u001b[0m\u001b[92m [07/28/2025 04:02:35] \u001b[0m\u001b[92m────────────────────────\u001b[0m\u001b[92m─╮\u001b[0m\n",
       "\u001b[92m│\u001b[0m ✅ \u001b[1mTool Response: web_search\u001b[0m                                                 \u001b[92m│\u001b[0m\n",
       "\u001b[92m│\u001b[0m                                                                              \u001b[92m│\u001b[0m\n",
       "\u001b[92m│\u001b[0m \u001b[1mResponse:\u001b[0m                                                                    \u001b[92m│\u001b[0m\n",
       "\u001b[92m│\u001b[0m                                                                              \u001b[92m│\u001b[0m\n",
       "\u001b[92m│\u001b[0m \u001b[48;2;39;40;34m                                                                            \u001b[0m \u001b[92m│\u001b[0m\n",
       "\u001b[92m│\u001b[0m \u001b[48;2;39;40;34m \u001b[0m\u001b[38;2;248;248;242;48;2;39;40;34m{\u001b[0m\u001b[48;2;39;40;34m                                                                         \u001b[0m\u001b[48;2;39;40;34m \u001b[0m \u001b[92m│\u001b[0m\n",
       "\u001b[92m│\u001b[0m \u001b[48;2;39;40;34m \u001b[0m\u001b[38;2;248;248;242;48;2;39;40;34m  \u001b[0m\u001b[38;2;255;70;137;48;2;39;40;34m\"type\"\u001b[0m\u001b[38;2;248;248;242;48;2;39;40;34m:\u001b[0m\u001b[38;2;248;248;242;48;2;39;40;34m \u001b[0m\u001b[38;2;230;219;116;48;2;39;40;34m\"text\"\u001b[0m\u001b[38;2;248;248;242;48;2;39;40;34m,\u001b[0m\u001b[48;2;39;40;34m                                                         \u001b[0m\u001b[48;2;39;40;34m \u001b[0m \u001b[92m│\u001b[0m\n",
       "\u001b[92m│\u001b[0m \u001b[48;2;39;40;34m \u001b[0m\u001b[38;2;248;248;242;48;2;39;40;34m  \u001b[0m\u001b[38;2;255;70;137;48;2;39;40;34m\"text\"\u001b[0m\u001b[38;2;248;248;242;48;2;39;40;34m:\u001b[0m\u001b[38;2;248;248;242;48;2;39;40;34m \u001b[0m\u001b[38;2;230;219;116;48;2;39;40;34m\"As of July 28, 2025, the artificial intelligence (AI) sector \u001b[0m\u001b[48;2;39;40;34m  \u001b[0m\u001b[48;2;39;40;34m \u001b[0m \u001b[92m│\u001b[0m\n",
       "\u001b[92m│\u001b[0m \u001b[48;2;39;40;34m \u001b[0m\u001b[38;2;230;219;116;48;2;39;40;34mcontinues to experience significant growth and innovation. Here are some o\u001b[0m\u001b[48;2;39;40;34m \u001b[0m \u001b[92m│\u001b[0m\n",
       "\u001b[92m│\u001b[0m \u001b[48;2;39;40;34m \u001b[0m\u001b[38;2;230;219;116;48;2;39;40;34mthe latest developments:\\n\\n**Surge in AI Startup Funding**\\n\\nIn the firs\u001b[0m\u001b[48;2;39;40;34m \u001b[0m \u001b[92m│\u001b[0m\n",
       "\u001b[92m│\u001b[0m \u001b[48;2;39;40;34m \u001b[0m\u001b[38;2;230;219;116;48;2;39;40;34mhalf of 2025, U.S. startup funding increased by 75.6%, reaching $162.8 \u001b[0m\u001b[48;2;39;40;34m   \u001b[0m\u001b[48;2;39;40;34m \u001b[0m \u001b[92m│\u001b[0m\n",
       "\u001b[92m│\u001b[0m \u001b[48;2;39;40;34m \u001b[0m\u001b[38;2;230;219;116;48;2;39;40;34mbillion\\u2014the second-highest on record. This surge is largely driven by\u001b[0m\u001b[48;2;39;40;34m \u001b[0m \u001b[92m│\u001b[0m\n",
       "\u001b[92m│\u001b[0m \u001b[48;2;39;40;34m \u001b[0m\u001b[38;2;230;219;116;48;2;39;40;34mAI investments, which constituted 64.1% of total deal value during this \u001b[0m\u001b[48;2;39;40;34m  \u001b[0m\u001b[48;2;39;40;34m \u001b[0m \u001b[92m│\u001b[0m\n",
       "\u001b[92m│\u001b[0m \u001b[48;2;39;40;34m \u001b[0m\u001b[38;2;230;219;116;48;2;39;40;34mperiod. Major tech firms have been pivotal in this trend, with OpenAI \u001b[0m\u001b[48;2;39;40;34m    \u001b[0m\u001b[48;2;39;40;34m \u001b[0m \u001b[92m│\u001b[0m\n",
       "\u001b[92m│\u001b[0m \u001b[48;2;39;40;34m \u001b[0m\u001b[38;2;230;219;116;48;2;39;40;34msecuring a $40 billion funding round and Meta investing $14.3 billion in \u001b[0m\u001b[48;2;39;40;34m \u001b[0m\u001b[48;2;39;40;34m \u001b[0m \u001b[92m│\u001b[0m\n",
       "\u001b[92m│\u001b[0m \u001b[48;2;39;40;34m \u001b[0m\u001b[38;2;230;219;116;48;2;39;40;34mScale AI. \u001b[0m\u001b[48;2;39;40;34m                                                                \u001b[0m\u001b[48;2;39;40;34m \u001b[0m \u001b[92m│\u001b[0m\n",
       "\u001b[92m│\u001b[0m \u001b[48;2;39;40;34m \u001b[0m\u001b[38;2;230;219;116;48;2;39;40;34m([reuters.com](https://www.reuters.com/business/us-ai-startups-see-funding\u001b[0m\u001b[48;2;39;40;34m \u001b[0m \u001b[92m│\u001b[0m\n",
       "\u001b[92m│\u001b[0m \u001b[48;2;39;40;34m \u001b[0m\u001b[38;2;230;219;116;48;2;39;40;34murge-while-more-vc-funds-struggle-raise-data-shows-2025-07-15/?utm_source=\u001b[0m\u001b[48;2;39;40;34m \u001b[0m \u001b[92m│\u001b[0m\n",
       "\u001b[92m│\u001b[0m \u001b[48;2;39;40;34m \u001b[0m\u001b[38;2;230;219;116;48;2;39;40;34menai))\\n\\n**Legal Disputes in AI Development**\\n\\nTech startup iyO Inc. ha\u001b[0m\u001b[48;2;39;40;34m \u001b[0m \u001b[92m│\u001b[0m\n",
       "\u001b[92m│\u001b[0m \u001b[48;2;39;40;34m \u001b[0m\u001b[38;2;230;219;116;48;2;39;40;34mfiled a lawsuit against former executive Dan Sargent, alleging the leak of\u001b[0m\u001b[48;2;39;40;34m \u001b[0m \u001b[92m│\u001b[0m\n",
       "\u001b[92m│\u001b[0m \u001b[48;2;39;40;34m \u001b[0m\u001b[38;2;230;219;116;48;2;39;40;34mconfidential product designs. This follows a previous trademark infringeme\u001b[0m\u001b[48;2;39;40;34m \u001b[0m \u001b[92m│\u001b[0m\n",
       "\u001b[92m│\u001b[0m \u001b[48;2;39;40;34m \u001b[0m\u001b[38;2;230;219;116;48;2;39;40;34mlawsuit against OpenAI and designer Jony Ive over a similar-sounding AI \u001b[0m\u001b[48;2;39;40;34m  \u001b[0m\u001b[48;2;39;40;34m \u001b[0m \u001b[92m│\u001b[0m\n",
       "\u001b[92m│\u001b[0m \u001b[48;2;39;40;34m \u001b[0m\u001b[38;2;230;219;116;48;2;39;40;34minterface venture. The legal battles underscore the competitive and \u001b[0m\u001b[48;2;39;40;34m      \u001b[0m\u001b[48;2;39;40;34m \u001b[0m \u001b[92m│\u001b[0m\n",
       "\u001b[92m│\u001b[0m \u001b[48;2;39;40;34m \u001b[0m\u001b[38;2;230;219;116;48;2;39;40;34msecretive nature of AI development. \u001b[0m\u001b[48;2;39;40;34m                                      \u001b[0m\u001b[48;2;39;40;34m \u001b[0m \u001b[92m│\u001b[0m\n",
       "\u001b[92m│\u001b[0m \u001b[48;2;39;40;34m \u001b[0m\u001b[38;2;230;219;116;48;2;39;40;34m([apnews.com](https://apnews.com/article/0193532cf71cf975de62b4218ebd3bb6?\u001b[0m\u001b[48;2;39;40;34m \u001b[0m \u001b[92m│\u001b[0m\n",
       "\u001b[92m│\u001b[0m \u001b[48;2;39;40;34m \u001b[0m\u001b[38;2;230;219;116;48;2;39;40;34mm_source=openai))\\n\\n**Meta's Potential Investment in Scale AI**\\n\\nMeta \u001b[0m\u001b[48;2;39;40;34m \u001b[0m\u001b[48;2;39;40;34m \u001b[0m \u001b[92m│\u001b[0m\n",
       "\u001b[92m│\u001b[0m \u001b[48;2;39;40;34m \u001b[0m\u001b[38;2;230;219;116;48;2;39;40;34mPlatforms is reportedly in discussions to invest over $10 billion in Scale\u001b[0m\u001b[48;2;39;40;34m \u001b[0m \u001b[92m│\u001b[0m\n",
       "\u001b[92m│\u001b[0m \u001b[48;2;39;40;34m \u001b[0m\u001b[38;2;230;219;116;48;2;39;40;34mAI, a data labeling startup. This potential investment highlights the \u001b[0m\u001b[48;2;39;40;34m    \u001b[0m\u001b[48;2;39;40;34m \u001b[0m \u001b[92m│\u001b[0m\n",
       "\u001b[92m│\u001b[0m \u001b[48;2;39;40;34m \u001b[0m\u001b[38;2;230;219;116;48;2;39;40;34mgrowing importance of data infrastructure in AI development. Scale AI, \u001b[0m\u001b[48;2;39;40;34m   \u001b[0m\u001b[48;2;39;40;34m \u001b[0m \u001b[92m│\u001b[0m\n",
       "\u001b[92m│\u001b[0m \u001b[48;2;39;40;34m \u001b[0m\u001b[38;2;230;219;116;48;2;39;40;34mfounded in 2016, has previously received backing from major tech companies\u001b[0m\u001b[48;2;39;40;34m \u001b[0m \u001b[92m│\u001b[0m\n",
       "\u001b[92m│\u001b[0m \u001b[48;2;39;40;34m \u001b[0m\u001b[38;2;230;219;116;48;2;39;40;34msuch as Nvidia and Amazon. \u001b[0m\u001b[48;2;39;40;34m                                               \u001b[0m\u001b[48;2;39;40;34m \u001b[0m \u001b[92m│\u001b[0m\n",
       "\u001b[92m│\u001b[0m \u001b[48;2;39;40;34m \u001b[0m\u001b[38;2;230;219;116;48;2;39;40;34m([reuters.com](https://www.reuters.com/business/meta-talks-scale-ai-invest\u001b[0m\u001b[48;2;39;40;34m \u001b[0m \u001b[92m│\u001b[0m\n",
       "\u001b[92m│\u001b[0m \u001b[48;2;39;40;34m \u001b[0m\u001b[38;2;230;219;116;48;2;39;40;34mnt-that-could-top-10-billion-bloomberg-news-reports-2025-06-08/?utm_source\u001b[0m\u001b[48;2;39;40;34m \u001b[0m \u001b[92m│\u001b[0m\n",
       "\u001b[92m│\u001b[0m \u001b[48;2;39;40;34m \u001b[0m\u001b[38;2;230;219;116;48;2;39;40;34mpenai))\\n\\n**Emerald AI's Energy-Efficient Data Centers**\\n\\nNvidia, \u001b[0m\u001b[48;2;39;40;34m     \u001b[0m\u001b[48;2;39;40;34m \u001b[0m \u001b[92m│\u001b[0m\n",
       "\u001b[92m│\u001b[0m \u001b[48;2;39;40;34m \u001b[0m\u001b[38;2;230;219;116;48;2;39;40;34malongside Radical Ventures and AMPLO, has invested in Emerald AI, a startu\u001b[0m\u001b[48;2;39;40;34m \u001b[0m \u001b[92m│\u001b[0m\n",
       "\u001b[92m│\u001b[0m \u001b[48;2;39;40;34m \u001b[0m\u001b[38;2;230;219;116;48;2;39;40;34maiming to revolutionize data center energy use. Emerald AI's software alig\u001b[0m\u001b[48;2;39;40;34m \u001b[0m \u001b[92m│\u001b[0m\n",
       "\u001b[92m│\u001b[0m \u001b[48;2;39;40;34m \u001b[0m\u001b[38;2;230;219;116;48;2;39;40;34mAI computation loads with regional electricity grid demands, allowing data\u001b[0m\u001b[48;2;39;40;34m \u001b[0m \u001b[92m│\u001b[0m\n",
       "\u001b[92m│\u001b[0m \u001b[48;2;39;40;34m \u001b[0m\u001b[38;2;230;219;116;48;2;39;40;34mcenters to support energy infrastructure rather than burden it. A recent \u001b[0m\u001b[48;2;39;40;34m \u001b[0m\u001b[48;2;39;40;34m \u001b[0m \u001b[92m│\u001b[0m\n",
       "\u001b[92m│\u001b[0m \u001b[48;2;39;40;34m \u001b[0m\u001b[38;2;230;219;116;48;2;39;40;34mfield test demonstrated the software's ability to dynamically shift \u001b[0m\u001b[48;2;39;40;34m      \u001b[0m\u001b[48;2;39;40;34m \u001b[0m \u001b[92m│\u001b[0m\n",
       "\u001b[92m│\u001b[0m \u001b[48;2;39;40;34m \u001b[0m\u001b[38;2;230;219;116;48;2;39;40;34mworkloads in real time. \u001b[0m\u001b[48;2;39;40;34m                                                  \u001b[0m\u001b[48;2;39;40;34m \u001b[0m \u001b[92m│\u001b[0m\n",
       "\u001b[92m│\u001b[0m \u001b[48;2;39;40;34m \u001b[0m\u001b[38;2;230;219;116;48;2;39;40;34m([axios.com](https://www.axios.com/2025/07/01/nvidia-startup-data-center-p\u001b[0m\u001b[48;2;39;40;34m \u001b[0m \u001b[92m│\u001b[0m\n",
       "\u001b[92m│\u001b[0m \u001b[48;2;39;40;34m \u001b[0m\u001b[38;2;230;219;116;48;2;39;40;34mer?utm_source=openai))\\n\\n**Thinking Machines Lab's Rapid \u001b[0m\u001b[48;2;39;40;34m                \u001b[0m\u001b[48;2;39;40;34m \u001b[0m \u001b[92m│\u001b[0m\n",
       "\u001b[92m│\u001b[0m \u001b[48;2;39;40;34m \u001b[0m\u001b[38;2;230;219;116;48;2;39;40;34mGrowth**\\n\\nFounded in February 2025 by Mira Murati, former CTO of OpenAI,\u001b[0m\u001b[48;2;39;40;34m \u001b[0m \u001b[92m│\u001b[0m\n",
       "\u001b[92m│\u001b[0m \u001b[48;2;39;40;34m \u001b[0m\u001b[38;2;230;219;116;48;2;39;40;34mThinking Machines Lab has quickly gained traction. By July, the company \u001b[0m\u001b[48;2;39;40;34m  \u001b[0m\u001b[48;2;39;40;34m \u001b[0m \u001b[92m│\u001b[0m\n",
       "\u001b[92m│\u001b[0m \u001b[48;2;39;40;34m \u001b[0m\u001b[38;2;230;219;116;48;2;39;40;34msecured a $2 billion early-stage funding round led by Andreessen Horowitz,\u001b[0m\u001b[48;2;39;40;34m \u001b[0m \u001b[92m│\u001b[0m\n",
       "\u001b[92m│\u001b[0m \u001b[48;2;39;40;34m \u001b[0m\u001b[38;2;230;219;116;48;2;39;40;34mvaluing it at $12 billion. The startup has attracted talent from \u001b[0m\u001b[48;2;39;40;34m         \u001b[0m\u001b[48;2;39;40;34m \u001b[0m \u001b[92m│\u001b[0m\n",
       "\u001b[92m│\u001b[0m \u001b[48;2;39;40;34m \u001b[0m\u001b[38;2;230;219;116;48;2;39;40;34mcompetitors, including OpenAI co-founder John Schulman. \u001b[0m\u001b[48;2;39;40;34m                  \u001b[0m\u001b[48;2;39;40;34m \u001b[0m \u001b[92m│\u001b[0m\n",
       "\u001b[92m│\u001b[0m \u001b[48;2;39;40;34m \u001b[0m\u001b[38;2;230;219;116;48;2;39;40;34m([en.wikipedia.org](https://en.wikipedia.org/wiki/Thinking_Machines_Lab?ut\u001b[0m\u001b[48;2;39;40;34m \u001b[0m \u001b[92m│\u001b[0m\n",
       "\u001b[92m│\u001b[0m \u001b[48;2;39;40;34m \u001b[0m\u001b[38;2;230;219;116;48;2;39;40;34msource=openai))\\n\\n**Base44's Acquisition by Wix**\\n\\nIsraeli startup \u001b[0m\u001b[48;2;39;40;34m    \u001b[0m\u001b[48;2;39;40;34m \u001b[0m \u001b[92m│\u001b[0m\n",
       "\u001b[92m│\u001b[0m \u001b[48;2;39;40;34m \u001b[0m\u001b[38;2;230;219;116;48;2;39;40;34mBase44, founded in January 2025, developed an AI-powered platform enabling\u001b[0m\u001b[48;2;39;40;34m \u001b[0m \u001b[92m│\u001b[0m\n",
       "\u001b[92m│\u001b[0m \u001b[48;2;39;40;34m \u001b[0m\u001b[38;2;230;219;116;48;2;39;40;34mthe creation of web and mobile applications through a natural language \u001b[0m\u001b[48;2;39;40;34m   \u001b[0m\u001b[48;2;39;40;34m \u001b[0m \u001b[92m│\u001b[0m\n",
       "\u001b[92m│\u001b[0m \u001b[48;2;39;40;34m \u001b[0m\u001b[38;2;230;219;116;48;2;39;40;34mconversational interface. By June 2025, Base44 had over 100,000 users and \u001b[0m\u001b[48;2;39;40;34m \u001b[0m \u001b[92m│\u001b[0m\n",
       "\u001b[92m│\u001b[0m \u001b[48;2;39;40;34m \u001b[0m\u001b[38;2;230;219;116;48;2;39;40;34msecured partnerships with companies like eToro and Similarweb. In June 202\u001b[0m\u001b[48;2;39;40;34m \u001b[0m \u001b[92m│\u001b[0m\n",
       "\u001b[92m│\u001b[0m \u001b[48;2;39;40;34m \u001b[0m\u001b[38;2;230;219;116;48;2;39;40;34mWix.com acquired Base44 for approximately $80 million, integrating its \u001b[0m\u001b[48;2;39;40;34m   \u001b[0m\u001b[48;2;39;40;34m \u001b[0m \u001b[92m│\u001b[0m\n",
       "\u001b[92m│\u001b[0m \u001b[48;2;39;40;34m \u001b[0m\u001b[38;2;230;219;116;48;2;39;40;34mtechnology into Wix's product suite. \u001b[0m\u001b[48;2;39;40;34m                                     \u001b[0m\u001b[48;2;39;40;34m \u001b[0m \u001b[92m│\u001b[0m\n",
       "\u001b[92m│\u001b[0m \u001b[48;2;39;40;34m \u001b[0m\u001b[38;2;230;219;116;48;2;39;40;34m([en.wikipedia.org](https://en.wikipedia.org/wiki/Base44?utm_source=openai\u001b[0m\u001b[48;2;39;40;34m \u001b[0m \u001b[92m│\u001b[0m\n",
       "\u001b[92m│\u001b[0m \u001b[48;2;39;40;34m \u001b[0m\u001b[38;2;230;219;116;48;2;39;40;34m\\n\\n**Harvey's $300 Million Series D Funding**\\n\\nLegal AI firm Harvey \u001b[0m\u001b[48;2;39;40;34m   \u001b[0m\u001b[48;2;39;40;34m \u001b[0m \u001b[92m│\u001b[0m\n",
       "\u001b[92m│\u001b[0m \u001b[48;2;39;40;34m \u001b[0m\u001b[38;2;230;219;116;48;2;39;40;34mraised $300 million in a Series D funding round led by Sequoia Capital, \u001b[0m\u001b[48;2;39;40;34m  \u001b[0m\u001b[48;2;39;40;34m \u001b[0m \u001b[92m│\u001b[0m\n",
       "\u001b[92m│\u001b[0m \u001b[48;2;39;40;34m \u001b[0m\u001b[38;2;230;219;116;48;2;39;40;34mvaluing the company at $3 billion. The funding round also included \u001b[0m\u001b[48;2;39;40;34m       \u001b[0m\u001b[48;2;39;40;34m \u001b[0m \u001b[92m│\u001b[0m\n",
       "\u001b[92m│\u001b[0m \u001b[48;2;39;40;34m \u001b[0m\u001b[38;2;230;219;116;48;2;39;40;34mparticipation from OpenAI, Kleiner Perkins, and Sequoia Capital. Harvey \u001b[0m\u001b[48;2;39;40;34m  \u001b[0m\u001b[48;2;39;40;34m \u001b[0m \u001b[92m│\u001b[0m\n",
       "\u001b[92m│\u001b[0m \u001b[48;2;39;40;34m \u001b[0m\u001b[38;2;230;219;116;48;2;39;40;34mspecializes in using AI to answer legal questions, streamlining legal \u001b[0m\u001b[48;2;39;40;34m    \u001b[0m\u001b[48;2;39;40;34m \u001b[0m \u001b[92m│\u001b[0m\n",
       "\u001b[92m│\u001b[0m \u001b[48;2;39;40;34m \u001b[0m\u001b[38;2;230;219;116;48;2;39;40;34mresearch and documentation processes. \u001b[0m\u001b[48;2;39;40;34m                                    \u001b[0m\u001b[48;2;39;40;34m \u001b[0m \u001b[92m│\u001b[0m\n",
       "\u001b[92m│\u001b[0m \u001b[48;2;39;40;34m \u001b[0m\u001b[38;2;230;219;116;48;2;39;40;34m([en.wikipedia.org](https://en.wikipedia.org/wiki/Harvey_%28software%29?ut\u001b[0m\u001b[48;2;39;40;34m \u001b[0m \u001b[92m│\u001b[0m\n",
       "\u001b[92m│\u001b[0m \u001b[48;2;39;40;34m \u001b[0m\u001b[38;2;230;219;116;48;2;39;40;34msource=openai))\\n\\nThese developments reflect the dynamic and rapidly \u001b[0m\u001b[48;2;39;40;34m    \u001b[0m\u001b[48;2;39;40;34m \u001b[0m \u001b[92m│\u001b[0m\n",
       "\u001b[92m│\u001b[0m \u001b[48;2;39;40;34m \u001b[0m\u001b[38;2;230;219;116;48;2;39;40;34mevolving landscape of AI startups, highlighting significant investments, \u001b[0m\u001b[48;2;39;40;34m \u001b[0m\u001b[48;2;39;40;34m \u001b[0m \u001b[92m│\u001b[0m\n",
       "\u001b[92m│\u001b[0m \u001b[48;2;39;40;34m \u001b[0m\u001b[38;2;230;219;116;48;2;39;40;34mstrategic acquisitions, and innovative applications across various \u001b[0m\u001b[48;2;39;40;34m       \u001b[0m\u001b[48;2;39;40;34m \u001b[0m \u001b[92m│\u001b[0m\n",
       "\u001b[92m│\u001b[0m \u001b[48;2;39;40;34m \u001b[0m\u001b[38;2;230;219;116;48;2;39;40;34msectors.\\n\\n\\n## Recent Developments in AI Startups:\\n- [US AI startups se\u001b[0m\u001b[48;2;39;40;34m \u001b[0m \u001b[92m│\u001b[0m\n",
       "\u001b[92m│\u001b[0m \u001b[48;2;39;40;34m \u001b[0m\u001b[38;2;230;219;116;48;2;39;40;34mfunding surge while more VC funds struggle to raise, data \u001b[0m\u001b[48;2;39;40;34m                \u001b[0m\u001b[48;2;39;40;34m \u001b[0m \u001b[92m│\u001b[0m\n",
       "\u001b[92m│\u001b[0m \u001b[48;2;39;40;34m \u001b[0m\u001b[38;2;230;219;116;48;2;39;40;34mshows](https://www.reuters.com/business/us-ai-startups-see-funding-surge-w\u001b[0m\u001b[48;2;39;40;34m \u001b[0m \u001b[92m│\u001b[0m\n",
       "\u001b[92m│\u001b[0m \u001b[48;2;39;40;34m \u001b[0m\u001b[38;2;230;219;116;48;2;39;40;34mle-more-vc-funds-struggle-raise-data-shows-2025-07-15/?utm_source=openai)\\\u001b[0m\u001b[48;2;39;40;34m \u001b[0m \u001b[92m│\u001b[0m\n",
       "\u001b[92m│\u001b[0m \u001b[48;2;39;40;34m \u001b[0m\u001b[38;2;230;219;116;48;2;39;40;34m [AI device startup that sued OpenAI and Jony Ive is now suing its own \u001b[0m\u001b[48;2;39;40;34m   \u001b[0m\u001b[48;2;39;40;34m \u001b[0m \u001b[92m│\u001b[0m\n",
       "\u001b[92m│\u001b[0m \u001b[48;2;39;40;34m \u001b[0m\u001b[38;2;230;219;116;48;2;39;40;34mex-employee over trade \u001b[0m\u001b[48;2;39;40;34m                                                   \u001b[0m\u001b[48;2;39;40;34m \u001b[0m \u001b[92m│\u001b[0m\n",
       "\u001b[92m│\u001b[0m \u001b[48;2;39;40;34m \u001b[0m\u001b[38;2;230;219;116;48;2;39;40;34msecrets](https://apnews.com/article/0193532cf71cf975de62b4218ebd3bb6?utm_s\u001b[0m\u001b[48;2;39;40;34m \u001b[0m \u001b[92m│\u001b[0m\n",
       "\u001b[92m│\u001b[0m \u001b[48;2;39;40;34m \u001b[0m\u001b[38;2;230;219;116;48;2;39;40;34mrce=openai)\\n- [Nvidia stakes new startup that flips script on data center\u001b[0m\u001b[48;2;39;40;34m \u001b[0m \u001b[92m│\u001b[0m\n",
       "\u001b[92m│\u001b[0m \u001b[48;2;39;40;34m \u001b[0m\u001b[38;2;230;219;116;48;2;39;40;34mpower](https://www.axios.com/2025/07/01/nvidia-startup-data-center-power?u\u001b[0m\u001b[48;2;39;40;34m \u001b[0m \u001b[92m│\u001b[0m\n",
       "\u001b[92m│\u001b[0m \u001b[48;2;39;40;34m \u001b[0m\u001b[38;2;230;219;116;48;2;39;40;34m_source=openai) \"\u001b[0m\u001b[38;2;248;248;242;48;2;39;40;34m,\u001b[0m\u001b[48;2;39;40;34m                                                        \u001b[0m\u001b[48;2;39;40;34m \u001b[0m \u001b[92m│\u001b[0m\n",
       "\u001b[92m│\u001b[0m \u001b[48;2;39;40;34m \u001b[0m\u001b[38;2;248;248;242;48;2;39;40;34m  \u001b[0m\u001b[38;2;255;70;137;48;2;39;40;34m\"annotations\"\u001b[0m\u001b[38;2;248;248;242;48;2;39;40;34m:\u001b[0m\u001b[38;2;248;248;242;48;2;39;40;34m \u001b[0m\u001b[38;2;102;217;239;48;2;39;40;34mnull\u001b[0m\u001b[38;2;248;248;242;48;2;39;40;34m,\u001b[0m\u001b[48;2;39;40;34m                                                    \u001b[0m\u001b[48;2;39;40;34m \u001b[0m \u001b[92m│\u001b[0m\n",
       "\u001b[92m│\u001b[0m \u001b[48;2;39;40;34m \u001b[0m\u001b[38;2;248;248;242;48;2;39;40;34m  \u001b[0m\u001b[38;2;255;70;137;48;2;39;40;34m\"meta\"\u001b[0m\u001b[38;2;248;248;242;48;2;39;40;34m:\u001b[0m\u001b[38;2;248;248;242;48;2;39;40;34m \u001b[0m\u001b[38;2;102;217;239;48;2;39;40;34mnull\u001b[0m\u001b[48;2;39;40;34m                                                            \u001b[0m\u001b[48;2;39;40;34m \u001b[0m \u001b[92m│\u001b[0m\n",
       "\u001b[92m│\u001b[0m \u001b[48;2;39;40;34m \u001b[0m\u001b[38;2;248;248;242;48;2;39;40;34m}\u001b[0m\u001b[48;2;39;40;34m                                                                         \u001b[0m\u001b[48;2;39;40;34m \u001b[0m \u001b[92m│\u001b[0m\n",
       "\u001b[92m│\u001b[0m \u001b[48;2;39;40;34m                                                                            \u001b[0m \u001b[92m│\u001b[0m\n",
       "\u001b[92m╰──────────────────────────────────────────────────────────────────────────────╯\u001b[0m\n"
      ]
     },
     "metadata": {},
     "output_type": "display_data"
    },
    {
     "name": "stdout",
     "output_type": "stream",
     "text": [
      "                        \r"
     ]
    },
    {
     "data": {
      "text/html": [
       "<pre style=\"white-space:pre;overflow-x:auto;line-height:normal;font-family:Menlo,'DejaVu Sans Mono',consolas,'Courier New',monospace\"><span style=\"color: #008000; text-decoration-color: #008000\">╭──────────────────────── </span><span style=\"color: #008000; text-decoration-color: #008000; font-weight: bold\">AGENT</span><span style=\"color: #008000; text-decoration-color: #008000\"> [07/28/2025 04:02:35] ─────────────────────────╮</span>\n",
       "<span style=\"color: #008000; text-decoration-color: #008000\">│</span> Here's the latest news on AI and AI startups as of July 28, 2025:            <span style=\"color: #008000; text-decoration-color: #008000\">│</span>\n",
       "<span style=\"color: #008000; text-decoration-color: #008000\">│</span>                                                                              <span style=\"color: #008000; text-decoration-color: #008000\">│</span>\n",
       "<span style=\"color: #008000; text-decoration-color: #008000\">│</span> <span style=\"color: #808000; text-decoration-color: #808000; font-weight: bold\"> 1 </span><span style=\"font-weight: bold\">Surge in AI Startup Funding</span>: U.S. startup funding has increased           <span style=\"color: #008000; text-decoration-color: #008000\">│</span>\n",
       "<span style=\"color: #008000; text-decoration-color: #008000\">│</span> <span style=\"color: #808000; text-decoration-color: #808000; font-weight: bold\">   </span>significantly, with AI investments representing a major portion. This     <span style=\"color: #008000; text-decoration-color: #008000\">│</span>\n",
       "<span style=\"color: #008000; text-decoration-color: #008000\">│</span> <span style=\"color: #808000; text-decoration-color: #808000; font-weight: bold\">   </span>includes a massive $40 billion round for OpenAI and $14.3 billion from    <span style=\"color: #008000; text-decoration-color: #008000\">│</span>\n",
       "<span style=\"color: #008000; text-decoration-color: #008000\">│</span> <span style=\"color: #808000; text-decoration-color: #808000; font-weight: bold\">   </span>Meta for Scale AI. <a href=\"https://www.reuters.com/business/us-ai-startups-see-funding-surge-while-more-vc-funds-struggle-raise-data-shows-2025-07-15/?utm_source=openai\" target=\"_blank\"><span style=\"color: #000080; text-decoration-color: #000080; text-decoration: underline\">Read more</span></a>.                                             <span style=\"color: #008000; text-decoration-color: #008000\">│</span>\n",
       "<span style=\"color: #008000; text-decoration-color: #008000\">│</span> <span style=\"color: #808000; text-decoration-color: #808000; font-weight: bold\"> 2 </span><span style=\"font-weight: bold\">Legal Disputes in AI Development</span>: Tech startup iyO Inc. is in legal       <span style=\"color: #008000; text-decoration-color: #008000\">│</span>\n",
       "<span style=\"color: #008000; text-decoration-color: #008000\">│</span> <span style=\"color: #808000; text-decoration-color: #808000; font-weight: bold\">   </span>battles regarding leaked product designs and trademark issues with OpenAI <span style=\"color: #008000; text-decoration-color: #008000\">│</span>\n",
       "<span style=\"color: #008000; text-decoration-color: #008000\">│</span> <span style=\"color: #808000; text-decoration-color: #808000; font-weight: bold\">   </span>and Jony Ive. <a href=\"https://apnews.com/article/0193532cf71cf975de62b4218ebd3bb6?utm_source=openai\" target=\"_blank\"><span style=\"color: #000080; text-decoration-color: #000080; text-decoration: underline\">Learn more</span></a>.                                                 <span style=\"color: #008000; text-decoration-color: #008000\">│</span>\n",
       "<span style=\"color: #008000; text-decoration-color: #008000\">│</span> <span style=\"color: #808000; text-decoration-color: #808000; font-weight: bold\"> 3 </span><span style=\"font-weight: bold\">Meta's Investment in Scale AI</span>: Meta is considering a $10 billion          <span style=\"color: #008000; text-decoration-color: #008000\">│</span>\n",
       "<span style=\"color: #008000; text-decoration-color: #008000\">│</span> <span style=\"color: #808000; text-decoration-color: #808000; font-weight: bold\">   </span>investment in Scale AI, underlining the importance of data infrastructure <span style=\"color: #008000; text-decoration-color: #008000\">│</span>\n",
       "<span style=\"color: #008000; text-decoration-color: #008000\">│</span> <span style=\"color: #808000; text-decoration-color: #808000; font-weight: bold\">   </span>in AI. <a href=\"https://www.reuters.com/business/meta-talks-scale-ai-investment-that-could-top-10-billion-bloomberg-news-reports-2025-06-08/?utm_source=openai\" target=\"_blank\"><span style=\"color: #000080; text-decoration-color: #000080; text-decoration: underline\">Details here</span></a>.                                                      <span style=\"color: #008000; text-decoration-color: #008000\">│</span>\n",
       "<span style=\"color: #008000; text-decoration-color: #008000\">│</span> <span style=\"color: #808000; text-decoration-color: #808000; font-weight: bold\"> 4 </span><span style=\"font-weight: bold\">Emerald AI's Energy-Efficient Solutions</span>: Nvidia and other investors are   <span style=\"color: #008000; text-decoration-color: #008000\">│</span>\n",
       "<span style=\"color: #008000; text-decoration-color: #008000\">│</span> <span style=\"color: #808000; text-decoration-color: #808000; font-weight: bold\">   </span>backing Emerald AI to improve data center energy use in alignment with    <span style=\"color: #008000; text-decoration-color: #008000\">│</span>\n",
       "<span style=\"color: #008000; text-decoration-color: #008000\">│</span> <span style=\"color: #808000; text-decoration-color: #808000; font-weight: bold\">   </span>electricity grid demands. <a href=\"https://www.axios.com/2025/07/01/nvidia-startup-data-center-power?utm_source=openai\" target=\"_blank\"><span style=\"color: #000080; text-decoration-color: #000080; text-decoration: underline\">Find out more</span></a>.                                  <span style=\"color: #008000; text-decoration-color: #008000\">│</span>\n",
       "<span style=\"color: #008000; text-decoration-color: #008000\">│</span> <span style=\"color: #808000; text-decoration-color: #808000; font-weight: bold\"> 5 </span><span style=\"font-weight: bold\">Thinking Machines Lab's Rapid Growth</span>: Founded by Mira Murati, this        <span style=\"color: #008000; text-decoration-color: #008000\">│</span>\n",
       "<span style=\"color: #008000; text-decoration-color: #008000\">│</span> <span style=\"color: #808000; text-decoration-color: #808000; font-weight: bold\">   </span>startup quickly drew $2 billion in funding, attracting talent from major  <span style=\"color: #008000; text-decoration-color: #008000\">│</span>\n",
       "<span style=\"color: #008000; text-decoration-color: #008000\">│</span> <span style=\"color: #808000; text-decoration-color: #808000; font-weight: bold\">   </span>competitors. <a href=\"https://en.wikipedia.org/wiki/Thinking_Machines_Lab?utm_source=openai\" target=\"_blank\"><span style=\"color: #000080; text-decoration-color: #000080; text-decoration: underline\">Read more about it</span></a>.                                          <span style=\"color: #008000; text-decoration-color: #008000\">│</span>\n",
       "<span style=\"color: #008000; text-decoration-color: #008000\">│</span> <span style=\"color: #808000; text-decoration-color: #808000; font-weight: bold\"> 6 </span><span style=\"font-weight: bold\">Base44's Acquisition by Wix</span>: Base44, known for its AI-powered platform    <span style=\"color: #008000; text-decoration-color: #008000\">│</span>\n",
       "<span style=\"color: #008000; text-decoration-color: #008000\">│</span> <span style=\"color: #808000; text-decoration-color: #808000; font-weight: bold\">   </span>for creating applications through conversational interfaces, was acquired <span style=\"color: #008000; text-decoration-color: #008000\">│</span>\n",
       "<span style=\"color: #008000; text-decoration-color: #008000\">│</span> <span style=\"color: #808000; text-decoration-color: #808000; font-weight: bold\">   </span>by Wix for about $80 million. <a href=\"https://en.wikipedia.org/wiki/Base44?utm_source=openai\" target=\"_blank\"><span style=\"color: #000080; text-decoration-color: #000080; text-decoration: underline\">More information</span></a>.                           <span style=\"color: #008000; text-decoration-color: #008000\">│</span>\n",
       "<span style=\"color: #008000; text-decoration-color: #008000\">│</span> <span style=\"color: #808000; text-decoration-color: #808000; font-weight: bold\"> 7 </span><span style=\"font-weight: bold\">Harvey's Series D Funding</span>: Legal AI firm Harvey raised $300 million, led  <span style=\"color: #008000; text-decoration-color: #008000\">│</span>\n",
       "<span style=\"color: #008000; text-decoration-color: #008000\">│</span> <span style=\"color: #808000; text-decoration-color: #808000; font-weight: bold\">   </span>by Sequoia Capital, to advance its AI capabilities for legal processes.   <span style=\"color: #008000; text-decoration-color: #008000\">│</span>\n",
       "<span style=\"color: #008000; text-decoration-color: #008000\">│</span> <span style=\"color: #808000; text-decoration-color: #808000; font-weight: bold\">   </span><a href=\"https://en.wikipedia.org/wiki/Harvey_%28software%29?utm_source=openai\" target=\"_blank\"><span style=\"color: #000080; text-decoration-color: #000080; text-decoration: underline\">Explore further</span></a>.                                                          <span style=\"color: #008000; text-decoration-color: #008000\">│</span>\n",
       "<span style=\"color: #008000; text-decoration-color: #008000\">│</span>                                                                              <span style=\"color: #008000; text-decoration-color: #008000\">│</span>\n",
       "<span style=\"color: #008000; text-decoration-color: #008000\">│</span> These highlights demonstrate the vibrant and rapidly evolving nature of AI   <span style=\"color: #008000; text-decoration-color: #008000\">│</span>\n",
       "<span style=\"color: #008000; text-decoration-color: #008000\">│</span> startups, with substantial investments, strategic developments, and          <span style=\"color: #008000; text-decoration-color: #008000\">│</span>\n",
       "<span style=\"color: #008000; text-decoration-color: #008000\">│</span> innovative applications across various sectors.                              <span style=\"color: #008000; text-decoration-color: #008000\">│</span>\n",
       "<span style=\"color: #008000; text-decoration-color: #008000\">╰──────────────────────────────────────────────────────────────────────────────╯</span>\n",
       "</pre>\n"
      ],
      "text/plain": [
       "\u001b[32m╭─\u001b[0m\u001b[32m───────────────────────\u001b[0m\u001b[32m \u001b[0m\u001b[1;32mAGENT\u001b[0m\u001b[32m [07/28/2025 04:02:35] \u001b[0m\u001b[32m────────────────────────\u001b[0m\u001b[32m─╮\u001b[0m\n",
       "\u001b[32m│\u001b[0m Here's the latest news on AI and AI startups as of July 28, 2025:            \u001b[32m│\u001b[0m\n",
       "\u001b[32m│\u001b[0m                                                                              \u001b[32m│\u001b[0m\n",
       "\u001b[32m│\u001b[0m \u001b[1;33m 1 \u001b[0m\u001b[1mSurge in AI Startup Funding\u001b[0m: U.S. startup funding has increased           \u001b[32m│\u001b[0m\n",
       "\u001b[32m│\u001b[0m \u001b[1;33m   \u001b[0msignificantly, with AI investments representing a major portion. This     \u001b[32m│\u001b[0m\n",
       "\u001b[32m│\u001b[0m \u001b[1;33m   \u001b[0mincludes a massive $40 billion round for OpenAI and $14.3 billion from    \u001b[32m│\u001b[0m\n",
       "\u001b[32m│\u001b[0m \u001b[1;33m   \u001b[0mMeta for Scale AI. \u001b]8;id=137415;https://www.reuters.com/business/us-ai-startups-see-funding-surge-while-more-vc-funds-struggle-raise-data-shows-2025-07-15/?utm_source=openai\u001b\\\u001b[4;34mRead more\u001b[0m\u001b]8;;\u001b\\.                                             \u001b[32m│\u001b[0m\n",
       "\u001b[32m│\u001b[0m \u001b[1;33m 2 \u001b[0m\u001b[1mLegal Disputes in AI Development\u001b[0m: Tech startup iyO Inc. is in legal       \u001b[32m│\u001b[0m\n",
       "\u001b[32m│\u001b[0m \u001b[1;33m   \u001b[0mbattles regarding leaked product designs and trademark issues with OpenAI \u001b[32m│\u001b[0m\n",
       "\u001b[32m│\u001b[0m \u001b[1;33m   \u001b[0mand Jony Ive. \u001b]8;id=245135;https://apnews.com/article/0193532cf71cf975de62b4218ebd3bb6?utm_source=openai\u001b\\\u001b[4;34mLearn more\u001b[0m\u001b]8;;\u001b\\.                                                 \u001b[32m│\u001b[0m\n",
       "\u001b[32m│\u001b[0m \u001b[1;33m 3 \u001b[0m\u001b[1mMeta's Investment in Scale AI\u001b[0m: Meta is considering a $10 billion          \u001b[32m│\u001b[0m\n",
       "\u001b[32m│\u001b[0m \u001b[1;33m   \u001b[0minvestment in Scale AI, underlining the importance of data infrastructure \u001b[32m│\u001b[0m\n",
       "\u001b[32m│\u001b[0m \u001b[1;33m   \u001b[0min AI. \u001b]8;id=369642;https://www.reuters.com/business/meta-talks-scale-ai-investment-that-could-top-10-billion-bloomberg-news-reports-2025-06-08/?utm_source=openai\u001b\\\u001b[4;34mDetails here\u001b[0m\u001b]8;;\u001b\\.                                                      \u001b[32m│\u001b[0m\n",
       "\u001b[32m│\u001b[0m \u001b[1;33m 4 \u001b[0m\u001b[1mEmerald AI's Energy-Efficient Solutions\u001b[0m: Nvidia and other investors are   \u001b[32m│\u001b[0m\n",
       "\u001b[32m│\u001b[0m \u001b[1;33m   \u001b[0mbacking Emerald AI to improve data center energy use in alignment with    \u001b[32m│\u001b[0m\n",
       "\u001b[32m│\u001b[0m \u001b[1;33m   \u001b[0melectricity grid demands. \u001b]8;id=234177;https://www.axios.com/2025/07/01/nvidia-startup-data-center-power?utm_source=openai\u001b\\\u001b[4;34mFind out more\u001b[0m\u001b]8;;\u001b\\.                                  \u001b[32m│\u001b[0m\n",
       "\u001b[32m│\u001b[0m \u001b[1;33m 5 \u001b[0m\u001b[1mThinking Machines Lab's Rapid Growth\u001b[0m: Founded by Mira Murati, this        \u001b[32m│\u001b[0m\n",
       "\u001b[32m│\u001b[0m \u001b[1;33m   \u001b[0mstartup quickly drew $2 billion in funding, attracting talent from major  \u001b[32m│\u001b[0m\n",
       "\u001b[32m│\u001b[0m \u001b[1;33m   \u001b[0mcompetitors. \u001b]8;id=709301;https://en.wikipedia.org/wiki/Thinking_Machines_Lab?utm_source=openai\u001b\\\u001b[4;34mRead more about it\u001b[0m\u001b]8;;\u001b\\.                                          \u001b[32m│\u001b[0m\n",
       "\u001b[32m│\u001b[0m \u001b[1;33m 6 \u001b[0m\u001b[1mBase44's Acquisition by Wix\u001b[0m: Base44, known for its AI-powered platform    \u001b[32m│\u001b[0m\n",
       "\u001b[32m│\u001b[0m \u001b[1;33m   \u001b[0mfor creating applications through conversational interfaces, was acquired \u001b[32m│\u001b[0m\n",
       "\u001b[32m│\u001b[0m \u001b[1;33m   \u001b[0mby Wix for about $80 million. \u001b]8;id=806967;https://en.wikipedia.org/wiki/Base44?utm_source=openai\u001b\\\u001b[4;34mMore information\u001b[0m\u001b]8;;\u001b\\.                           \u001b[32m│\u001b[0m\n",
       "\u001b[32m│\u001b[0m \u001b[1;33m 7 \u001b[0m\u001b[1mHarvey's Series D Funding\u001b[0m: Legal AI firm Harvey raised $300 million, led  \u001b[32m│\u001b[0m\n",
       "\u001b[32m│\u001b[0m \u001b[1;33m   \u001b[0mby Sequoia Capital, to advance its AI capabilities for legal processes.   \u001b[32m│\u001b[0m\n",
       "\u001b[32m│\u001b[0m \u001b[1;33m   \u001b[0m\u001b]8;id=247028;https://en.wikipedia.org/wiki/Harvey_%28software%29?utm_source=openai\u001b\\\u001b[4;34mExplore further\u001b[0m\u001b]8;;\u001b\\.                                                          \u001b[32m│\u001b[0m\n",
       "\u001b[32m│\u001b[0m                                                                              \u001b[32m│\u001b[0m\n",
       "\u001b[32m│\u001b[0m These highlights demonstrate the vibrant and rapidly evolving nature of AI   \u001b[32m│\u001b[0m\n",
       "\u001b[32m│\u001b[0m startups, with substantial investments, strategic developments, and          \u001b[32m│\u001b[0m\n",
       "\u001b[32m│\u001b[0m innovative applications across various sectors.                              \u001b[32m│\u001b[0m\n",
       "\u001b[32m╰──────────────────────────────────────────────────────────────────────────────╯\u001b[0m\n"
      ]
     },
     "metadata": {},
     "output_type": "display_data"
    },
    {
     "name": "stdout",
     "output_type": "stream",
     "text": [
      "Streaming timed out after 20 seconds - returning collected messages\n"
     ]
    }
   ],
   "source": [
    "# Subscribe to the async task messages produced by the agent\n",
    "from agentex.lib.utils.dev_tools import subscribe_to_async_task_messages\n",
    "\n",
    "task_messages = subscribe_to_async_task_messages(\n",
    "    client=client,\n",
    "    task=task, \n",
    "    only_after_timestamp=event.created_at, \n",
    "    print_messages=True,\n",
    "    rich_print=True,\n",
    "    timeout=20,\n",
    ")"
   ]
  },
  {
   "cell_type": "code",
   "execution_count": null,
   "id": "4864e354",
   "metadata": {},
   "outputs": [],
   "source": []
  }
 ],
 "metadata": {
  "kernelspec": {
   "display_name": ".venv",
   "language": "python",
   "name": "python3"
  },
  "language_info": {
   "codemirror_mode": {
    "name": "ipython",
    "version": 3
   },
   "file_extension": ".py",
   "mimetype": "text/x-python",
   "name": "python",
   "nbconvert_exporter": "python",
   "pygments_lexer": "ipython3",
   "version": "3.12.9"
  }
 },
 "nbformat": 4,
 "nbformat_minor": 5
}
