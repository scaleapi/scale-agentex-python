{
 "cells": [
  {
   "cell_type": "code",
   "execution_count": 1,
   "id": "0",
   "metadata": {},
   "outputs": [],
   "source": [
    "from agentex import Agentex\n",
    "\n",
    "client = Agentex(base_url=\"http://localhost:5003\")"
   ]
  },
  {
   "cell_type": "code",
   "execution_count": 2,
   "id": "1",
   "metadata": {},
   "outputs": [],
   "source": [
    "AGENT_NAME = \"at010-agent-chat\""
   ]
  },
  {
   "cell_type": "code",
   "execution_count": 3,
   "id": "2",
   "metadata": {},
   "outputs": [
    {
     "name": "stdout",
     "output_type": "stream",
     "text": [
      "Task(id='ea03ec4f-37a6-41bc-b020-c7b63e1a5579', created_at=datetime.datetime(2025, 8, 19, 17, 23, 54, 432030, tzinfo=TzInfo(UTC)), name='07174a88-task', status='RUNNING', status_reason='Task created, forwarding to ACP server', updated_at=datetime.datetime(2025, 8, 19, 17, 23, 54, 432030, tzinfo=TzInfo(UTC)))\n"
     ]
    }
   ],
   "source": [
    "# (REQUIRED) Create a new task. For Agentic agents, you must create a task for messages to be associated with.\n",
    "import uuid\n",
    "\n",
    "rpc_response = client.agents.create_task(\n",
    "    agent_name=AGENT_NAME,\n",
    "    params={\n",
    "        \"name\": f\"{str(uuid.uuid4())[:8]}-task\",\n",
    "        \"params\": {}\n",
    "    }\n",
    ")\n",
    "\n",
    "task = rpc_response.result\n",
    "print(task)"
   ]
  },
  {
   "cell_type": "code",
   "execution_count": 4,
   "id": "3",
   "metadata": {},
   "outputs": [
    {
     "name": "stdout",
     "output_type": "stream",
     "text": [
      "Event(id='c6241128-0350-434e-b196-2d0fbbb7df9a', agent_id='a1abb90e-c673-4448-a4e2-841170568840', sequence_id=914, task_id='ea03ec4f-37a6-41bc-b020-c7b63e1a5579', content=TextContent(author='user', content='Hello tell me the latest news about AI and AI startups', attachments=None, format='plain', style='static', type='text'), created_at=datetime.datetime(2025, 8, 19, 17, 23, 54, 466983, tzinfo=TzInfo(UTC)))\n"
     ]
    }
   ],
   "source": [
    "# Send an event to the agent\n",
    "\n",
    "# The response is expected to be a list of TaskMessage objects, which is a union of the following types:\n",
    "# - TextContent: A message with just text content   \n",
    "# - DataContent: A message with JSON-serializable data content\n",
    "# - ToolRequestContent: A message with a tool request, which contains a JSON-serializable request to call a tool\n",
    "# - ToolResponseContent: A message with a tool response, which contains response object from a tool call in its content\n",
    "\n",
    "# When processing the message/send response, if you are expecting more than TextContent, such as DataContent, ToolRequestContent, or ToolResponseContent, you can process them as well\n",
    "\n",
    "rpc_response = client.agents.send_event(\n",
    "    agent_name=AGENT_NAME,\n",
    "    params={\n",
    "        \"content\": {\"type\": \"text\", \"author\": \"user\", \"content\": \"Hello tell me the latest news about AI and AI startups\"},\n",
    "        \"task_id\": task.id,\n",
    "    }\n",
    ")\n",
    "\n",
    "event = rpc_response.result\n",
    "print(event)"
   ]
  },
  {
   "cell_type": "code",
   "execution_count": 5,
   "id": "4",
   "metadata": {},
   "outputs": [
    {
     "data": {
      "text/html": [
       "<pre style=\"white-space:pre;overflow-x:auto;line-height:normal;font-family:Menlo,'DejaVu Sans Mono',consolas,'Courier New',monospace\"><span style=\"color: #00ffff; text-decoration-color: #00ffff\">╭───────────────────────── </span><span style=\"color: #00ffff; text-decoration-color: #00ffff; font-weight: bold\">USER</span><span style=\"color: #00ffff; text-decoration-color: #00ffff\"> [08/19/2025 17:23:54] ─────────────────────────╮</span>\n",
       "<span style=\"color: #00ffff; text-decoration-color: #00ffff\">│</span> Hello tell me the latest news about AI and AI startups                       <span style=\"color: #00ffff; text-decoration-color: #00ffff\">│</span>\n",
       "<span style=\"color: #00ffff; text-decoration-color: #00ffff\">╰──────────────────────────────────────────────────────────────────────────────╯</span>\n",
       "</pre>\n"
      ],
      "text/plain": [
       "\u001b[96m╭─\u001b[0m\u001b[96m────────────────────────\u001b[0m\u001b[96m \u001b[0m\u001b[1;96mUSER\u001b[0m\u001b[96m [08/19/2025 17:23:54] \u001b[0m\u001b[96m────────────────────────\u001b[0m\u001b[96m─╮\u001b[0m\n",
       "\u001b[96m│\u001b[0m Hello tell me the latest news about AI and AI startups                       \u001b[96m│\u001b[0m\n",
       "\u001b[96m╰──────────────────────────────────────────────────────────────────────────────╯\u001b[0m\n"
      ]
     },
     "metadata": {},
     "output_type": "display_data"
    },
    {
     "name": "stdout",
     "output_type": "stream",
     "text": [
      "                        \r"
     ]
    },
    {
     "data": {
      "text/html": [
       "<pre style=\"white-space:pre;overflow-x:auto;line-height:normal;font-family:Menlo,'DejaVu Sans Mono',consolas,'Courier New',monospace\"><span style=\"color: #ff00ff; text-decoration-color: #ff00ff\">╭──────────────────────── </span><span style=\"color: #008000; text-decoration-color: #008000; font-weight: bold\">AGENT</span><span style=\"color: #ff00ff; text-decoration-color: #ff00ff\"> [08/19/2025 17:24:01] ─────────────────────────╮</span>\n",
       "<span style=\"color: #ff00ff; text-decoration-color: #ff00ff\">│</span> 🧠 <span style=\"font-weight: bold\">Reasoning</span>                                                                 <span style=\"color: #ff00ff; text-decoration-color: #ff00ff\">│</span>\n",
       "<span style=\"color: #ff00ff; text-decoration-color: #ff00ff\">│</span>                                                                              <span style=\"color: #ff00ff; text-decoration-color: #ff00ff\">│</span>\n",
       "<span style=\"color: #ff00ff; text-decoration-color: #ff00ff\">│</span> <span style=\"font-weight: bold\">Fetching latest AI news</span>                                                      <span style=\"color: #ff00ff; text-decoration-color: #ff00ff\">│</span>\n",
       "<span style=\"color: #ff00ff; text-decoration-color: #ff00ff\">│</span>                                                                              <span style=\"color: #ff00ff; text-decoration-color: #ff00ff\">│</span>\n",
       "<span style=\"color: #ff00ff; text-decoration-color: #ff00ff\">│</span> The user wants to know the latest news about AI and AI startups. I need to   <span style=\"color: #ff00ff; text-decoration-color: #ff00ff\">│</span>\n",
       "<span style=\"color: #ff00ff; text-decoration-color: #ff00ff\">│</span> gather this information today, so I’ll use the web_search tool to find       <span style=\"color: #ff00ff; text-decoration-color: #ff00ff\">│</span>\n",
       "<span style=\"color: #ff00ff; text-decoration-color: #ff00ff\">│</span> recent articles. I plan to search for \"AI news August 2025,\" but I'll expand <span style=\"color: #ff00ff; text-decoration-color: #ff00ff\">│</span>\n",
       "<span style=\"color: #ff00ff; text-decoration-color: #ff00ff\">│</span> it to include keywords about funding, layoffs, regulations, models, and      <span style=\"color: #ff00ff; text-decoration-color: #ff00ff\">│</span>\n",
       "<span style=\"color: #ff00ff; text-decoration-color: #ff00ff\">│</span> chips. This way, I can provide a comprehensive update. Let's see what the    <span style=\"color: #ff00ff; text-decoration-color: #ff00ff\">│</span>\n",
       "<span style=\"color: #ff00ff; text-decoration-color: #ff00ff\">│</span> search turns up!                                                             <span style=\"color: #ff00ff; text-decoration-color: #ff00ff\">│</span>\n",
       "<span style=\"color: #ff00ff; text-decoration-color: #ff00ff\">╰──────────────────────────────────────────────────────────────────────────────╯</span>\n",
       "</pre>\n"
      ],
      "text/plain": [
       "\u001b[95m╭─\u001b[0m\u001b[95m───────────────────────\u001b[0m\u001b[95m \u001b[0m\u001b[1;32mAGENT\u001b[0m\u001b[95m [08/19/2025 17:24:01] \u001b[0m\u001b[95m────────────────────────\u001b[0m\u001b[95m─╮\u001b[0m\n",
       "\u001b[95m│\u001b[0m 🧠 \u001b[1mReasoning\u001b[0m                                                                 \u001b[95m│\u001b[0m\n",
       "\u001b[95m│\u001b[0m                                                                              \u001b[95m│\u001b[0m\n",
       "\u001b[95m│\u001b[0m \u001b[1mFetching latest AI news\u001b[0m                                                      \u001b[95m│\u001b[0m\n",
       "\u001b[95m│\u001b[0m                                                                              \u001b[95m│\u001b[0m\n",
       "\u001b[95m│\u001b[0m The user wants to know the latest news about AI and AI startups. I need to   \u001b[95m│\u001b[0m\n",
       "\u001b[95m│\u001b[0m gather this information today, so I’ll use the web_search tool to find       \u001b[95m│\u001b[0m\n",
       "\u001b[95m│\u001b[0m recent articles. I plan to search for \"AI news August 2025,\" but I'll expand \u001b[95m│\u001b[0m\n",
       "\u001b[95m│\u001b[0m it to include keywords about funding, layoffs, regulations, models, and      \u001b[95m│\u001b[0m\n",
       "\u001b[95m│\u001b[0m chips. This way, I can provide a comprehensive update. Let's see what the    \u001b[95m│\u001b[0m\n",
       "\u001b[95m│\u001b[0m search turns up!                                                             \u001b[95m│\u001b[0m\n",
       "\u001b[95m╰──────────────────────────────────────────────────────────────────────────────╯\u001b[0m\n"
      ]
     },
     "metadata": {},
     "output_type": "display_data"
    },
    {
     "name": "stdout",
     "output_type": "stream",
     "text": [
      "⠋ 🔄 Agent responding...Unknown TaskMessageUpdate type: None\n",
      "⠏ 🔄 Agent responding...Unknown TaskMessageUpdate type: None\n",
      "⠋ 🔄 Agent responding...Unknown TaskMessageUpdate type: None\n",
      "⠦ 🔄 Agent responding...Unknown TaskMessageUpdate type: None\n",
      "                        \r"
     ]
    },
    {
     "data": {
      "text/html": [
       "<pre style=\"white-space:pre;overflow-x:auto;line-height:normal;font-family:Menlo,'DejaVu Sans Mono',consolas,'Courier New',monospace\"><span style=\"color: #ff00ff; text-decoration-color: #ff00ff\">╭──────────────────────── </span><span style=\"color: #008000; text-decoration-color: #008000; font-weight: bold\">AGENT</span><span style=\"color: #ff00ff; text-decoration-color: #ff00ff\"> [08/19/2025 17:24:30] ─────────────────────────╮</span>\n",
       "<span style=\"color: #ff00ff; text-decoration-color: #ff00ff\">│</span> 🧠 <span style=\"font-weight: bold\">Reasoning</span>                                                                 <span style=\"color: #ff00ff; text-decoration-color: #ff00ff\">│</span>\n",
       "<span style=\"color: #ff00ff; text-decoration-color: #ff00ff\">│</span>                                                                              <span style=\"color: #ff00ff; text-decoration-color: #ff00ff\">│</span>\n",
       "<span style=\"color: #ff00ff; text-decoration-color: #ff00ff\">│</span> <span style=\"font-weight: bold\">Summarizing recent news</span>                                                      <span style=\"color: #ff00ff; text-decoration-color: #ff00ff\">│</span>\n",
       "<span style=\"color: #ff00ff; text-decoration-color: #ff00ff\">│</span>                                                                              <span style=\"color: #ff00ff; text-decoration-color: #ff00ff\">│</span>\n",
       "<span style=\"color: #ff00ff; text-decoration-color: #ff00ff\">│</span> The web search provided text about recent news from August 19, 2025,         <span style=\"color: #ff00ff; text-decoration-color: #ff00ff\">│</span>\n",
       "<span style=\"color: #ff00ff; text-decoration-color: #ff00ff\">│</span> highlighting key items. I need to ensure the details about model releases,   <span style=\"color: #ff00ff; text-decoration-color: #ff00ff\">│</span>\n",
       "<span style=\"color: #ff00ff; text-decoration-color: #ff00ff\">│</span> like OpenAI and its funding, are presented accurately, as some might be      <span style=\"color: #ff00ff; text-decoration-color: #ff00ff\">│</span>\n",
       "<span style=\"color: #ff00ff; text-decoration-color: #ff00ff\">│</span> misleading. We should summarize funding rounds, partnerships, and            <span style=\"color: #ff00ff; text-decoration-color: #ff00ff\">│</span>\n",
       "<span style=\"color: #ff00ff; text-decoration-color: #ff00ff\">│</span> acquisitions, but there was no mention of layoffs in the search results. I   <span style=\"color: #ff00ff; text-decoration-color: #ff00ff\">│</span>\n",
       "<span style=\"color: #ff00ff; text-decoration-color: #ff00ff\">│</span> could also look into AI regulation developments, specifically for the EU AI  <span style=\"color: #ff00ff; text-decoration-color: #ff00ff\">│</span>\n",
       "<span style=\"color: #ff00ff; text-decoration-color: #ff00ff\">│</span> Act and US executive actions. Let's conduct another search for those.        <span style=\"color: #ff00ff; text-decoration-color: #ff00ff\">│</span>\n",
       "<span style=\"color: #ff00ff; text-decoration-color: #ff00ff\">╰──────────────────────────────────────────────────────────────────────────────╯</span>\n",
       "</pre>\n"
      ],
      "text/plain": [
       "\u001b[95m╭─\u001b[0m\u001b[95m───────────────────────\u001b[0m\u001b[95m \u001b[0m\u001b[1;32mAGENT\u001b[0m\u001b[95m [08/19/2025 17:24:30] \u001b[0m\u001b[95m────────────────────────\u001b[0m\u001b[95m─╮\u001b[0m\n",
       "\u001b[95m│\u001b[0m 🧠 \u001b[1mReasoning\u001b[0m                                                                 \u001b[95m│\u001b[0m\n",
       "\u001b[95m│\u001b[0m                                                                              \u001b[95m│\u001b[0m\n",
       "\u001b[95m│\u001b[0m \u001b[1mSummarizing recent news\u001b[0m                                                      \u001b[95m│\u001b[0m\n",
       "\u001b[95m│\u001b[0m                                                                              \u001b[95m│\u001b[0m\n",
       "\u001b[95m│\u001b[0m The web search provided text about recent news from August 19, 2025,         \u001b[95m│\u001b[0m\n",
       "\u001b[95m│\u001b[0m highlighting key items. I need to ensure the details about model releases,   \u001b[95m│\u001b[0m\n",
       "\u001b[95m│\u001b[0m like OpenAI and its funding, are presented accurately, as some might be      \u001b[95m│\u001b[0m\n",
       "\u001b[95m│\u001b[0m misleading. We should summarize funding rounds, partnerships, and            \u001b[95m│\u001b[0m\n",
       "\u001b[95m│\u001b[0m acquisitions, but there was no mention of layoffs in the search results. I   \u001b[95m│\u001b[0m\n",
       "\u001b[95m│\u001b[0m could also look into AI regulation developments, specifically for the EU AI  \u001b[95m│\u001b[0m\n",
       "\u001b[95m│\u001b[0m Act and US executive actions. Let's conduct another search for those.        \u001b[95m│\u001b[0m\n",
       "\u001b[95m╰──────────────────────────────────────────────────────────────────────────────╯\u001b[0m\n"
      ]
     },
     "metadata": {},
     "output_type": "display_data"
    },
    {
     "name": "stdout",
     "output_type": "stream",
     "text": [
      "⠋ 🔄 Agent responding...Unknown TaskMessageUpdate type: None\n",
      "⠴ 🔄 Agent responding...Unknown TaskMessageUpdate type: None\n",
      "                        \r"
     ]
    },
    {
     "data": {
      "text/html": [
       "<pre style=\"white-space:pre;overflow-x:auto;line-height:normal;font-family:Menlo,'DejaVu Sans Mono',consolas,'Courier New',monospace\"><span style=\"color: #008000; text-decoration-color: #008000\">╭──────────────────────── </span><span style=\"color: #008000; text-decoration-color: #008000; font-weight: bold\">AGENT</span><span style=\"color: #008000; text-decoration-color: #008000\"> [08/19/2025 17:24:51] ─────────────────────────╮</span>\n",
       "<span style=\"color: #008000; text-decoration-color: #008000\">│</span> Here’s a concise roundup of the biggest AI / AI-startup stories as of today  <span style=\"color: #008000; text-decoration-color: #008000\">│</span>\n",
       "<span style=\"color: #008000; text-decoration-color: #008000\">│</span> (19 Aug 2025), with the main takeaways and where they matter most. Tell me   <span style=\"color: #008000; text-decoration-color: #008000\">│</span>\n",
       "<span style=\"color: #008000; text-decoration-color: #008000\">│</span> which topics you want deeper coverage on (funding, models &amp; chips,           <span style=\"color: #008000; text-decoration-color: #008000\">│</span>\n",
       "<span style=\"color: #008000; text-decoration-color: #008000\">│</span> regulation, M&amp;A, robotics, security, or job-market impact).                  <span style=\"color: #008000; text-decoration-color: #008000\">│</span>\n",
       "<span style=\"color: #008000; text-decoration-color: #008000\">│</span>                                                                              <span style=\"color: #008000; text-decoration-color: #008000\">│</span>\n",
       "<span style=\"color: #008000; text-decoration-color: #008000\">│</span> Top funding and startup moves                                                <span style=\"color: #008000; text-decoration-color: #008000\">│</span>\n",
       "<span style=\"color: #008000; text-decoration-color: #008000\">│</span>                                                                              <span style=\"color: #008000; text-decoration-color: #008000\">│</span>\n",
       "<span style=\"color: #008000; text-decoration-color: #008000\">│</span> <span style=\"color: #808000; text-decoration-color: #808000; font-weight: bold\"> • </span>OpenAI — reported a large private funding round (~$8.3B) at a very high   <span style=\"color: #008000; text-decoration-color: #008000\">│</span>\n",
       "<span style=\"color: #008000; text-decoration-color: #008000\">│</span> <span style=\"color: #808000; text-decoration-color: #808000; font-weight: bold\">   </span>valuation (reports flagged ~ $300B). Funds aimed at scaling model         <span style=\"color: #008000; text-decoration-color: #008000\">│</span>\n",
       "<span style=\"color: #008000; text-decoration-color: #008000\">│</span> <span style=\"color: #808000; text-decoration-color: #808000; font-weight: bold\">   </span>development and infrastructure. (news reports Aug 2025)                   <span style=\"color: #008000; text-decoration-color: #008000\">│</span>\n",
       "<span style=\"color: #008000; text-decoration-color: #008000\">│</span> <span style=\"color: #808000; text-decoration-color: #808000; font-weight: bold\"> • </span>Apptronik — big raise (~$350M Series A) to scale humanoid-robot           <span style=\"color: #008000; text-decoration-color: #008000\">│</span>\n",
       "<span style=\"color: #008000; text-decoration-color: #008000\">│</span> <span style=\"color: #808000; text-decoration-color: #808000; font-weight: bold\">   </span>production and commercial deployments in logistics/industrial settings.   <span style=\"color: #008000; text-decoration-color: #008000\">│</span>\n",
       "<span style=\"color: #008000; text-decoration-color: #008000\">│</span> <span style=\"color: #808000; text-decoration-color: #808000; font-weight: bold\"> • </span>FuriosaAI — raised a growth round (reported ~$125M) to expand production  <span style=\"color: #008000; text-decoration-color: #008000\">│</span>\n",
       "<span style=\"color: #008000; text-decoration-color: #008000\">│</span> <span style=\"color: #808000; text-decoration-color: #808000; font-weight: bold\">   </span>of its AI inference chips for data centers.                               <span style=\"color: #008000; text-decoration-color: #008000\">│</span>\n",
       "<span style=\"color: #008000; text-decoration-color: #008000\">│</span> <span style=\"color: #808000; text-decoration-color: #808000; font-weight: bold\"> • </span>Noma Security, Nudge and other niche startups — significant rounds        <span style=\"color: #008000; text-decoration-color: #008000\">│</span>\n",
       "<span style=\"color: #008000; text-decoration-color: #008000\">│</span> <span style=\"color: #808000; text-decoration-color: #808000; font-weight: bold\">   </span>(cybersecurity for models, brain-tech / non‑invasive neural interfaces)   <span style=\"color: #008000; text-decoration-color: #008000\">│</span>\n",
       "<span style=\"color: #008000; text-decoration-color: #008000\">│</span> <span style=\"color: #808000; text-decoration-color: #808000; font-weight: bold\">   </span>reflecting continued investor interest in specialized AI applications.    <span style=\"color: #008000; text-decoration-color: #008000\">│</span>\n",
       "<span style=\"color: #008000; text-decoration-color: #008000\">│</span>                                                                              <span style=\"color: #008000; text-decoration-color: #008000\">│</span>\n",
       "<span style=\"color: #008000; text-decoration-color: #008000\">│</span> Model, hardware and product developments                                     <span style=\"color: #008000; text-decoration-color: #008000\">│</span>\n",
       "<span style=\"color: #008000; text-decoration-color: #008000\">│</span>                                                                              <span style=\"color: #008000; text-decoration-color: #008000\">│</span>\n",
       "<span style=\"color: #008000; text-decoration-color: #008000\">│</span> <span style=\"color: #808000; text-decoration-color: #808000; font-weight: bold\"> • </span>Continued focus on inference efficiency and custom accelerators: startups <span style=\"color: #008000; text-decoration-color: #008000\">│</span>\n",
       "<span style=\"color: #008000; text-decoration-color: #008000\">│</span> <span style=\"color: #808000; text-decoration-color: #808000; font-weight: bold\">   </span>and chipmakers (like FuriosaAI) are raising to bring new inference ASICs  <span style=\"color: #008000; text-decoration-color: #008000\">│</span>\n",
       "<span style=\"color: #008000; text-decoration-color: #008000\">│</span> <span style=\"color: #808000; text-decoration-color: #808000; font-weight: bold\">   </span>to market as data-center demand grows.                                    <span style=\"color: #008000; text-decoration-color: #008000\">│</span>\n",
       "<span style=\"color: #008000; text-decoration-color: #008000\">│</span> <span style=\"color: #808000; text-decoration-color: #808000; font-weight: bold\"> • </span>Robotics commercialization: companies such as Apptronik are moving from   <span style=\"color: #008000; text-decoration-color: #008000\">│</span>\n",
       "<span style=\"color: #008000; text-decoration-color: #008000\">│</span> <span style=\"color: #808000; text-decoration-color: #808000; font-weight: bold\">   </span>prototypes to production planning, with strategic investors showing       <span style=\"color: #008000; text-decoration-color: #008000\">│</span>\n",
       "<span style=\"color: #008000; text-decoration-color: #008000\">│</span> <span style=\"color: #808000; text-decoration-color: #808000; font-weight: bold\">   </span>interest.                                                                 <span style=\"color: #008000; text-decoration-color: #008000\">│</span>\n",
       "<span style=\"color: #008000; text-decoration-color: #008000\">│</span> <span style=\"color: #808000; text-decoration-color: #808000; font-weight: bold\"> • </span>AI safety/productization tooling: rising investment in model-security,    <span style=\"color: #008000; text-decoration-color: #008000\">│</span>\n",
       "<span style=\"color: #008000; text-decoration-color: #008000\">│</span> <span style=\"color: #808000; text-decoration-color: #808000; font-weight: bold\">   </span>governance, and monitoring platforms (to protect IP, prevent data leaks,  <span style=\"color: #008000; text-decoration-color: #008000\">│</span>\n",
       "<span style=\"color: #008000; text-decoration-color: #008000\">│</span> <span style=\"color: #808000; text-decoration-color: #808000; font-weight: bold\">   </span>and detect model attacks).                                                <span style=\"color: #008000; text-decoration-color: #008000\">│</span>\n",
       "<span style=\"color: #008000; text-decoration-color: #008000\">│</span>                                                                              <span style=\"color: #008000; text-decoration-color: #008000\">│</span>\n",
       "<span style=\"color: #008000; text-decoration-color: #008000\">│</span> Partnerships, M&amp;A and strategic moves                                        <span style=\"color: #008000; text-decoration-color: #008000\">│</span>\n",
       "<span style=\"color: #008000; text-decoration-color: #008000\">│</span>                                                                              <span style=\"color: #008000; text-decoration-color: #008000\">│</span>\n",
       "<span style=\"color: #008000; text-decoration-color: #008000\">│</span> <span style=\"color: #808000; text-decoration-color: #808000; font-weight: bold\"> • </span>Strategic partnerships between automotive/commercial vehicle groups and   <span style=\"color: #008000; text-decoration-color: #008000\">│</span>\n",
       "<span style=\"color: #008000; text-decoration-color: #008000\">│</span> <span style=\"color: #808000; text-decoration-color: #808000; font-weight: bold\">   </span>autonomy/software specialists continue to accelerate (e.g.,               <span style=\"color: #008000; text-decoration-color: #008000\">│</span>\n",
       "<span style=\"color: #008000; text-decoration-color: #008000\">│</span> <span style=\"color: #808000; text-decoration-color: #808000; font-weight: bold\">   </span>software-defined truck and autonomy platform deals).                      <span style=\"color: #008000; text-decoration-color: #008000\">│</span>\n",
       "<span style=\"color: #008000; text-decoration-color: #008000\">│</span> <span style=\"color: #808000; text-decoration-color: #808000; font-weight: bold\"> • </span>Some acquisitions and deals in adjacent Web3/DeFi sectors show incumbents <span style=\"color: #008000; text-decoration-color: #008000\">│</span>\n",
       "<span style=\"color: #008000; text-decoration-color: #008000\">│</span> <span style=\"color: #808000; text-decoration-color: #808000; font-weight: bold\">   </span>reshaping infrastructure — illustrating cross-industry consolidation that <span style=\"color: #008000; text-decoration-color: #008000\">│</span>\n",
       "<span style=\"color: #008000; text-decoration-color: #008000\">│</span> <span style=\"color: #808000; text-decoration-color: #808000; font-weight: bold\">   </span>can affect AI startups’ access to capital and customers.                  <span style=\"color: #008000; text-decoration-color: #008000\">│</span>\n",
       "<span style=\"color: #008000; text-decoration-color: #008000\">│</span>                                                                              <span style=\"color: #008000; text-decoration-color: #008000\">│</span>\n",
       "<span style=\"color: #008000; text-decoration-color: #008000\">│</span> Regulation &amp; policy (major developments)                                     <span style=\"color: #008000; text-decoration-color: #008000\">│</span>\n",
       "<span style=\"color: #008000; text-decoration-color: #008000\">│</span>                                                                              <span style=\"color: #008000; text-decoration-color: #008000\">│</span>\n",
       "<span style=\"color: #008000; text-decoration-color: #008000\">│</span> <span style=\"color: #808000; text-decoration-color: #808000; font-weight: bold\"> • </span>EU AI Act enforcement is in active phases — the EU’s risk-based rules and <span style=\"color: #008000; text-decoration-color: #008000\">│</span>\n",
       "<span style=\"color: #008000; text-decoration-color: #008000\">│</span> <span style=\"color: #808000; text-decoration-color: #808000; font-weight: bold\">   </span>enforcement mechanisms are being implemented and starting to bite for     <span style=\"color: #008000; text-decoration-color: #008000\">│</span>\n",
       "<span style=\"color: #008000; text-decoration-color: #008000\">│</span> <span style=\"color: #808000; text-decoration-color: #808000; font-weight: bold\">   </span>high‑risk systems. Firms targeting EU customers must align documentation, <span style=\"color: #008000; text-decoration-color: #008000\">│</span>\n",
       "<span style=\"color: #008000; text-decoration-color: #008000\">│</span> <span style=\"color: #808000; text-decoration-color: #808000; font-weight: bold\">   </span>risk assessments, and compliance processes.                               <span style=\"color: #008000; text-decoration-color: #008000\">│</span>\n",
       "<span style=\"color: #008000; text-decoration-color: #008000\">│</span> <span style=\"color: #808000; text-decoration-color: #808000; font-weight: bold\"> • </span>U.S. policy direction shifted in 2025 with new executive-level AI         <span style=\"color: #008000; text-decoration-color: #008000\">│</span>\n",
       "<span style=\"color: #008000; text-decoration-color: #008000\">│</span> <span style=\"color: #808000; text-decoration-color: #808000; font-weight: bold\">   </span>initiatives emphasizing faster deployment, infrastructure incentives, and <span style=\"color: #008000; text-decoration-color: #008000\">│</span>\n",
       "<span style=\"color: #008000; text-decoration-color: #008000\">│</span> <span style=\"color: #808000; text-decoration-color: #808000; font-weight: bold\">   </span>lighter federal regulation (reports indicate debate over balance between  <span style=\"color: #008000; text-decoration-color: #008000\">│</span>\n",
       "<span style=\"color: #008000; text-decoration-color: #008000\">│</span> <span style=\"color: #808000; text-decoration-color: #808000; font-weight: bold\">   </span>innovation and consumer protections). Expect compliance and procurement   <span style=\"color: #008000; text-decoration-color: #008000\">│</span>\n",
       "<span style=\"color: #008000; text-decoration-color: #008000\">│</span> <span style=\"color: #808000; text-decoration-color: #808000; font-weight: bold\">   </span>emphasis for federal contractors.                                         <span style=\"color: #008000; text-decoration-color: #008000\">│</span>\n",
       "<span style=\"color: #008000; text-decoration-color: #008000\">│</span>                                                                              <span style=\"color: #008000; text-decoration-color: #008000\">│</span>\n",
       "<span style=\"color: #008000; text-decoration-color: #008000\">│</span> Security &amp; risk                                                              <span style=\"color: #008000; text-decoration-color: #008000\">│</span>\n",
       "<span style=\"color: #008000; text-decoration-color: #008000\">│</span>                                                                              <span style=\"color: #008000; text-decoration-color: #008000\">│</span>\n",
       "<span style=\"color: #008000; text-decoration-color: #008000\">│</span> <span style=\"color: #808000; text-decoration-color: #808000; font-weight: bold\"> • </span>Growing investor and customer focus on AI supply-chain security, model    <span style=\"color: #008000; text-decoration-color: #008000\">│</span>\n",
       "<span style=\"color: #008000; text-decoration-color: #008000\">│</span> <span style=\"color: #808000; text-decoration-color: #808000; font-weight: bold\">   </span>safety, and detection of malicious model use — startups focused on model  <span style=\"color: #008000; text-decoration-color: #008000\">│</span>\n",
       "<span style=\"color: #008000; text-decoration-color: #008000\">│</span> <span style=\"color: #808000; text-decoration-color: #808000; font-weight: bold\">   </span>hardening, data leakage prevention, and incident detection are drawing    <span style=\"color: #008000; text-decoration-color: #008000\">│</span>\n",
       "<span style=\"color: #008000; text-decoration-color: #008000\">│</span> <span style=\"color: #808000; text-decoration-color: #808000; font-weight: bold\">   </span>capital.                                                                  <span style=\"color: #008000; text-decoration-color: #008000\">│</span>\n",
       "<span style=\"color: #008000; text-decoration-color: #008000\">│</span>                                                                              <span style=\"color: #008000; text-decoration-color: #008000\">│</span>\n",
       "<span style=\"color: #008000; text-decoration-color: #008000\">│</span> What this means for founders / investors / builders                          <span style=\"color: #008000; text-decoration-color: #008000\">│</span>\n",
       "<span style=\"color: #008000; text-decoration-color: #008000\">│</span>                                                                              <span style=\"color: #008000; text-decoration-color: #008000\">│</span>\n",
       "<span style=\"color: #008000; text-decoration-color: #008000\">│</span> <span style=\"color: #808000; text-decoration-color: #808000; font-weight: bold\"> • </span>Capital is available but investors are selective: big rounds still occur, <span style=\"color: #008000; text-decoration-color: #008000\">│</span>\n",
       "<span style=\"color: #008000; text-decoration-color: #008000\">│</span> <span style=\"color: #808000; text-decoration-color: #808000; font-weight: bold\">   </span>but expect higher expectations on traction, path-to-revenue, and          <span style=\"color: #008000; text-decoration-color: #008000\">│</span>\n",
       "<span style=\"color: #008000; text-decoration-color: #008000\">│</span> <span style=\"color: #808000; text-decoration-color: #808000; font-weight: bold\">   </span>defensibility (especially for hardware and robotics).                     <span style=\"color: #008000; text-decoration-color: #008000\">│</span>\n",
       "<span style=\"color: #008000; text-decoration-color: #008000\">│</span> <span style=\"color: #808000; text-decoration-color: #808000; font-weight: bold\"> • </span>Regulatory compliance and explainability are now table-stakes for selling <span style=\"color: #008000; text-decoration-color: #008000\">│</span>\n",
       "<span style=\"color: #008000; text-decoration-color: #008000\">│</span> <span style=\"color: #808000; text-decoration-color: #808000; font-weight: bold\">   </span>into the EU and many enterprise customers.                                <span style=\"color: #008000; text-decoration-color: #008000\">│</span>\n",
       "<span style=\"color: #008000; text-decoration-color: #008000\">│</span> <span style=\"color: #808000; text-decoration-color: #808000; font-weight: bold\"> • </span>Opportunity hotspots: inference chips &amp; hardware, robotics at scale,      <span style=\"color: #008000; text-decoration-color: #008000\">│</span>\n",
       "<span style=\"color: #008000; text-decoration-color: #008000\">│</span> <span style=\"color: #808000; text-decoration-color: #808000; font-weight: bold\">   </span>model security &amp; governance, verticalized LLMs (domain-specialized        <span style=\"color: #008000; text-decoration-color: #008000\">│</span>\n",
       "<span style=\"color: #008000; text-decoration-color: #008000\">│</span> <span style=\"color: #808000; text-decoration-color: #808000; font-weight: bold\">   </span>agents), and brain-computer interfaces (early-stage,                      <span style=\"color: #008000; text-decoration-color: #008000\">│</span>\n",
       "<span style=\"color: #008000; text-decoration-color: #008000\">│</span> <span style=\"color: #808000; text-decoration-color: #808000; font-weight: bold\">   </span>high-risk/high-upside).                                                   <span style=\"color: #008000; text-decoration-color: #008000\">│</span>\n",
       "<span style=\"color: #008000; text-decoration-color: #008000\">│</span>                                                                              <span style=\"color: #008000; text-decoration-color: #008000\">│</span>\n",
       "<span style=\"color: #008000; text-decoration-color: #008000\">│</span> Want more?                                                                   <span style=\"color: #008000; text-decoration-color: #008000\">│</span>\n",
       "<span style=\"color: #008000; text-decoration-color: #008000\">│</span>                                                                              <span style=\"color: #008000; text-decoration-color: #008000\">│</span>\n",
       "<span style=\"color: #008000; text-decoration-color: #008000\">│</span> <span style=\"color: #808000; text-decoration-color: #808000; font-weight: bold\"> • </span>I can pull and summarize the full articles/sources for any of the bullets <span style=\"color: #008000; text-decoration-color: #008000\">│</span>\n",
       "<span style=\"color: #008000; text-decoration-color: #008000\">│</span> <span style=\"color: #808000; text-decoration-color: #808000; font-weight: bold\">   </span>above.                                                                    <span style=\"color: #008000; text-decoration-color: #008000\">│</span>\n",
       "<span style=\"color: #008000; text-decoration-color: #008000\">│</span> <span style=\"color: #808000; text-decoration-color: #808000; font-weight: bold\"> • </span>I can drill into: (a) the biggest funding rounds with investor lists, (b) <span style=\"color: #008000; text-decoration-color: #008000\">│</span>\n",
       "<span style=\"color: #008000; text-decoration-color: #008000\">│</span> <span style=\"color: #808000; text-decoration-color: #808000; font-weight: bold\">   </span>specific EU/US regulatory steps and compliance checklist, (c) recent      <span style=\"color: #008000; text-decoration-color: #008000\">│</span>\n",
       "<span style=\"color: #008000; text-decoration-color: #008000\">│</span> <span style=\"color: #808000; text-decoration-color: #808000; font-weight: bold\">   </span>model releases and capabilities, or (d) how these trends affect hiring    <span style=\"color: #008000; text-decoration-color: #008000\">│</span>\n",
       "<span style=\"color: #008000; text-decoration-color: #008000\">│</span> <span style=\"color: #808000; text-decoration-color: #808000; font-weight: bold\">   </span>and fundraising strategies.                                               <span style=\"color: #008000; text-decoration-color: #008000\">│</span>\n",
       "<span style=\"color: #008000; text-decoration-color: #008000\">│</span>                                                                              <span style=\"color: #008000; text-decoration-color: #008000\">│</span>\n",
       "<span style=\"color: #008000; text-decoration-color: #008000\">│</span> Which area should I expand on first?                                         <span style=\"color: #008000; text-decoration-color: #008000\">│</span>\n",
       "<span style=\"color: #008000; text-decoration-color: #008000\">╰──────────────────────────────────────────────────────────────────────────────╯</span>\n",
       "</pre>\n"
      ],
      "text/plain": [
       "\u001b[32m╭─\u001b[0m\u001b[32m───────────────────────\u001b[0m\u001b[32m \u001b[0m\u001b[1;32mAGENT\u001b[0m\u001b[32m [08/19/2025 17:24:51] \u001b[0m\u001b[32m────────────────────────\u001b[0m\u001b[32m─╮\u001b[0m\n",
       "\u001b[32m│\u001b[0m Here’s a concise roundup of the biggest AI / AI-startup stories as of today  \u001b[32m│\u001b[0m\n",
       "\u001b[32m│\u001b[0m (19 Aug 2025), with the main takeaways and where they matter most. Tell me   \u001b[32m│\u001b[0m\n",
       "\u001b[32m│\u001b[0m which topics you want deeper coverage on (funding, models & chips,           \u001b[32m│\u001b[0m\n",
       "\u001b[32m│\u001b[0m regulation, M&A, robotics, security, or job-market impact).                  \u001b[32m│\u001b[0m\n",
       "\u001b[32m│\u001b[0m                                                                              \u001b[32m│\u001b[0m\n",
       "\u001b[32m│\u001b[0m Top funding and startup moves                                                \u001b[32m│\u001b[0m\n",
       "\u001b[32m│\u001b[0m                                                                              \u001b[32m│\u001b[0m\n",
       "\u001b[32m│\u001b[0m \u001b[1;33m • \u001b[0mOpenAI — reported a large private funding round (~$8.3B) at a very high   \u001b[32m│\u001b[0m\n",
       "\u001b[32m│\u001b[0m \u001b[1;33m   \u001b[0mvaluation (reports flagged ~ $300B). Funds aimed at scaling model         \u001b[32m│\u001b[0m\n",
       "\u001b[32m│\u001b[0m \u001b[1;33m   \u001b[0mdevelopment and infrastructure. (news reports Aug 2025)                   \u001b[32m│\u001b[0m\n",
       "\u001b[32m│\u001b[0m \u001b[1;33m • \u001b[0mApptronik — big raise (~$350M Series A) to scale humanoid-robot           \u001b[32m│\u001b[0m\n",
       "\u001b[32m│\u001b[0m \u001b[1;33m   \u001b[0mproduction and commercial deployments in logistics/industrial settings.   \u001b[32m│\u001b[0m\n",
       "\u001b[32m│\u001b[0m \u001b[1;33m • \u001b[0mFuriosaAI — raised a growth round (reported ~$125M) to expand production  \u001b[32m│\u001b[0m\n",
       "\u001b[32m│\u001b[0m \u001b[1;33m   \u001b[0mof its AI inference chips for data centers.                               \u001b[32m│\u001b[0m\n",
       "\u001b[32m│\u001b[0m \u001b[1;33m • \u001b[0mNoma Security, Nudge and other niche startups — significant rounds        \u001b[32m│\u001b[0m\n",
       "\u001b[32m│\u001b[0m \u001b[1;33m   \u001b[0m(cybersecurity for models, brain-tech / non‑invasive neural interfaces)   \u001b[32m│\u001b[0m\n",
       "\u001b[32m│\u001b[0m \u001b[1;33m   \u001b[0mreflecting continued investor interest in specialized AI applications.    \u001b[32m│\u001b[0m\n",
       "\u001b[32m│\u001b[0m                                                                              \u001b[32m│\u001b[0m\n",
       "\u001b[32m│\u001b[0m Model, hardware and product developments                                     \u001b[32m│\u001b[0m\n",
       "\u001b[32m│\u001b[0m                                                                              \u001b[32m│\u001b[0m\n",
       "\u001b[32m│\u001b[0m \u001b[1;33m • \u001b[0mContinued focus on inference efficiency and custom accelerators: startups \u001b[32m│\u001b[0m\n",
       "\u001b[32m│\u001b[0m \u001b[1;33m   \u001b[0mand chipmakers (like FuriosaAI) are raising to bring new inference ASICs  \u001b[32m│\u001b[0m\n",
       "\u001b[32m│\u001b[0m \u001b[1;33m   \u001b[0mto market as data-center demand grows.                                    \u001b[32m│\u001b[0m\n",
       "\u001b[32m│\u001b[0m \u001b[1;33m • \u001b[0mRobotics commercialization: companies such as Apptronik are moving from   \u001b[32m│\u001b[0m\n",
       "\u001b[32m│\u001b[0m \u001b[1;33m   \u001b[0mprototypes to production planning, with strategic investors showing       \u001b[32m│\u001b[0m\n",
       "\u001b[32m│\u001b[0m \u001b[1;33m   \u001b[0minterest.                                                                 \u001b[32m│\u001b[0m\n",
       "\u001b[32m│\u001b[0m \u001b[1;33m • \u001b[0mAI safety/productization tooling: rising investment in model-security,    \u001b[32m│\u001b[0m\n",
       "\u001b[32m│\u001b[0m \u001b[1;33m   \u001b[0mgovernance, and monitoring platforms (to protect IP, prevent data leaks,  \u001b[32m│\u001b[0m\n",
       "\u001b[32m│\u001b[0m \u001b[1;33m   \u001b[0mand detect model attacks).                                                \u001b[32m│\u001b[0m\n",
       "\u001b[32m│\u001b[0m                                                                              \u001b[32m│\u001b[0m\n",
       "\u001b[32m│\u001b[0m Partnerships, M&A and strategic moves                                        \u001b[32m│\u001b[0m\n",
       "\u001b[32m│\u001b[0m                                                                              \u001b[32m│\u001b[0m\n",
       "\u001b[32m│\u001b[0m \u001b[1;33m • \u001b[0mStrategic partnerships between automotive/commercial vehicle groups and   \u001b[32m│\u001b[0m\n",
       "\u001b[32m│\u001b[0m \u001b[1;33m   \u001b[0mautonomy/software specialists continue to accelerate (e.g.,               \u001b[32m│\u001b[0m\n",
       "\u001b[32m│\u001b[0m \u001b[1;33m   \u001b[0msoftware-defined truck and autonomy platform deals).                      \u001b[32m│\u001b[0m\n",
       "\u001b[32m│\u001b[0m \u001b[1;33m • \u001b[0mSome acquisitions and deals in adjacent Web3/DeFi sectors show incumbents \u001b[32m│\u001b[0m\n",
       "\u001b[32m│\u001b[0m \u001b[1;33m   \u001b[0mreshaping infrastructure — illustrating cross-industry consolidation that \u001b[32m│\u001b[0m\n",
       "\u001b[32m│\u001b[0m \u001b[1;33m   \u001b[0mcan affect AI startups’ access to capital and customers.                  \u001b[32m│\u001b[0m\n",
       "\u001b[32m│\u001b[0m                                                                              \u001b[32m│\u001b[0m\n",
       "\u001b[32m│\u001b[0m Regulation & policy (major developments)                                     \u001b[32m│\u001b[0m\n",
       "\u001b[32m│\u001b[0m                                                                              \u001b[32m│\u001b[0m\n",
       "\u001b[32m│\u001b[0m \u001b[1;33m • \u001b[0mEU AI Act enforcement is in active phases — the EU’s risk-based rules and \u001b[32m│\u001b[0m\n",
       "\u001b[32m│\u001b[0m \u001b[1;33m   \u001b[0menforcement mechanisms are being implemented and starting to bite for     \u001b[32m│\u001b[0m\n",
       "\u001b[32m│\u001b[0m \u001b[1;33m   \u001b[0mhigh‑risk systems. Firms targeting EU customers must align documentation, \u001b[32m│\u001b[0m\n",
       "\u001b[32m│\u001b[0m \u001b[1;33m   \u001b[0mrisk assessments, and compliance processes.                               \u001b[32m│\u001b[0m\n",
       "\u001b[32m│\u001b[0m \u001b[1;33m • \u001b[0mU.S. policy direction shifted in 2025 with new executive-level AI         \u001b[32m│\u001b[0m\n",
       "\u001b[32m│\u001b[0m \u001b[1;33m   \u001b[0minitiatives emphasizing faster deployment, infrastructure incentives, and \u001b[32m│\u001b[0m\n",
       "\u001b[32m│\u001b[0m \u001b[1;33m   \u001b[0mlighter federal regulation (reports indicate debate over balance between  \u001b[32m│\u001b[0m\n",
       "\u001b[32m│\u001b[0m \u001b[1;33m   \u001b[0minnovation and consumer protections). Expect compliance and procurement   \u001b[32m│\u001b[0m\n",
       "\u001b[32m│\u001b[0m \u001b[1;33m   \u001b[0memphasis for federal contractors.                                         \u001b[32m│\u001b[0m\n",
       "\u001b[32m│\u001b[0m                                                                              \u001b[32m│\u001b[0m\n",
       "\u001b[32m│\u001b[0m Security & risk                                                              \u001b[32m│\u001b[0m\n",
       "\u001b[32m│\u001b[0m                                                                              \u001b[32m│\u001b[0m\n",
       "\u001b[32m│\u001b[0m \u001b[1;33m • \u001b[0mGrowing investor and customer focus on AI supply-chain security, model    \u001b[32m│\u001b[0m\n",
       "\u001b[32m│\u001b[0m \u001b[1;33m   \u001b[0msafety, and detection of malicious model use — startups focused on model  \u001b[32m│\u001b[0m\n",
       "\u001b[32m│\u001b[0m \u001b[1;33m   \u001b[0mhardening, data leakage prevention, and incident detection are drawing    \u001b[32m│\u001b[0m\n",
       "\u001b[32m│\u001b[0m \u001b[1;33m   \u001b[0mcapital.                                                                  \u001b[32m│\u001b[0m\n",
       "\u001b[32m│\u001b[0m                                                                              \u001b[32m│\u001b[0m\n",
       "\u001b[32m│\u001b[0m What this means for founders / investors / builders                          \u001b[32m│\u001b[0m\n",
       "\u001b[32m│\u001b[0m                                                                              \u001b[32m│\u001b[0m\n",
       "\u001b[32m│\u001b[0m \u001b[1;33m • \u001b[0mCapital is available but investors are selective: big rounds still occur, \u001b[32m│\u001b[0m\n",
       "\u001b[32m│\u001b[0m \u001b[1;33m   \u001b[0mbut expect higher expectations on traction, path-to-revenue, and          \u001b[32m│\u001b[0m\n",
       "\u001b[32m│\u001b[0m \u001b[1;33m   \u001b[0mdefensibility (especially for hardware and robotics).                     \u001b[32m│\u001b[0m\n",
       "\u001b[32m│\u001b[0m \u001b[1;33m • \u001b[0mRegulatory compliance and explainability are now table-stakes for selling \u001b[32m│\u001b[0m\n",
       "\u001b[32m│\u001b[0m \u001b[1;33m   \u001b[0minto the EU and many enterprise customers.                                \u001b[32m│\u001b[0m\n",
       "\u001b[32m│\u001b[0m \u001b[1;33m • \u001b[0mOpportunity hotspots: inference chips & hardware, robotics at scale,      \u001b[32m│\u001b[0m\n",
       "\u001b[32m│\u001b[0m \u001b[1;33m   \u001b[0mmodel security & governance, verticalized LLMs (domain-specialized        \u001b[32m│\u001b[0m\n",
       "\u001b[32m│\u001b[0m \u001b[1;33m   \u001b[0magents), and brain-computer interfaces (early-stage,                      \u001b[32m│\u001b[0m\n",
       "\u001b[32m│\u001b[0m \u001b[1;33m   \u001b[0mhigh-risk/high-upside).                                                   \u001b[32m│\u001b[0m\n",
       "\u001b[32m│\u001b[0m                                                                              \u001b[32m│\u001b[0m\n",
       "\u001b[32m│\u001b[0m Want more?                                                                   \u001b[32m│\u001b[0m\n",
       "\u001b[32m│\u001b[0m                                                                              \u001b[32m│\u001b[0m\n",
       "\u001b[32m│\u001b[0m \u001b[1;33m • \u001b[0mI can pull and summarize the full articles/sources for any of the bullets \u001b[32m│\u001b[0m\n",
       "\u001b[32m│\u001b[0m \u001b[1;33m   \u001b[0mabove.                                                                    \u001b[32m│\u001b[0m\n",
       "\u001b[32m│\u001b[0m \u001b[1;33m • \u001b[0mI can drill into: (a) the biggest funding rounds with investor lists, (b) \u001b[32m│\u001b[0m\n",
       "\u001b[32m│\u001b[0m \u001b[1;33m   \u001b[0mspecific EU/US regulatory steps and compliance checklist, (c) recent      \u001b[32m│\u001b[0m\n",
       "\u001b[32m│\u001b[0m \u001b[1;33m   \u001b[0mmodel releases and capabilities, or (d) how these trends affect hiring    \u001b[32m│\u001b[0m\n",
       "\u001b[32m│\u001b[0m \u001b[1;33m   \u001b[0mand fundraising strategies.                                               \u001b[32m│\u001b[0m\n",
       "\u001b[32m│\u001b[0m                                                                              \u001b[32m│\u001b[0m\n",
       "\u001b[32m│\u001b[0m Which area should I expand on first?                                         \u001b[32m│\u001b[0m\n",
       "\u001b[32m╰──────────────────────────────────────────────────────────────────────────────╯\u001b[0m\n"
      ]
     },
     "metadata": {},
     "output_type": "display_data"
    },
    {
     "name": "stdout",
     "output_type": "stream",
     "text": [
      "Streaming timed out after 60 seconds - returning collected messages\n"
     ]
    }
   ],
   "source": [
    "# Subscribe to the async task messages produced by the agent\n",
    "from agentex.lib.utils.dev_tools import subscribe_to_async_task_messages\n",
    "\n",
    "task_messages = subscribe_to_async_task_messages(\n",
    "    client=client,\n",
    "    task=task, \n",
    "    only_after_timestamp=event.created_at, \n",
    "    print_messages=True,\n",
    "    rich_print=True,\n",
    "    timeout=60,\n",
    ")"
   ]
  }
 ],
 "metadata": {
  "kernelspec": {
   "display_name": ".venv",
   "language": "python",
   "name": "python3"
  },
  "language_info": {
   "codemirror_mode": {
    "name": "ipython",
    "version": 3
   },
   "file_extension": ".py",
   "mimetype": "text/x-python",
   "name": "python",
   "nbconvert_exporter": "python",
   "pygments_lexer": "ipython3",
   "version": "3.12.11"
  }
 },
 "nbformat": 4,
 "nbformat_minor": 5
}
