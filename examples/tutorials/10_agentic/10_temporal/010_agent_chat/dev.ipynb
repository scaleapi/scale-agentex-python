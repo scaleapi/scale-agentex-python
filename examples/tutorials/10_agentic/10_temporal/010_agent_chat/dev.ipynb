{
 "cells": [
  {
   "cell_type": "code",
   "execution_count": 1,
   "id": "0",
   "metadata": {},
   "outputs": [],
   "source": [
    "from agentex import Agentex\n",
    "\n",
    "client = Agentex(base_url=\"http://localhost:5003\")"
   ]
  },
  {
   "cell_type": "code",
   "execution_count": 2,
   "id": "1",
   "metadata": {},
   "outputs": [],
   "source": [
    "AGENT_NAME = \"at010-agent-chat\""
   ]
  },
  {
   "cell_type": "code",
   "execution_count": 3,
   "id": "2",
   "metadata": {},
   "outputs": [
    {
     "name": "stdout",
     "output_type": "stream",
     "text": [
      "Task(id='275dedaa-5f65-44be-bba4-299cf0ea9d4c', created_at=datetime.datetime(2025, 10, 1, 23, 54, 5, 688746, tzinfo=TzInfo(UTC)), name='9822ec1e-task', params={}, status='RUNNING', status_reason='Task created, forwarding to ACP server', task_metadata=None, updated_at=datetime.datetime(2025, 10, 1, 23, 54, 5, 688746, tzinfo=TzInfo(UTC)))\n"
     ]
    }
   ],
   "source": [
    "# (REQUIRED) Create a new task. For Agentic agents, you must create a task for messages to be associated with.\n",
    "import uuid\n",
    "\n",
    "rpc_response = client.agents.create_task(\n",
    "    agent_name=AGENT_NAME,\n",
    "    params={\n",
    "        \"name\": f\"{str(uuid.uuid4())[:8]}-task\",\n",
    "        \"params\": {}\n",
    "    }\n",
    ")\n",
    "\n",
    "task = rpc_response.result\n",
    "print(task)"
   ]
  },
  {
   "cell_type": "code",
   "execution_count": null,
   "id": "3",
   "metadata": {},
   "outputs": [
    {
     "name": "stdout",
     "output_type": "stream",
     "text": [
      "Event(id='4e21f97b-76b9-497e-ab6e-13cd9703195c', agent_id='2f4d3b3d-6a59-46ff-993e-afd6c1f1c7ab', sequence_id=128, task_id='275dedaa-5f65-44be-bba4-299cf0ea9d4c', content=TextContent(author='user', content='Tell me about recent AI news', attachments=None, format='plain', style='static', type='text'), created_at=datetime.datetime(2025, 10, 1, 23, 54, 5, 735408, tzinfo=TzInfo(UTC)))\n"
     ]
    }
   ],
   "source": [
    "# Send an event to the agent\n",
    "\n",
    "# The response is expected to be a list of TaskMessage objects, which is a union of the following types:\n",
    "# - TextContent: A message with just text content   \n",
    "# - DataContent: A message with JSON-serializable data content\n",
    "# - ToolRequestContent: A message with a tool request, which contains a JSON-serializable request to call a tool\n",
    "# - ToolResponseContent: A message with a tool response, which contains response object from a tool call in its content\n",
    "\n",
    "# When processing the message/send response, if you are expecting more than TextContent, such as DataContent, ToolRequestContent, or ToolResponseContent, you can process them as well\n",
    "\n",
    "rpc_response = client.agents.send_event(\n",
    "    agent_name=AGENT_NAME,\n",
    "    params={\n",
    "        \"content\": {\"type\": \"text\", \"author\": \"user\", \"content\": \"Tell me about recent AI news for today only.\"},\n",
    "        \"task_id\": task.id,\n",
    "    }\n",
    ")\n",
    "\n",
    "event = rpc_response.result\n",
    "print(event)"
   ]
  },
  {
   "cell_type": "code",
   "execution_count": null,
   "id": "4",
   "metadata": {},
   "outputs": [
    {
     "name": "stdout",
     "output_type": "stream",
     "text": [
      "Full message receiveddata: {\"type\":\"full\",\"index\":null,\"parent_task_message\":{\"id\":\"68ddbf1d54b21893aff2d7b4\",\"task_id\":\"275dedaa-5f65-44be-bba4-299cf0ea9d4c\",\"content\":{\"type\":\"text\",\"author\":\"user\",\"style\":\"static\",\"format\":\"plain\",\"content\":\"Tell me about recent AI news\",\"attachments\":null},\"streaming_status\":null,\"created_at\":\"2025-10-01T23:54:05.800260Z\",\"updated_at\":\"2025-10-01T23:54:05.800260Z\"},\"content\":{\"type\":\"text\",\"author\":\"user\",\"style\":\"static\",\"format\":\"plain\",\"content\":\"Tell me about recent AI news\",\"attachments\":null}}\n",
      "\n",
      "\n"
     ]
    },
    {
     "data": {
      "text/html": [
       "<pre style=\"white-space:pre;overflow-x:auto;line-height:normal;font-family:Menlo,'DejaVu Sans Mono',consolas,'Courier New',monospace\"><span style=\"color: #00ffff; text-decoration-color: #00ffff\">╭───────────────────────── </span><span style=\"color: #00ffff; text-decoration-color: #00ffff; font-weight: bold\">USER</span><span style=\"color: #00ffff; text-decoration-color: #00ffff\"> [10/01/2025 23:54:05] ─────────────────────────╮</span>\n",
       "<span style=\"color: #00ffff; text-decoration-color: #00ffff\">│</span> Tell me about recent AI news                                                 <span style=\"color: #00ffff; text-decoration-color: #00ffff\">│</span>\n",
       "<span style=\"color: #00ffff; text-decoration-color: #00ffff\">╰──────────────────────────────────────────────────────────────────────────────╯</span>\n",
       "</pre>\n"
      ],
      "text/plain": [
       "\u001b[96m╭─\u001b[0m\u001b[96m────────────────────────\u001b[0m\u001b[96m \u001b[0m\u001b[1;96mUSER\u001b[0m\u001b[96m [10/01/2025 23:54:05] \u001b[0m\u001b[96m────────────────────────\u001b[0m\u001b[96m─╮\u001b[0m\n",
       "\u001b[96m│\u001b[0m Tell me about recent AI news                                                 \u001b[96m│\u001b[0m\n",
       "\u001b[96m╰──────────────────────────────────────────────────────────────────────────────╯\u001b[0m\n"
      ]
     },
     "metadata": {},
     "output_type": "display_data"
    },
    {
     "name": "stdout",
     "output_type": "stream",
     "text": [
      "Start message receiveddata: {\"type\":\"start\",\"index\":null,\"parent_task_message\":{\"id\":\"68ddbf2354b21893aff2d7b5\",\"task_id\":\"275dedaa-5f65-44be-bba4-299cf0ea9d4c\",\"content\":{\"type\":\"reasoning\",\"author\":\"agent\",\"style\":\"active\",\"summary\":[],\"content\":[]},\"streaming_status\":\"IN_PROGRESS\",\"created_at\":\"2025-10-01T23:54:11.197784Z\",\"updated_at\":\"2025-10-01T23:54:11.197784Z\"},\"content\":{\"type\":\"reasoning\",\"author\":\"agent\",\"style\":\"active\",\"summary\":[],\"content\":[]}}\n",
      "\n",
      "\n",
      "⠙ 🔄 Agent responding...Full message receiveddata: {\"type\":\"full\",\"index\":null,\"parent_task_message\":{\"id\":\"68ddbf2354b21893aff2d7b5\",\"task_id\":\"275dedaa-5f65-44be-bba4-299cf0ea9d4c\",\"content\":{\"type\":\"reasoning\",\"author\":\"agent\",\"style\":\"active\",\"summary\":[],\"content\":[]},\"streaming_status\":\"IN_PROGRESS\",\"created_at\":\"2025-10-01T23:54:11.197784Z\",\"updated_at\":\"2025-10-01T23:54:11.197784Z\"},\"content\":{\"type\":\"reasoning\",\"author\":\"agent\",\"style\":\"static\",\"summary\":[\"**Searching for recent AI news**\\n\\nThe user is asking for recent news about AI. Since my last knowledge cut-off was June 2024, I need to use the web search tool to find current stories. I’ll query for news from September 2025 and summarize key topics, like major releases from companies such as OpenAI and Google, regulations, new models, NVIDIA updates, and AI safety advancements. It makes sense to search for “AI news September 2025” as we're now on October 1, 2025. Let's proceed with the search!\"],\"content\":[]}}\n",
      "\n",
      "\n",
      "                        \n"
     ]
    },
    {
     "data": {
      "text/html": [
       "<pre style=\"white-space:pre;overflow-x:auto;line-height:normal;font-family:Menlo,'DejaVu Sans Mono',consolas,'Courier New',monospace\"><span style=\"color: #ff00ff; text-decoration-color: #ff00ff\">╭──────────────────────── </span><span style=\"color: #ff00ff; text-decoration-color: #ff00ff; font-weight: bold\">AGENT</span><span style=\"color: #ff00ff; text-decoration-color: #ff00ff\"> [10/01/2025 23:54:11] ─────────────────────────╮</span>\n",
       "<span style=\"color: #ff00ff; text-decoration-color: #ff00ff\">│</span> 🧠 <span style=\"font-weight: bold\">Reasoning</span>                                                                 <span style=\"color: #ff00ff; text-decoration-color: #ff00ff\">│</span>\n",
       "<span style=\"color: #ff00ff; text-decoration-color: #ff00ff\">│</span>                                                                              <span style=\"color: #ff00ff; text-decoration-color: #ff00ff\">│</span>\n",
       "<span style=\"color: #ff00ff; text-decoration-color: #ff00ff\">│</span> <span style=\"font-weight: bold\">Searching for recent AI news</span>                                                 <span style=\"color: #ff00ff; text-decoration-color: #ff00ff\">│</span>\n",
       "<span style=\"color: #ff00ff; text-decoration-color: #ff00ff\">│</span>                                                                              <span style=\"color: #ff00ff; text-decoration-color: #ff00ff\">│</span>\n",
       "<span style=\"color: #ff00ff; text-decoration-color: #ff00ff\">│</span> The user is asking for recent news about AI. Since my last knowledge cut-off <span style=\"color: #ff00ff; text-decoration-color: #ff00ff\">│</span>\n",
       "<span style=\"color: #ff00ff; text-decoration-color: #ff00ff\">│</span> was June 2024, I need to use the web search tool to find current stories.    <span style=\"color: #ff00ff; text-decoration-color: #ff00ff\">│</span>\n",
       "<span style=\"color: #ff00ff; text-decoration-color: #ff00ff\">│</span> I’ll query for news from September 2025 and summarize key topics, like major <span style=\"color: #ff00ff; text-decoration-color: #ff00ff\">│</span>\n",
       "<span style=\"color: #ff00ff; text-decoration-color: #ff00ff\">│</span> releases from companies such as OpenAI and Google, regulations, new models,  <span style=\"color: #ff00ff; text-decoration-color: #ff00ff\">│</span>\n",
       "<span style=\"color: #ff00ff; text-decoration-color: #ff00ff\">│</span> NVIDIA updates, and AI safety advancements. It makes sense to search for “AI <span style=\"color: #ff00ff; text-decoration-color: #ff00ff\">│</span>\n",
       "<span style=\"color: #ff00ff; text-decoration-color: #ff00ff\">│</span> news September 2025” as we're now on October 1, 2025. Let's proceed with the <span style=\"color: #ff00ff; text-decoration-color: #ff00ff\">│</span>\n",
       "<span style=\"color: #ff00ff; text-decoration-color: #ff00ff\">│</span> search!                                                                      <span style=\"color: #ff00ff; text-decoration-color: #ff00ff\">│</span>\n",
       "<span style=\"color: #ff00ff; text-decoration-color: #ff00ff\">╰──────────────────────────────────────────────────────────────────────────────╯</span>\n",
       "</pre>\n"
      ],
      "text/plain": [
       "\u001b[95m╭─\u001b[0m\u001b[95m───────────────────────\u001b[0m\u001b[95m \u001b[0m\u001b[1;95mAGENT\u001b[0m\u001b[95m [10/01/2025 23:54:11] \u001b[0m\u001b[95m────────────────────────\u001b[0m\u001b[95m─╮\u001b[0m\n",
       "\u001b[95m│\u001b[0m 🧠 \u001b[1mReasoning\u001b[0m                                                                 \u001b[95m│\u001b[0m\n",
       "\u001b[95m│\u001b[0m                                                                              \u001b[95m│\u001b[0m\n",
       "\u001b[95m│\u001b[0m \u001b[1mSearching for recent AI news\u001b[0m                                                 \u001b[95m│\u001b[0m\n",
       "\u001b[95m│\u001b[0m                                                                              \u001b[95m│\u001b[0m\n",
       "\u001b[95m│\u001b[0m The user is asking for recent news about AI. Since my last knowledge cut-off \u001b[95m│\u001b[0m\n",
       "\u001b[95m│\u001b[0m was June 2024, I need to use the web search tool to find current stories.    \u001b[95m│\u001b[0m\n",
       "\u001b[95m│\u001b[0m I’ll query for news from September 2025 and summarize key topics, like major \u001b[95m│\u001b[0m\n",
       "\u001b[95m│\u001b[0m releases from companies such as OpenAI and Google, regulations, new models,  \u001b[95m│\u001b[0m\n",
       "\u001b[95m│\u001b[0m NVIDIA updates, and AI safety advancements. It makes sense to search for “AI \u001b[95m│\u001b[0m\n",
       "\u001b[95m│\u001b[0m news September 2025” as we're now on October 1, 2025. Let's proceed with the \u001b[95m│\u001b[0m\n",
       "\u001b[95m│\u001b[0m search!                                                                      \u001b[95m│\u001b[0m\n",
       "\u001b[95m╰──────────────────────────────────────────────────────────────────────────────╯\u001b[0m\n"
      ]
     },
     "metadata": {},
     "output_type": "display_data"
    },
    {
     "name": "stdout",
     "output_type": "stream",
     "text": [
      "Start message receiveddata: {\"type\":\"start\",\"index\":null,\"parent_task_message\":{\"id\":\"68ddbf2454b21893aff2d7b6\",\"task_id\":\"275dedaa-5f65-44be-bba4-299cf0ea9d4c\",\"content\":{\"type\":\"tool_request\",\"author\":\"agent\",\"style\":\"static\",\"tool_call_id\":\"call_ZFjEMgHAjVg4c7Xj9UQ2lJ6O\",\"name\":\"openai_web_search\",\"arguments\":{\"input\":\"recent AI news September 2025 October 1 2025 OpenAI Google DeepMind Anthropic Microsoft NVIDIA EU AI Act US AI regulation major announcements\",\"model\":\"gpt-5\",\"reasoning_effort\":\"medium\",\"type\":\"web_search_preview_2025_03_11\",\"search_context_size\":\"high\"}},\"streaming_status\":\"IN_PROGRESS\",\"created_at\":\"2025-10-01T23:54:12.601365Z\",\"updated_at\":\"2025-10-01T23:54:12.601365Z\"},\"content\":{\"type\":\"tool_request\",\"author\":\"agent\",\"style\":\"static\",\"tool_call_id\":\"call_ZFjEMgHAjVg4c7Xj9UQ2lJ6O\",\"name\":\"openai_web_search\",\"arguments\":{\"input\":\"recent AI news September 2025 October 1 2025 OpenAI Google DeepMind Anthropic Microsoft NVIDIA EU AI Act US AI regulation major announcements\",\"model\":\"gpt-5\",\"reasoning_effort\":\"medium\",\"type\":\"web_search_preview_2025_03_11\",\"search_context_size\":\"high\"}}}\n",
      "\n",
      "\n",
      "⠋ 🔄 Agent responding...Full message receiveddata: {\"type\":\"full\",\"index\":null,\"parent_task_message\":{\"id\":\"68ddbf2454b21893aff2d7b6\",\"task_id\":\"275dedaa-5f65-44be-bba4-299cf0ea9d4c\",\"content\":{\"type\":\"tool_request\",\"author\":\"agent\",\"style\":\"static\",\"tool_call_id\":\"call_ZFjEMgHAjVg4c7Xj9UQ2lJ6O\",\"name\":\"openai_web_search\",\"arguments\":{\"input\":\"recent AI news September 2025 October 1 2025 OpenAI Google DeepMind Anthropic Microsoft NVIDIA EU AI Act US AI regulation major announcements\",\"model\":\"gpt-5\",\"reasoning_effort\":\"medium\",\"type\":\"web_search_preview_2025_03_11\",\"search_context_size\":\"high\"}},\"streaming_status\":\"IN_PROGRESS\",\"created_at\":\"2025-10-01T23:54:12.601365Z\",\"updated_at\":\"2025-10-01T23:54:12.601365Z\"},\"content\":{\"type\":\"tool_request\",\"author\":\"agent\",\"style\":\"static\",\"tool_call_id\":\"call_ZFjEMgHAjVg4c7Xj9UQ2lJ6O\",\"name\":\"openai_web_search\",\"arguments\":{\"input\":\"recent AI news September 2025 October 1 2025 OpenAI Google DeepMind Anthropic Microsoft NVIDIA EU AI Act US AI regulation major announcements\",\"model\":\"gpt-5\",\"reasoning_effort\":\"medium\",\"type\":\"web_search_preview_2025_03_11\",\"search_context_size\":\"high\"}}}\n",
      "\n",
      "\n",
      "                        \n"
     ]
    },
    {
     "data": {
      "text/html": [
       "<pre style=\"white-space:pre;overflow-x:auto;line-height:normal;font-family:Menlo,'DejaVu Sans Mono',consolas,'Courier New',monospace\"><span style=\"color: #808000; text-decoration-color: #808000\">╭──────────────────────── </span><span style=\"color: #008000; text-decoration-color: #008000; font-weight: bold\">AGENT</span><span style=\"color: #808000; text-decoration-color: #808000\"> [10/01/2025 23:54:12] ─────────────────────────╮</span>\n",
       "<span style=\"color: #808000; text-decoration-color: #808000\">│</span> 🔧 <span style=\"font-weight: bold\">Tool Request: openai_web_search</span>                                           <span style=\"color: #808000; text-decoration-color: #808000\">│</span>\n",
       "<span style=\"color: #808000; text-decoration-color: #808000\">│</span>                                                                              <span style=\"color: #808000; text-decoration-color: #808000\">│</span>\n",
       "<span style=\"color: #808000; text-decoration-color: #808000\">│</span> <span style=\"font-weight: bold\">Arguments:</span>                                                                   <span style=\"color: #808000; text-decoration-color: #808000\">│</span>\n",
       "<span style=\"color: #808000; text-decoration-color: #808000\">│</span>                                                                              <span style=\"color: #808000; text-decoration-color: #808000\">│</span>\n",
       "<span style=\"color: #808000; text-decoration-color: #808000\">│</span> <span style=\"background-color: #272822\">                                                                            </span> <span style=\"color: #808000; text-decoration-color: #808000\">│</span>\n",
       "<span style=\"color: #808000; text-decoration-color: #808000\">│</span> <span style=\"background-color: #272822\"> </span><span style=\"color: #f8f8f2; text-decoration-color: #f8f8f2; background-color: #272822\">{</span><span style=\"background-color: #272822\">                                                                          </span> <span style=\"color: #808000; text-decoration-color: #808000\">│</span>\n",
       "<span style=\"color: #808000; text-decoration-color: #808000\">│</span> <span style=\"background-color: #272822\"> </span><span style=\"color: #f8f8f2; text-decoration-color: #f8f8f2; background-color: #272822\">  </span><span style=\"color: #ff4689; text-decoration-color: #ff4689; background-color: #272822\">\"input\"</span><span style=\"color: #f8f8f2; text-decoration-color: #f8f8f2; background-color: #272822\">: </span><span style=\"color: #e6db74; text-decoration-color: #e6db74; background-color: #272822\">\"recent AI news September 2025 October 1 2025 OpenAI Google </span><span style=\"background-color: #272822\">    </span> <span style=\"color: #808000; text-decoration-color: #808000\">│</span>\n",
       "<span style=\"color: #808000; text-decoration-color: #808000\">│</span> <span style=\"background-color: #272822\"> </span><span style=\"color: #e6db74; text-decoration-color: #e6db74; background-color: #272822\">DeepMind Anthropic Microsoft NVIDIA EU AI Act US AI regulation major </span><span style=\"background-color: #272822\">      </span> <span style=\"color: #808000; text-decoration-color: #808000\">│</span>\n",
       "<span style=\"color: #808000; text-decoration-color: #808000\">│</span> <span style=\"background-color: #272822\"> </span><span style=\"color: #e6db74; text-decoration-color: #e6db74; background-color: #272822\">announcements\"</span><span style=\"color: #f8f8f2; text-decoration-color: #f8f8f2; background-color: #272822\">,</span><span style=\"background-color: #272822\">                                                            </span> <span style=\"color: #808000; text-decoration-color: #808000\">│</span>\n",
       "<span style=\"color: #808000; text-decoration-color: #808000\">│</span> <span style=\"background-color: #272822\"> </span><span style=\"color: #f8f8f2; text-decoration-color: #f8f8f2; background-color: #272822\">  </span><span style=\"color: #ff4689; text-decoration-color: #ff4689; background-color: #272822\">\"model\"</span><span style=\"color: #f8f8f2; text-decoration-color: #f8f8f2; background-color: #272822\">: </span><span style=\"color: #e6db74; text-decoration-color: #e6db74; background-color: #272822\">\"gpt-5\"</span><span style=\"color: #f8f8f2; text-decoration-color: #f8f8f2; background-color: #272822\">,</span><span style=\"background-color: #272822\">                                                        </span> <span style=\"color: #808000; text-decoration-color: #808000\">│</span>\n",
       "<span style=\"color: #808000; text-decoration-color: #808000\">│</span> <span style=\"background-color: #272822\"> </span><span style=\"color: #f8f8f2; text-decoration-color: #f8f8f2; background-color: #272822\">  </span><span style=\"color: #ff4689; text-decoration-color: #ff4689; background-color: #272822\">\"reasoning_effort\"</span><span style=\"color: #f8f8f2; text-decoration-color: #f8f8f2; background-color: #272822\">: </span><span style=\"color: #e6db74; text-decoration-color: #e6db74; background-color: #272822\">\"medium\"</span><span style=\"color: #f8f8f2; text-decoration-color: #f8f8f2; background-color: #272822\">,</span><span style=\"background-color: #272822\">                                            </span> <span style=\"color: #808000; text-decoration-color: #808000\">│</span>\n",
       "<span style=\"color: #808000; text-decoration-color: #808000\">│</span> <span style=\"background-color: #272822\"> </span><span style=\"color: #f8f8f2; text-decoration-color: #f8f8f2; background-color: #272822\">  </span><span style=\"color: #ff4689; text-decoration-color: #ff4689; background-color: #272822\">\"type\"</span><span style=\"color: #f8f8f2; text-decoration-color: #f8f8f2; background-color: #272822\">: </span><span style=\"color: #e6db74; text-decoration-color: #e6db74; background-color: #272822\">\"web_search_preview_2025_03_11\"</span><span style=\"color: #f8f8f2; text-decoration-color: #f8f8f2; background-color: #272822\">,</span><span style=\"background-color: #272822\">                                 </span> <span style=\"color: #808000; text-decoration-color: #808000\">│</span>\n",
       "<span style=\"color: #808000; text-decoration-color: #808000\">│</span> <span style=\"background-color: #272822\"> </span><span style=\"color: #f8f8f2; text-decoration-color: #f8f8f2; background-color: #272822\">  </span><span style=\"color: #ff4689; text-decoration-color: #ff4689; background-color: #272822\">\"search_context_size\"</span><span style=\"color: #f8f8f2; text-decoration-color: #f8f8f2; background-color: #272822\">: </span><span style=\"color: #e6db74; text-decoration-color: #e6db74; background-color: #272822\">\"high\"</span><span style=\"background-color: #272822\">                                            </span> <span style=\"color: #808000; text-decoration-color: #808000\">│</span>\n",
       "<span style=\"color: #808000; text-decoration-color: #808000\">│</span> <span style=\"background-color: #272822\"> </span><span style=\"color: #f8f8f2; text-decoration-color: #f8f8f2; background-color: #272822\">}</span><span style=\"background-color: #272822\">                                                                          </span> <span style=\"color: #808000; text-decoration-color: #808000\">│</span>\n",
       "<span style=\"color: #808000; text-decoration-color: #808000\">│</span> <span style=\"background-color: #272822\">                                                                            </span> <span style=\"color: #808000; text-decoration-color: #808000\">│</span>\n",
       "<span style=\"color: #808000; text-decoration-color: #808000\">╰──────────────────────────────────────────────────────────────────────────────╯</span>\n",
       "</pre>\n"
      ],
      "text/plain": [
       "\u001b[33m╭─\u001b[0m\u001b[33m───────────────────────\u001b[0m\u001b[33m \u001b[0m\u001b[1;32mAGENT\u001b[0m\u001b[33m [10/01/2025 23:54:12] \u001b[0m\u001b[33m────────────────────────\u001b[0m\u001b[33m─╮\u001b[0m\n",
       "\u001b[33m│\u001b[0m 🔧 \u001b[1mTool Request: openai_web_search\u001b[0m                                           \u001b[33m│\u001b[0m\n",
       "\u001b[33m│\u001b[0m                                                                              \u001b[33m│\u001b[0m\n",
       "\u001b[33m│\u001b[0m \u001b[1mArguments:\u001b[0m                                                                   \u001b[33m│\u001b[0m\n",
       "\u001b[33m│\u001b[0m                                                                              \u001b[33m│\u001b[0m\n",
       "\u001b[33m│\u001b[0m \u001b[48;2;39;40;34m                                                                            \u001b[0m \u001b[33m│\u001b[0m\n",
       "\u001b[33m│\u001b[0m \u001b[48;2;39;40;34m \u001b[0m\u001b[38;2;248;248;242;48;2;39;40;34m{\u001b[0m\u001b[48;2;39;40;34m                                                                         \u001b[0m\u001b[48;2;39;40;34m \u001b[0m \u001b[33m│\u001b[0m\n",
       "\u001b[33m│\u001b[0m \u001b[48;2;39;40;34m \u001b[0m\u001b[38;2;248;248;242;48;2;39;40;34m  \u001b[0m\u001b[38;2;255;70;137;48;2;39;40;34m\"input\"\u001b[0m\u001b[38;2;248;248;242;48;2;39;40;34m:\u001b[0m\u001b[38;2;248;248;242;48;2;39;40;34m \u001b[0m\u001b[38;2;230;219;116;48;2;39;40;34m\"recent AI news September 2025 October 1 2025 OpenAI Google \u001b[0m\u001b[48;2;39;40;34m   \u001b[0m\u001b[48;2;39;40;34m \u001b[0m \u001b[33m│\u001b[0m\n",
       "\u001b[33m│\u001b[0m \u001b[48;2;39;40;34m \u001b[0m\u001b[38;2;230;219;116;48;2;39;40;34mDeepMind Anthropic Microsoft NVIDIA EU AI Act US AI regulation major \u001b[0m\u001b[48;2;39;40;34m     \u001b[0m\u001b[48;2;39;40;34m \u001b[0m \u001b[33m│\u001b[0m\n",
       "\u001b[33m│\u001b[0m \u001b[48;2;39;40;34m \u001b[0m\u001b[38;2;230;219;116;48;2;39;40;34mannouncements\"\u001b[0m\u001b[38;2;248;248;242;48;2;39;40;34m,\u001b[0m\u001b[48;2;39;40;34m                                                           \u001b[0m\u001b[48;2;39;40;34m \u001b[0m \u001b[33m│\u001b[0m\n",
       "\u001b[33m│\u001b[0m \u001b[48;2;39;40;34m \u001b[0m\u001b[38;2;248;248;242;48;2;39;40;34m  \u001b[0m\u001b[38;2;255;70;137;48;2;39;40;34m\"model\"\u001b[0m\u001b[38;2;248;248;242;48;2;39;40;34m:\u001b[0m\u001b[38;2;248;248;242;48;2;39;40;34m \u001b[0m\u001b[38;2;230;219;116;48;2;39;40;34m\"gpt-5\"\u001b[0m\u001b[38;2;248;248;242;48;2;39;40;34m,\u001b[0m\u001b[48;2;39;40;34m                                                       \u001b[0m\u001b[48;2;39;40;34m \u001b[0m \u001b[33m│\u001b[0m\n",
       "\u001b[33m│\u001b[0m \u001b[48;2;39;40;34m \u001b[0m\u001b[38;2;248;248;242;48;2;39;40;34m  \u001b[0m\u001b[38;2;255;70;137;48;2;39;40;34m\"reasoning_effort\"\u001b[0m\u001b[38;2;248;248;242;48;2;39;40;34m:\u001b[0m\u001b[38;2;248;248;242;48;2;39;40;34m \u001b[0m\u001b[38;2;230;219;116;48;2;39;40;34m\"medium\"\u001b[0m\u001b[38;2;248;248;242;48;2;39;40;34m,\u001b[0m\u001b[48;2;39;40;34m                                           \u001b[0m\u001b[48;2;39;40;34m \u001b[0m \u001b[33m│\u001b[0m\n",
       "\u001b[33m│\u001b[0m \u001b[48;2;39;40;34m \u001b[0m\u001b[38;2;248;248;242;48;2;39;40;34m  \u001b[0m\u001b[38;2;255;70;137;48;2;39;40;34m\"type\"\u001b[0m\u001b[38;2;248;248;242;48;2;39;40;34m:\u001b[0m\u001b[38;2;248;248;242;48;2;39;40;34m \u001b[0m\u001b[38;2;230;219;116;48;2;39;40;34m\"web_search_preview_2025_03_11\"\u001b[0m\u001b[38;2;248;248;242;48;2;39;40;34m,\u001b[0m\u001b[48;2;39;40;34m                                \u001b[0m\u001b[48;2;39;40;34m \u001b[0m \u001b[33m│\u001b[0m\n",
       "\u001b[33m│\u001b[0m \u001b[48;2;39;40;34m \u001b[0m\u001b[38;2;248;248;242;48;2;39;40;34m  \u001b[0m\u001b[38;2;255;70;137;48;2;39;40;34m\"search_context_size\"\u001b[0m\u001b[38;2;248;248;242;48;2;39;40;34m:\u001b[0m\u001b[38;2;248;248;242;48;2;39;40;34m \u001b[0m\u001b[38;2;230;219;116;48;2;39;40;34m\"high\"\u001b[0m\u001b[48;2;39;40;34m                                           \u001b[0m\u001b[48;2;39;40;34m \u001b[0m \u001b[33m│\u001b[0m\n",
       "\u001b[33m│\u001b[0m \u001b[48;2;39;40;34m \u001b[0m\u001b[38;2;248;248;242;48;2;39;40;34m}\u001b[0m\u001b[48;2;39;40;34m                                                                         \u001b[0m\u001b[48;2;39;40;34m \u001b[0m \u001b[33m│\u001b[0m\n",
       "\u001b[33m│\u001b[0m \u001b[48;2;39;40;34m                                                                            \u001b[0m \u001b[33m│\u001b[0m\n",
       "\u001b[33m╰──────────────────────────────────────────────────────────────────────────────╯\u001b[0m\n"
      ]
     },
     "metadata": {},
     "output_type": "display_data"
    }
   ],
   "source": [
    "# Subscribe to the async task messages produced by the agent\n",
    "from agentex.lib.utils.dev_tools import subscribe_to_async_task_messages\n",
    "\n",
    "task_messages = subscribe_to_async_task_messages(\n",
    "    client=client,\n",
    "    task=task, \n",
    "    only_after_timestamp=event.created_at, \n",
    "    print_messages=True,\n",
    "    rich_print=True,\n",
    "    timeout=600,\n",
    ")"
   ]
  }
 ],
 "metadata": {
  "kernelspec": {
   "display_name": ".venv",
   "language": "python",
   "name": "python3"
  },
  "language_info": {
   "codemirror_mode": {
    "name": "ipython",
    "version": 3
   },
   "file_extension": ".py",
   "mimetype": "text/x-python",
   "name": "python",
   "nbconvert_exporter": "python",
   "pygments_lexer": "ipython3",
   "version": "3.12.11"
  }
 },
 "nbformat": 4,
 "nbformat_minor": 5
}
