{
  "cells": [
    {
      "cell_type": "code",
      "execution_count": null,
      "metadata": {},
      "outputs": [],
      "source": [
        "from agentex import Agentex\n",
        "\n",
        "client = Agentex(base_url=\"http://localhost:5003\")\n"
      ]
    },
    {
      "cell_type": "code",
      "execution_count": null,
      "metadata": {},
      "outputs": [],
      "source": [
        "AGENT_NAME = \"at030-oai-deep-research\"\n"
      ]
    },
    {
      "cell_type": "code",
      "execution_count": null,
      "metadata": {},
      "outputs": [],
      "source": [
        "# (REQUIRED) Create a new task. For Agentic agents, you must create a task for messages to be associated with.\n",
        "import uuid\n",
        "\n",
        "rpc_response = client.agents.create_task(\n",
        "    agent_name=AGENT_NAME,\n",
        "    params={\n",
        "        \"name\": f\"{str(uuid.uuid4())[:8]}-task\",\n",
        "        \"params\": {}\n",
        "    }\n",
        ")\n",
        "\n",
        "task = rpc_response.result\n",
        "print(task)\n"
      ]
    },
    {
      "cell_type": "code",
      "execution_count": null,
      "metadata": {},
      "outputs": [],
      "source": [
        "# Send an event to the agent\n",
        "\n",
        "# The response is expected to be a list of TaskMessage objects, which is a union of the following types:\n",
        "# - TextContent: A message with just text content   \n",
        "# - DataContent: A message with JSON-serializable data content\n",
        "# - ToolRequestContent: A message with a tool request, which contains a JSON-serializable request to call a tool\n",
        "# - ToolResponseContent: A message with a tool response, which contains response object from a tool call in its content\n",
        "\n",
        "# When processing the message/send response, if you are expecting more than TextContent, such as DataContent, ToolRequestContent, or ToolResponseContent, you can process them as well\n",
        "\n",
        "rpc_response = client.agents.send_event(\n",
        "    agent_name=AGENT_NAME,\n",
        "    params={\n",
        "        \"content\": {\"type\": \"text\", \"author\": \"user\", \"content\": \"I want to research the latest developments in artificial intelligence and machine learning\"},\n",
        "        \"task_id\": task.id,\n",
        "    }\n",
        ")\n",
        "\n",
        "event = rpc_response.result\n",
        "print(event)\n"
      ]
    },
    {
      "cell_type": "code",
      "execution_count": null,
      "metadata": {},
      "outputs": [],
      "source": [
        "# Subscribe to the async task messages produced by the agent\n",
        "from agentex.lib.utils.dev_tools import subscribe_to_async_task_messages\n",
        "\n",
        "task_messages = subscribe_to_async_task_messages(\n",
        "    client=client,\n",
        "    task=task, \n",
        "    only_after_timestamp=event.created_at, \n",
        "    print_messages=True,\n",
        "    rich_print=True,\n",
        "    timeout=10,  # Short timeout for clarifying questions\n",
        ")\n"
      ]
    },
    {
      "cell_type": "code",
      "execution_count": null,
      "metadata": {},
      "outputs": [],
      "source": [
        "# Respond to clarifying questions from the agent\n",
        "# Replace this content with your actual response to the clarifying questions\n",
        "\n",
        "clarification_response = \"\"\"I'm specifically interested in:\n",
        "1. Recent breakthroughs in large language models like GPT-4, Claude, and Gemini\n",
        "2. Advances in computer vision and image generation models \n",
        "3. New developments in AI safety and alignment research\n",
        "4. Applications of AI in scientific research and drug discovery\n",
        "5. The latest funding rounds and company acquisitions in the AI space\n",
        "\n",
        "I want a comprehensive report that covers both technical advances and business/industry developments from the past 6 months.\"\"\"\n",
        "\n",
        "rpc_response = client.agents.send_event(\n",
        "    agent_name=AGENT_NAME,\n",
        "    params={\n",
        "        \"content\": {\"type\": \"text\", \"author\": \"user\", \"content\": clarification_response},\n",
        "        \"task_id\": task.id,\n",
        "    }\n",
        ")\n",
        "\n",
        "event = rpc_response.result\n",
        "print(event)\n"
      ]
    },
    {
      "cell_type": "code",
      "execution_count": null,
      "metadata": {},
      "outputs": [],
      "source": [
        "# Subscribe to messages after clarification response\n",
        "from agentex.lib.utils.dev_tools import subscribe_to_async_task_messages\n",
        "\n",
        "task_messages = subscribe_to_async_task_messages(\n",
        "    client=client,\n",
        "    task=task, \n",
        "    only_after_timestamp=event.created_at, \n",
        "    print_messages=True,\n",
        "    rich_print=True,\n",
        "    timeout=60,  # Longer timeout for deep research\n",
        ")\n"
      ]
    },
    {
      "cell_type": "code",
      "execution_count": null,
      "metadata": {},
      "outputs": [],
      "source": [
        "# Ask a follow-up question after the research is complete\n",
        "follow_up_question = \"Can you provide more details about the specific AI safety techniques that have been developed recently?\"\n",
        "\n",
        "rpc_response = client.agents.send_event(\n",
        "    agent_name=AGENT_NAME,\n",
        "    params={\n",
        "        \"content\": {\"type\": \"text\", \"author\": \"user\", \"content\": follow_up_question},\n",
        "        \"task_id\": task.id,\n",
        "    }\n",
        ")\n",
        "\n",
        "event = rpc_response.result\n",
        "print(event)\n"
      ]
    },
    {
      "cell_type": "code",
      "execution_count": null,
      "metadata": {},
      "outputs": [],
      "source": [
        "# Subscribe to follow-up response\n",
        "task_messages = subscribe_to_async_task_messages(\n",
        "    client=client,\n",
        "    task=task, \n",
        "    only_after_timestamp=event.created_at, \n",
        "    print_messages=True,\n",
        "    rich_print=True,\n",
        "    timeout=60,\n",
        ")\n"
      ]
    },
    {
      "cell_type": "code",
      "execution_count": null,
      "metadata": {},
      "outputs": [],
      "source": [
        "# Send responses to clarifying questions\n",
        "# The agent will ask 2-3 questions - answer them one by one\n",
        "\n",
        "# First clarification response\n",
        "rpc_response = client.agents.send_event(\n",
        "    agent_name=AGENT_NAME,\n",
        "    params={\n",
        "        \"content\": {\"type\": \"text\", \"author\": \"user\", \"content\": \"I'm interested in recent hardware developments and companies working on quantum processors.\"},\n",
        "        \"task_id\": task.id,\n",
        "    }\n",
        ")\n",
        "\n",
        "event = rpc_response.result\n",
        "print(event)\n"
      ]
    },
    {
      "cell_type": "code",
      "execution_count": null,
      "metadata": {},
      "outputs": [],
      "source": [
        "# Subscribe to see the next clarifying question or research starting\n",
        "task_messages = subscribe_to_async_task_messages(\n",
        "    client=client,\n",
        "    task=task, \n",
        "    only_after_timestamp=event.created_at, \n",
        "    print_messages=True,\n",
        "    rich_print=True,\n",
        "    timeout=10,\n",
        ")\n"
      ]
    },
    {
      "cell_type": "code",
      "execution_count": null,
      "metadata": {},
      "outputs": [],
      "source": [
        "# Second clarification response (if asked)\n",
        "rpc_response = client.agents.send_event(\n",
        "    agent_name=AGENT_NAME,\n",
        "    params={\n",
        "        \"content\": {\"type\": \"text\", \"author\": \"user\", \"content\": \"Yes, I want to know about breakthroughs from 2024-2025, especially around error correction and qubit stability.\"},\n",
        "        \"task_id\": task.id,\n",
        "    }\n",
        ")\n",
        "\n",
        "event = rpc_response.result\n",
        "print(event)\n"
      ]
    },
    {
      "cell_type": "code",
      "execution_count": null,
      "metadata": {},
      "outputs": [],
      "source": [
        "# Subscribe to see the deep research results\n",
        "# This will take longer as the agent performs multiple searches\n",
        "task_messages = subscribe_to_async_task_messages(\n",
        "    client=client,\n",
        "    task=task, \n",
        "    only_after_timestamp=event.created_at, \n",
        "    print_messages=True,\n",
        "    rich_print=True,\n",
        "    timeout=60,  # Longer timeout for deep research\n",
        ")\n"
      ]
    },
    {
      "cell_type": "code",
      "execution_count": null,
      "metadata": {},
      "outputs": [],
      "source": [
        "# Optional: Ask a follow-up question after seeing the research\n",
        "rpc_response = client.agents.send_event(\n",
        "    agent_name=AGENT_NAME,\n",
        "    params={\n",
        "        \"content\": {\"type\": \"text\", \"author\": \"user\", \"content\": \"Can you tell me more about IBM's recent quantum developments?\"},\n",
        "        \"task_id\": task.id,\n",
        "    }\n",
        ")\n",
        "\n",
        "event = rpc_response.result\n",
        "\n",
        "# Subscribe to see the follow-up research\n",
        "task_messages = subscribe_to_async_task_messages(\n",
        "    client=client,\n",
        "    task=task, \n",
        "    only_after_timestamp=event.created_at, \n",
        "    print_messages=True,\n",
        "    rich_print=True,\n",
        "    timeout=60,\n",
        ")\n"
      ]
    }
  ],
  "metadata": {
    "language_info": {
      "name": "python"
    }
  },
  "nbformat": 4,
  "nbformat_minor": 2
}
