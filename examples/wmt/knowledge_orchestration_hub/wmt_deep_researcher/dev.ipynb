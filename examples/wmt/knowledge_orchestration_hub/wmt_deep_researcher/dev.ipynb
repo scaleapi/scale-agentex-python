{
 "cells": [
  {
   "cell_type": "code",
   "execution_count": 7,
   "id": "36834357",
   "metadata": {},
   "outputs": [],
   "source": [
    "from agentex import Agentex\n",
    "\n",
    "client = Agentex(base_url=\"http://localhost:5003\")"
   ]
  },
  {
   "cell_type": "code",
   "execution_count": 8,
   "id": "d1c309d6",
   "metadata": {},
   "outputs": [],
   "source": [
    "AGENT_NAME = \"wmt-deep-researcher\""
   ]
  },
  {
   "cell_type": "code",
   "execution_count": 9,
   "id": "9f6e6ef0",
   "metadata": {},
   "outputs": [
    {
     "name": "stdout",
     "output_type": "stream",
     "text": [
      "Task(id='17d2f081-9121-484f-a412-7d2d25ad8ec2', created_at=datetime.datetime(2025, 8, 15, 18, 19, 34, 347742, tzinfo=TzInfo(UTC)), name='fe521e55-task', status='RUNNING', status_reason='Task created, forwarding to ACP server', updated_at=datetime.datetime(2025, 8, 15, 18, 19, 34, 347742, tzinfo=TzInfo(UTC)))\n"
     ]
    }
   ],
   "source": [
    "# (REQUIRED) Create a new task. For Agentic agents, you must create a task for messages to be associated with.\n",
    "import uuid\n",
    "\n",
    "rpc_response = client.agents.create_task(\n",
    "    agent_name=AGENT_NAME,\n",
    "    params={\n",
    "        \"name\": f\"{str(uuid.uuid4())[:8]}-task\",\n",
    "        \"params\": {}\n",
    "    }\n",
    ")\n",
    "\n",
    "task = rpc_response.result\n",
    "print(task)"
   ]
  },
  {
   "cell_type": "code",
   "execution_count": 10,
   "id": "b03b0d37",
   "metadata": {},
   "outputs": [
    {
     "name": "stdout",
     "output_type": "stream",
     "text": [
      "Event(id='fdb983cb-5c78-4247-b997-11f6f02d1e33', agent_id='62ae907a-0ef3-4c7e-974d-69fd536dc474', sequence_id=85, task_id='17d2f081-9121-484f-a412-7d2d25ad8ec2', content=TextContent(author='user', content='Tell me about litellm and how our company uses it for llm serving', attachments=None, format='plain', style='static', type='text'), created_at=datetime.datetime(2025, 8, 15, 18, 19, 34, 396054, tzinfo=TzInfo(UTC)))\n"
     ]
    }
   ],
   "source": [
    "# Send an event to the agent\n",
    "\n",
    "# The response is expected to be a list of TaskMessage objects, which is a union of the following types:\n",
    "# - TextContent: A message with just text content   \n",
    "# - DataContent: A message with JSON-serializable data content\n",
    "# - ToolRequestContent: A message with a tool request, which contains a JSON-serializable request to call a tool\n",
    "# - ToolResponseContent: A message with a tool response, which contains response object from a tool call in its content\n",
    "\n",
    "# When processing the message/send response, if you are expecting more than TextContent, such as DataContent, ToolRequestContent, or ToolResponseContent, you can process them as well\n",
    "\n",
    "rpc_response = client.agents.send_event(\n",
    "    agent_name=AGENT_NAME,\n",
    "    params={\n",
    "        \"content\": {\"type\": \"text\", \"author\": \"user\", \"content\": \"Tell me about litellm and how our company uses it for llm serving\"},\n",
    "        \"task_id\": task.id,\n",
    "    }\n",
    ")\n",
    "\n",
    "event = rpc_response.result\n",
    "print(event)"
   ]
  },
  {
   "cell_type": "code",
   "execution_count": 11,
   "id": "a6927cc0",
   "metadata": {},
   "outputs": [
    {
     "ename": "ModuleNotFoundError",
     "evalue": "No module named 'yaspin'",
     "output_type": "error",
     "traceback": [
      "\u001b[31m---------------------------------------------------------------------------\u001b[39m",
      "\u001b[31mModuleNotFoundError\u001b[39m                       Traceback (most recent call last)",
      "\u001b[36mCell\u001b[39m\u001b[36m \u001b[39m\u001b[32mIn[11]\u001b[39m\u001b[32m, line 2\u001b[39m\n\u001b[32m      1\u001b[39m \u001b[38;5;66;03m# Subscribe to the async task messages produced by the agent\u001b[39;00m\n\u001b[32m----> \u001b[39m\u001b[32m2\u001b[39m \u001b[38;5;28;01mfrom\u001b[39;00m \u001b[34;01magentex\u001b[39;00m\u001b[34;01m.\u001b[39;00m\u001b[34;01mlib\u001b[39;00m\u001b[34;01m.\u001b[39;00m\u001b[34;01mutils\u001b[39;00m\u001b[34;01m.\u001b[39;00m\u001b[34;01mdev_tools\u001b[39;00m \u001b[38;5;28;01mimport\u001b[39;00m subscribe_to_async_task_messages\n\u001b[32m      4\u001b[39m task_messages = subscribe_to_async_task_messages(\n\u001b[32m      5\u001b[39m     client=client,\n\u001b[32m      6\u001b[39m     task=task, \n\u001b[32m   (...)\u001b[39m\u001b[32m     10\u001b[39m     timeout=\u001b[32m5\u001b[39m,\n\u001b[32m     11\u001b[39m )\n",
      "\u001b[36mFile \u001b[39m\u001b[32m~/agentex-python/src/agentex/lib/utils/dev_tools/__init__.py:3\u001b[39m\n\u001b[32m      1\u001b[39m \u001b[33;03m\"\"\"Development tools for AgentEx.\"\"\"\u001b[39;00m\n\u001b[32m----> \u001b[39m\u001b[32m3\u001b[39m \u001b[38;5;28;01mfrom\u001b[39;00m \u001b[34;01m.\u001b[39;00m\u001b[34;01masync_messages\u001b[39;00m \u001b[38;5;28;01mimport\u001b[39;00m print_task_message, print_task_message_update, subscribe_to_async_task_messages\n\u001b[32m      5\u001b[39m __all__ = [\n\u001b[32m      6\u001b[39m     \u001b[33m\"\u001b[39m\u001b[33mprint_task_message\u001b[39m\u001b[33m\"\u001b[39m,\n\u001b[32m      7\u001b[39m     \u001b[33m\"\u001b[39m\u001b[33mprint_task_message_update\u001b[39m\u001b[33m\"\u001b[39m, \n\u001b[32m      8\u001b[39m     \u001b[33m\"\u001b[39m\u001b[33msubscribe_to_async_task_messages\u001b[39m\u001b[33m\"\u001b[39m,\n\u001b[32m      9\u001b[39m ]\n",
      "\u001b[36mFile \u001b[39m\u001b[32m~/agentex-python/src/agentex/lib/utils/dev_tools/async_messages.py:12\u001b[39m\n\u001b[32m      9\u001b[39m \u001b[38;5;28;01mfrom\u001b[39;00m \u001b[34;01mdatetime\u001b[39;00m \u001b[38;5;28;01mimport\u001b[39;00m datetime, timezone\n\u001b[32m     10\u001b[39m \u001b[38;5;28;01mfrom\u001b[39;00m \u001b[34;01mtyping\u001b[39;00m \u001b[38;5;28;01mimport\u001b[39;00m List, Optional\n\u001b[32m---> \u001b[39m\u001b[32m12\u001b[39m \u001b[38;5;28;01mfrom\u001b[39;00m \u001b[34;01myaspin\u001b[39;00m\u001b[34;01m.\u001b[39;00m\u001b[34;01mcore\u001b[39;00m \u001b[38;5;28;01mimport\u001b[39;00m Yaspin\n\u001b[32m     14\u001b[39m \u001b[38;5;28;01mfrom\u001b[39;00m \u001b[34;01magentex\u001b[39;00m \u001b[38;5;28;01mimport\u001b[39;00m Agentex\n\u001b[32m     15\u001b[39m \u001b[38;5;28;01mfrom\u001b[39;00m \u001b[34;01magentex\u001b[39;00m\u001b[34;01m.\u001b[39;00m\u001b[34;01mtypes\u001b[39;00m \u001b[38;5;28;01mimport\u001b[39;00m Task, TaskMessage, TextContent, ToolRequestContent, ToolResponseContent\n",
      "\u001b[31mModuleNotFoundError\u001b[39m: No module named 'yaspin'"
     ]
    }
   ],
   "source": [
    "# Subscribe to the async task messages produced by the agent\n",
    "from agentex.lib.utils.dev_tools import subscribe_to_async_task_messages\n",
    "\n",
    "task_messages = subscribe_to_async_task_messages(\n",
    "    client=client,\n",
    "    task=task, \n",
    "    only_after_timestamp=event.created_at, \n",
    "    print_messages=True,\n",
    "    rich_print=True,\n",
    "    timeout=5,\n",
    ")"
   ]
  },
  {
   "cell_type": "code",
   "execution_count": null,
   "id": "4864e354",
   "metadata": {},
   "outputs": [
    {
     "ename": "AttributeError",
     "evalue": "'Task' object has no attribute 'cancel'",
     "output_type": "error",
     "traceback": [
      "\u001b[31m---------------------------------------------------------------------------\u001b[39m",
      "\u001b[31mAttributeError\u001b[39m                            Traceback (most recent call last)",
      "\u001b[36mCell\u001b[39m\u001b[36m \u001b[39m\u001b[32mIn[6]\u001b[39m\u001b[32m, line 1\u001b[39m\n\u001b[32m----> \u001b[39m\u001b[32m1\u001b[39m \u001b[43mtask\u001b[49m\u001b[43m.\u001b[49m\u001b[43mcancel\u001b[49m()\n",
      "\u001b[36mFile \u001b[39m\u001b[32m~/agentex-python/.venv/lib/python3.12/site-packages/pydantic/main.py:892\u001b[39m, in \u001b[36mBaseModel.__getattr__\u001b[39m\u001b[34m(self, item)\u001b[39m\n\u001b[32m    889\u001b[39m     \u001b[38;5;28;01mreturn\u001b[39;00m \u001b[38;5;28msuper\u001b[39m().\u001b[34m__getattribute__\u001b[39m(item)  \u001b[38;5;66;03m# Raises AttributeError if appropriate\u001b[39;00m\n\u001b[32m    890\u001b[39m \u001b[38;5;28;01melse\u001b[39;00m:\n\u001b[32m    891\u001b[39m     \u001b[38;5;66;03m# this is the current error\u001b[39;00m\n\u001b[32m--> \u001b[39m\u001b[32m892\u001b[39m     \u001b[38;5;28;01mraise\u001b[39;00m \u001b[38;5;167;01mAttributeError\u001b[39;00m(\u001b[33mf\u001b[39m\u001b[33m'\u001b[39m\u001b[38;5;132;01m{\u001b[39;00m\u001b[38;5;28mtype\u001b[39m(\u001b[38;5;28mself\u001b[39m).\u001b[34m__name__\u001b[39m\u001b[38;5;132;01m!r}\u001b[39;00m\u001b[33m object has no attribute \u001b[39m\u001b[38;5;132;01m{\u001b[39;00mitem\u001b[38;5;132;01m!r}\u001b[39;00m\u001b[33m'\u001b[39m)\n",
      "\u001b[31mAttributeError\u001b[39m: 'Task' object has no attribute 'cancel'"
     ]
    }
   ],
   "source": []
  }
 ],
 "metadata": {
  "kernelspec": {
   "display_name": ".venv",
   "language": "python",
   "name": "python3"
  },
  "language_info": {
   "codemirror_mode": {
    "name": "ipython",
    "version": 3
   },
   "file_extension": ".py",
   "mimetype": "text/x-python",
   "name": "python",
   "nbconvert_exporter": "python",
   "pygments_lexer": "ipython3",
   "version": "3.12.9"
  }
 },
 "nbformat": 4,
 "nbformat_minor": 5
}
